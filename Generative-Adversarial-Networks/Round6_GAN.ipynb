{
 "cells": [
  {
   "cell_type": "markdown",
   "metadata": {
    "deletable": false,
    "editable": false,
    "nbgrader": {
     "cell_type": "markdown",
     "checksum": "9fc4aeac0eb1833e799c8669500983ce",
     "grade": false,
     "grade_id": "cell-1b3ee98896037d3c",
     "locked": true,
     "schema_version": 3,
     "solution": false,
     "task": false
    }
   },
   "source": [
    "<h1 align=\"center\">Round 6 - Generative Adversarial Networks</h1>\n",
    "\n",
    "\n",
    "This notebook is a part of teaching material for CS-EJ3311 - Deep Learning with Python 13.09.-17.12.2021\\\n",
    "Aalto University (Espoo, Finland)\\\n",
    "fitech.io (Finland)"
   ]
  },
  {
   "cell_type": "markdown",
   "metadata": {
    "deletable": false,
    "editable": false,
    "nbgrader": {
     "cell_type": "markdown",
     "checksum": "52f8dee3fc0a6efdf635a15ad5393cac",
     "grade": false,
     "grade_id": "cell-946e804498fb671b",
     "locked": true,
     "schema_version": 3,
     "solution": false,
     "task": false
    }
   },
   "source": [
    "In this notebook, we introduce our first generative model - Generative Adversarial Networks (GANs). Proposed in the year 2014 by Ian Goodfellow and colleagues, this model quickly gained popularity among deep learning practitioners and the general public due to very impressive results in image generation. Many apps that apply filters changing appearance, age, gender use GANs as their base method. GANs are used to generate realistic and cartoon-like images and videos, can create paintings and music, generate images from text description, and much more.\\\n",
    "First we discuss how generative models differs from models we learned before. We will go through some impressive GANs applications and the basic idea behind this architecture. Next, we will build simple GANs for data and image generation. \n",
    "\n",
    "### Learning goals\n",
    "\n",
    "- understanding the general idea behind GAN and GAN applications\n",
    "- understanding how to build a GAN model \n",
    "- understanding how to train a GAN model \n",
    "\n",
    "### Recommended reading\n",
    "\n",
    "- Chapter 8.5 of \"Deep Learning with Python\" by F.Chollet. available via Aalto library [click here](https://primo.aalto.fi/discovery/search?query=any,contains,deep%20learning%20with%20python&tab=LibraryCatalog&search_scope=MyInstitution&sortby=date_d&vid=358AALTO_INST:VU1&facet=frbrgroupid,include,9062037433404512326&lang=en&offset=0)\n",
    "- Chapter 17 of \"Hands-On Machine Learning with Scikit-Learn, Keras, and TensorFlow\" by Aurélien Géron. available via Aalto library [click here](https://primo.aalto.fi/discovery/search?query=any,contains,Hands-On%20Machine%20Learning%20with%20Scikit-Learn,%20Keras,%20and%20TensorFlow&tab=LibraryCatalog&search_scope=MyInstitution&vid=358AALTO_INST:VU1&lang=en&offset=0)\n",
    "- Chapter 20.10 of \"Deep Learning\" by I.Goodfellow [click here](https://www.deeplearningbook.org)\n",
    "- [\"NIPS 2016 Tutorial: Generative Adversarial Networks\"](https://arxiv.org/pdf/1701.00160.pdf)"
   ]
  },
  {
   "cell_type": "code",
   "execution_count": null,
   "metadata": {
    "deletable": false,
    "editable": false,
    "nbgrader": {
     "cell_type": "code",
     "checksum": "e24ff5a877e96632a9d4f94085fd7717",
     "grade": false,
     "grade_id": "cell-b94ef57b00dcacb3",
     "locked": true,
     "schema_version": 3,
     "solution": false,
     "task": false
    }
   },
   "outputs": [],
   "source": [
    "import numpy as np\n",
    "import tensorflow as tf\n",
    "from tensorflow import keras\n",
    "import matplotlib.pyplot as plt \n",
    "import IPython.display as ipd\n",
    "from IPython.display import IFrame"
   ]
  },
  {
   "cell_type": "markdown",
   "metadata": {
    "deletable": false,
    "editable": false,
    "nbgrader": {
     "cell_type": "markdown",
     "checksum": "1fe55912a150a407bc318bf8c9b81477",
     "grade": false,
     "grade_id": "cell-5b9b1b2d7ca8c04e",
     "locked": true,
     "schema_version": 3,
     "solution": false,
     "task": false
    }
   },
   "source": [
    "## Generative Adversarial Nets\n",
    "\n",
    "So far, our course focused on deep learning methods that predict the label of the datapoint. The label was typically associated with a certain class or category (\"cats\", \"dogs\"). In this round, we will learn about different type of deep learning methods. Instead of classifying data points (e.g., into \"cat\" or \"dog\" images), we tune the ANN to ***produce*** data that is very similar to the training or \"target\" set. Roughly speaking, we want the ANN to learn the statistical properties of the data points in a given training set. If the training set consists of dog images, then we want the ANN to learn how a typical dog image looks like. \n",
    "\n",
    "In a 2014 paper [\"Generative Adversarial Nets\"](https://arxiv.org/pdf/1406.2661.pdf) Ian Goodfellow et al. introduced a generative model inspired by the \"Zero-Sum Game\" principle from game theory. In the \"Zero-Sum Game\" with two palyers, one player's gain is equal to another player's loss, resulting in the net change being zero. In the context of deep learning, players are neural networks, which compete against each other. First ANN is a generator ANN, or simply generator, $G$, which reads in realizations $z^{(i)}$ of a latent (random) vector and generates a datapoint $G(z^{(i)})$. The second ANN, $D$, serves as a discriminator ANN. The discriminator reads in an image and predicts if this image has been obtained from the generator $G$ or from the \"original\" training dataset. The \"fake\" data is the data  $G({z}^{(i)})$ produced by the generator network and the \"real\" data is the training data  ${x}^{(i)}$ we provide to the discriminator $D$. \n",
    "\n",
    "<img src=\"https://i.imgur.com/0vuUsY0.png\"  width=800 />\n",
    "\n",
    "\n",
    "Above you see illustration ([image source](https://stefan-jansen.github.io/machine-learning-for-trading/21_gans_for_synthetic_time_series/)) of Generative Adversarial Network or GAN. First, a random vector is formed by sampling from a normal distribution. This random vector of fixed size is then fed to the generator network. The generator outputs a sample (fake sample or fake data point). Together with real data, fake samples are fed to a discriminator network, which classifies them into two categories: \"fake\" and \"real\".\\\n",
    "Initially, the samples produced by the generator are basically noise and the discriminator easily classifies them as \"fake\". After a few iterations of the SGD algorithm generator's weights are tuned in a such way that it will produce samples that are more similar to the real data.\\\n",
    "When the generator produces samples closely resembling target data, the generator's loss (error) is getting smaller, but the discriminator's loss is getting larger. Thus, the generator is competing against its opponent or adversary (hence, Generative Adversarial Network) and the final goal is to produce such samples, that discriminator will not be able to distinguish from real data and the classification accuracy of the discriminator will be around 0.5 (50% chance). \n",
    "More formally, the algorithm for GANs is described in the paper [\"Generative Adversarial Nets\"](https://arxiv.org/pdf/1406.2661.pdf):\n",
    "\n",
    "<img src=\"../../../coursedata/R6/gan_algo.png\" width=700/>\n",
    "\n",
    "\n",
    "We can see, that there are two distinct parts or phases in the presented algorithm:\n",
    "\n",
    "- Phase 1 Discriminator training\n",
    "\n",
    "1. Fetch batch of real data. \n",
    "2. Sample random vector, feed to the generator to get fake data.\n",
    "3. Feed real and fake data to the discriminator for classification.\n",
    "4. Compute loss and backpropagate the error/loss through **discriminator**. Adjust discriminator's weights.\n",
    "\n",
    "- Phase 2 Generator training\n",
    "\n",
    "1. Sample random vector, feed to the generator to get fake data.\n",
    "3. Feed fake data to the discriminator for classification.\n",
    "4. Compute loss and backpropagate the error/loss through **generator**. Adjust generator's weights.\n",
    "\n",
    "The discriminator is penalized for classifying fake data as \"real\". In contrast, the generator is penalized if the discriminator classified fake data as \"fake\".\\\n",
    "To get more comfortable with the GAN model you can try interactive GAN training at https://poloclub.github.io/ganlab/."
   ]
  },
  {
   "cell_type": "markdown",
   "metadata": {
    "deletable": false,
    "editable": false,
    "nbgrader": {
     "cell_type": "markdown",
     "checksum": "bc31927f07485ab1749c355f36c9110c",
     "grade": false,
     "grade_id": "cell-1881f2604713fa8d",
     "locked": true,
     "schema_version": 3,
     "solution": false,
     "task": false
    }
   },
   "source": [
    "## GAN applications\n",
    "\n",
    "\n",
    "### Realistic image generation\n",
    "\n",
    "One popular application is the generation of realistic images and specifically human faces. Although we do not recognize it consciously, we, humans, are very sensitive to facial features, proportions, and expressions. It is quite a difficult task for ANN to produce synthetic images and videos of human faces that would fool humans. Nevertheless, deep learning generative models improved vastly since the first GANs were built. Below you see an illustration from [\"The AI Index 2021 Annual Report\"](https://aiindex.stanford.edu/wp-content/uploads/2021/11/2021-AI-Index-Report_Master.pdf) - set of images generated by GANs in different years. \n",
    " \n",
    "\n",
    "<img src=\"https://miro.medium.com/max/1400/1*zlQpCy8gdNTNt0A6q6d0pA.jpeg\">\n",
    "\n",
    "You can test yourself and try to find which image is real and which is not on the website https://www.whichfaceisreal.com/results.php?r=1&p=0&i1=46594.jpeg&i2=image-2019-02-18_094509.jpeg\n",
    "\n",
    "\n",
    "Now it is possible not only to generate synthetic images, but also videos. For example, deep fake methods are used to generate fake videos with celebrities for entertainment. As an example here is a deep fake of [Queen of the United Kingdom](https://www.youtube.com/watch?v=IvY-Abd2FfM) and actor [Morgan Freeman](https://www.youtube.com/watch?v=oxXpB9pSETo). \n",
    "\n",
    "\n",
    "### Image-to-Image Translation\n",
    "\n",
    "Another popular application is image transformations or image-to-image translation. Such transformations may be adding a style of a famous painter to a photo, application of zebra's stripe pattern to a horse, changing a summer photo to a winter photo. Below are such examples generated by [CycleGAN](https://junyanz.github.io/CycleGAN/).\n",
    "\n",
    "<img src=\"https://camo.githubusercontent.com/16fa02525bf502bec1aac77a3eb5b96928b0f25d73f7d9dedcc041ba28c38751/68747470733a2f2f6a756e79616e7a2e6769746875622e696f2f4379636c6547414e2f696d616765732f7465617365725f686967685f7265732e6a7067\" />\n",
    "\n",
    "\n",
    "Similar to style transfer real images can be transformed to cartoon-style corresponding images. There are some examples from paper [\"CartoonGAN: Generative Adversarial Networks for Photo Cartoonization\"](https://openaccess.thecvf.com/content_cvpr_2018/papers/Chen_CartoonGAN_Generative_Adversarial_CVPR_2018_paper.pdf):\n",
    "\n",
    "<img src=\"../../../coursedata/R6/cartoongan.png\" />\n",
    "\n",
    "\n",
    "It is also possible to perform style transfer on videos. Below are a few examples:"
   ]
  },
  {
   "cell_type": "code",
   "execution_count": null,
   "metadata": {
    "deletable": false,
    "editable": false,
    "nbgrader": {
     "cell_type": "code",
     "checksum": "08b3eb8ee16f33e15b0efe47959da567",
     "grade": false,
     "grade_id": "cell-2236cb91083351fa",
     "locked": true,
     "schema_version": 3,
     "solution": false,
     "task": false
    }
   },
   "outputs": [],
   "source": [
    "# https://github.com/lengstrom/fast-style-transfer\n",
    "IFrame(src=\"https://www.youtube.com/embed/xVJwwWQlQ1o\", width=560, height=315)"
   ]
  },
  {
   "cell_type": "code",
   "execution_count": null,
   "metadata": {
    "deletable": false,
    "editable": false,
    "nbgrader": {
     "cell_type": "code",
     "checksum": "abaf625199d3948c33ee883c5ac1b8f2",
     "grade": false,
     "grade_id": "cell-ce0059d1db19f2d1",
     "locked": true,
     "schema_version": 3,
     "solution": false,
     "task": false
    }
   },
   "outputs": [],
   "source": [
    "# http://arxiv.org/abs/1604.08610\n",
    "IFrame(src=\"https://www.youtube.com/embed/Khuj4ASldmU?start=45\", width=560, height=315)"
   ]
  },
  {
   "cell_type": "markdown",
   "metadata": {
    "deletable": false,
    "editable": false,
    "nbgrader": {
     "cell_type": "markdown",
     "checksum": "d24c5a859141aba32d81da7ca270bdfd",
     "grade": false,
     "grade_id": "cell-262b04064fb5e120",
     "locked": true,
     "schema_version": 3,
     "solution": false,
     "task": false
    }
   },
   "source": [
    "### Text-to-Image Translation\n",
    "\n",
    "\n",
    "There are GAN models that are able to generate images only from the text description. For example [StackGAN](https://github.com/hanzhanggit/StackGAN) or [AttnGAN](https://github.com/taoxugit/AttnGAN). Below you can see examples from StackGAN.\n",
    "\n",
    "<img src=\"https://raw.githubusercontent.com/hanzhanggit/StackGAN/master/examples/bird3.jpg\"> \n",
    "\n",
    "### Art\n",
    "\n",
    "Generative models found application not only in hard science but also in art and literature.\n",
    "One example of such collaboration is visual artist and software engineer Helena Sarin. From [nvidia article](https://www.nvidia.com/en-us/research/ai-art-gallery/artists/helena-sarin/):\n",
    "\n",
    "<div class=\"blockquote-container\">\n",
    "    <blockquote class=\"ludwig\">\n",
    "     \"... Helena collected and photographed more than 1000 foliage leaves to use as part of her dataset. She modified CycleGAN and her own modified version of PGAN, finding that SOTA performs poorly on small, diverse datasets.\"\n",
    "    </blockquote>\n",
    "</div>\n",
    "\n",
    "<img src=\"https://www.nvidia.com/content/dam/en-zz/Solutions/deep-learning/ai-art-gallery/gtc21-ai-art-gallery-helena-sarin-process-3-2c50-d.jpg\">\n",
    "\n",
    "\n",
    "\n",
    "### Synthetic music\n",
    "\n",
    "GAN models are capable of generating data of different types, including audio signals. For example, GANSynth learns to produce individual instrument notes, and MuseGAN is trained to generate polyphonic music of multiple tracks (instruments). It can generate music either from scratch or by accompanying a track given by the user.\n",
    "\n",
    "You can find more information on these types of GAN models and produced audio here:\n",
    "\n",
    "- [GANSynth](https://storage.googleapis.com/magentadata/papers/gansynth/index.html)\n",
    "- [MuseGAN](https://salu133445.github.io/musegan/) \n",
    "\n",
    "Below is an audio file with generated samples of polyphonic music by MuseGAN:"
   ]
  },
  {
   "cell_type": "code",
   "execution_count": null,
   "metadata": {
    "deletable": false,
    "editable": false,
    "nbgrader": {
     "cell_type": "code",
     "checksum": "0f3c31a14651912ee6b4641dd19ed7b9",
     "grade": false,
     "grade_id": "cell-c98fc6c357033749",
     "locked": true,
     "schema_version": 3,
     "solution": false,
     "task": false
    }
   },
   "outputs": [],
   "source": [
    "ipd.Audio('../../../coursedata/R6/best_samples.mp3') # load an audio file"
   ]
  },
  {
   "cell_type": "markdown",
   "metadata": {
    "deletable": false,
    "editable": false,
    "nbgrader": {
     "cell_type": "markdown",
     "checksum": "6261e87b088b8449a77aac4cc279c405",
     "grade": false,
     "grade_id": "cell-489f96494f87c502",
     "locked": true,
     "schema_version": 3,
     "solution": false,
     "task": false
    }
   },
   "source": [
    "More resources with GAN applications:\n",
    "\n",
    "- [art-DCGAN, github repo](https://github.com/robbiebarrat/art-DCGAN#landscape-gan)\n",
    "- list [\"41 Creative Tools to Generate AI Art\"](https://aiartists.org/ai-generated-art-tools)\n",
    "- list of papers & repos [The GAN Zoo](https://github.com/hindupuravinash/the-gan-zoo#the-gan-zoo) \n",
    "- [Curated list of GAN applications and demons](https://github.com/nashory/gans-awesome-applications)\n",
    "- book [\"Generative Deep Learning: Teaching Machines to Paint, Write, Compose, and Play\"](https://www.amazon.com/Generative-Deep-Learning-Teaching-Machines/dp/1492041947?dchild=1&keywords=%22reinforcement+learning%22&qid=1616529606&s=books&sr=1-4&linkCode=sl1&tag=petekistler-20&linkId=ad36a33f10ab1747ae2a2158c4714336&language=en_US&ref_=as_li_ss_tl)"
   ]
  },
  {
   "cell_type": "markdown",
   "metadata": {
    "deletable": false,
    "editable": false,
    "nbgrader": {
     "cell_type": "markdown",
     "checksum": "a59cac574cde611e9c4b13c2b45e9b6d",
     "grade": false,
     "grade_id": "cell-f0326880502e7f8c",
     "locked": true,
     "schema_version": 3,
     "solution": false,
     "task": false
    }
   },
   "source": [
    "<div class=\" alert alert-warning\">\n",
    "    <h3><b>Student task. </b>Generate samples from quadratic distribution.</h3>\n",
    "    \n",
    "In this task, we implement a simple GAN model for approximating samples from the quadratic distribution. The target (training) data consist of pairs of values $(x,y)$, where $x$ is a real-valued number and $ y = 10 + {x}^{2}$.\\\n",
    "We can sample from target data with custom function `sample_true_distr()`.\n",
    "\n",
    "Your tasks are:\n",
    "    \n",
    "- [Create tf.data.Dataset](#ds)\n",
    "- [Build a generator](#G)\n",
    "- [Build a discriminator](#D)  \n",
    "    \n",
    "Code adapted from https://blog.paperspace.com/implementing-gans-in-tensorflow/\n",
    "</div>"
   ]
  },
  {
   "cell_type": "code",
   "execution_count": null,
   "metadata": {
    "deletable": false,
    "editable": false,
    "nbgrader": {
     "cell_type": "code",
     "checksum": "0895cbbabe36207c5a59a560de8c8429",
     "grade": false,
     "grade_id": "cell-c209fa9e67f52dfe",
     "locked": true,
     "schema_version": 3,
     "solution": false,
     "task": false
    }
   },
   "outputs": [],
   "source": [
    "def sample_true_distr(n=10000):\n",
    "    \"\"\"\n",
    "    Function to generate samples from the quadratic distribution.\n",
    "    Takes as input sample size `n` and returns set of n-pairs (x,y),\n",
    "    where x is a real number and y is a square of x plus a constant.\n",
    "    \"\"\"\n",
    "    \n",
    "    # set random seed for reproducibility\n",
    "    np.random.seed(42)\n",
    "    # draw samples from normal distribution\n",
    "    x = 10*(np.random.random_sample((n,))-0.5)\n",
    "    # compute y\n",
    "    y = 10 + x*x\n",
    "\n",
    "    return np.array([x, y]).T\n",
    "\n",
    "# create a dataset with samples from the quadratic distribution\n",
    "target_data = sample_true_distr()\n",
    "# plot the first 32 datapoints\n",
    "plt.scatter(target_data[:32,0],target_data[:32,1])\n",
    "plt.xlabel(\"x\", fontsize=20)\n",
    "plt.ylabel(\"y\", fontsize=20)\n",
    "plt.show()"
   ]
  },
  {
   "cell_type": "markdown",
   "metadata": {
    "deletable": false,
    "editable": false,
    "nbgrader": {
     "cell_type": "markdown",
     "checksum": "94e5b3dbae65a101aca0372bf0301efb",
     "grade": false,
     "grade_id": "cell-b7d9c7cbd49780d7",
     "locked": true,
     "schema_version": 3,
     "solution": false,
     "task": false
    }
   },
   "source": [
    "<a id='ds'></a>\n",
    "<div class=\" alert alert-warning\">\n",
    "    \n",
    "Create tf.data.Dataset object:\n",
    "    \n",
    "- create tf.data.Dataset by passing array `target_data` to `from_tensor_slices()` method. See examples [here](https://www.tensorflow.org/api_docs/python/tf/data/Dataset#from_tensor_slices)\n",
    "- map dataset with custom function `cast_func()`\n",
    "- shuffle samples. Set `buffer_size` to 1000 and `seed` arg to 42.\n",
    "- add batching. Batch size should be equal to varibale `batch_size`, set `drop_remainder` to True\n",
    "- prefetch batch. Set `buffer_size` to 1\n",
    "    \n",
    "    \n",
    "You can find the list of methods for tf.data.Datasets at https://www.tensorflow.org/api_docs/python/tf/data/Dataset.\n",
    "</div>"
   ]
  },
  {
   "cell_type": "code",
   "execution_count": null,
   "metadata": {
    "deletable": false,
    "nbgrader": {
     "cell_type": "code",
     "checksum": "f3440b9914bc13703d6e377ebacb1a4c",
     "grade": false,
     "grade_id": "cell-be8a72767a8f81d2",
     "locked": false,
     "schema_version": 3,
     "solution": true,
     "task": false
    }
   },
   "outputs": [],
   "source": [
    "batch_size = 32\n",
    "\n",
    "def cast_func(ds):\n",
    "    \n",
    "    \"\"\"\n",
    "    Function that takes tensor as input and\n",
    "    returns it as a tensor of dtype tf.float32.\n",
    "    \"\"\"\n",
    "    ds = tf.cast(ds, tf.float32)\n",
    "    return ds\n",
    "\n",
    "# YOUR CODE HERE\n",
    "raise NotImplementedError()\n",
    "\n",
    "# dataset = ...   # create tf.data.Dataset\n",
    "# dataset = ...   # map\n",
    "# dataset = ...   # shuffle\n",
    "# dataset = ...   # batching\n",
    "# dataset = ...   # prefetch"
   ]
  },
  {
   "cell_type": "code",
   "execution_count": null,
   "metadata": {
    "deletable": false,
    "editable": false,
    "nbgrader": {
     "cell_type": "code",
     "checksum": "d24cf7a5f905454ebe106c5691eb7ea6",
     "grade": false,
     "grade_id": "cell-ac57eb153341bb68",
     "locked": true,
     "schema_version": 3,
     "solution": false,
     "task": false
    }
   },
   "outputs": [],
   "source": [
    "# sanity checks \n",
    "ds = list(dataset.take(1))[0][0]\n",
    "np.testing.assert_almost_equal(ds,[-4.6311307, 31.44737], decimal=4)\n",
    "\n",
    "print(\"Sanity checks passed!\")"
   ]
  },
  {
   "cell_type": "code",
   "execution_count": null,
   "metadata": {
    "deletable": false,
    "editable": false,
    "nbgrader": {
     "cell_type": "code",
     "checksum": "738720adaca4c43f6a10cda2d16ef4a2",
     "grade": true,
     "grade_id": "cell-e343c4e33de45625",
     "locked": true,
     "points": 1,
     "schema_version": 3,
     "solution": false,
     "task": false
    }
   },
   "outputs": [],
   "source": [
    "# this cell is for tests\n"
   ]
  },
  {
   "cell_type": "markdown",
   "metadata": {
    "deletable": false,
    "editable": false,
    "nbgrader": {
     "cell_type": "markdown",
     "checksum": "bfac3dc0e43374450facfce2ad0fe1fd",
     "grade": false,
     "grade_id": "cell-7d7ef6ad2dd1ced9",
     "locked": true,
     "schema_version": 3,
     "solution": false,
     "task": false
    }
   },
   "source": [
    "<a id='G'></a>\n",
    "<div class=\" alert alert-warning\">\n",
    "    \n",
    "Build a generator ANN. The generator should take input of shape [codings_size]. Use layers:\n",
    " \n",
    "- Dense with 16 units and leaky relu activation `tf.nn.leaky_relu`\n",
    "- Dense with 16 units and leaky relu activation \n",
    "- Dense with 2 output units (values for x and y) \n",
    "\n",
    "Add name to the model as `generator = tf.keras.models.Sequential([...], name=\"Generator\")`\n",
    "</div>"
   ]
  },
  {
   "cell_type": "code",
   "execution_count": null,
   "metadata": {
    "deletable": false,
    "nbgrader": {
     "cell_type": "code",
     "checksum": "b91e19ff79362dc7d1163fd8402b7d36",
     "grade": false,
     "grade_id": "cell-72dc88e396b323b8",
     "locked": false,
     "schema_version": 3,
     "solution": true,
     "task": false
    }
   },
   "outputs": [],
   "source": [
    "# size of the random vector\n",
    "codings_size = 10\n",
    "\n",
    "# YOUR CODE HERE\n",
    "raise NotImplementedError()\n",
    "\n",
    "# generator = ...\n",
    "generator.summary()"
   ]
  },
  {
   "cell_type": "code",
   "execution_count": null,
   "metadata": {
    "deletable": false,
    "editable": false,
    "nbgrader": {
     "cell_type": "code",
     "checksum": "626b4f0808d2e8e2ac3d4d4ec68823a6",
     "grade": false,
     "grade_id": "cell-0867bf65e31bd170",
     "locked": true,
     "schema_version": 3,
     "solution": false,
     "task": false
    }
   },
   "outputs": [],
   "source": [
    "# Perform some sanity checks on the solution\n",
    "assert len(generator.layers) == 3, \"There should be 3 layers!\"\n",
    "assert generator.name == 'Generator', \"Name generator as 'Generator'\"\n",
    "\n",
    "print(\"Sanity checks passed!\")"
   ]
  },
  {
   "cell_type": "code",
   "execution_count": null,
   "metadata": {
    "deletable": false,
    "editable": false,
    "nbgrader": {
     "cell_type": "code",
     "checksum": "b0abd80a227d4b474a2850dac7fddd63",
     "grade": true,
     "grade_id": "cell-a21ae2b490d3b1ba",
     "locked": true,
     "points": 2,
     "schema_version": 3,
     "solution": false,
     "task": false
    }
   },
   "outputs": [],
   "source": [
    "# this cell is for tests\n"
   ]
  },
  {
   "cell_type": "markdown",
   "metadata": {
    "deletable": false,
    "editable": false,
    "nbgrader": {
     "cell_type": "markdown",
     "checksum": "0814a11149788503d806fa12bd8ccadb",
     "grade": false,
     "grade_id": "cell-353b2216d8c02ecc",
     "locked": true,
     "schema_version": 3,
     "solution": false,
     "task": false
    }
   },
   "source": [
    "<a id='D'></a>\n",
    "<div class=\" alert alert-warning\" id=\"D\">\n",
    "    \n",
    "Build a discriminator. Discriminator should take input of shape [2] and return the probability of sample (pair {x,y}) being fake or real. Use layers:\n",
    " \n",
    "- Dense with 16 units and leaky relu activation \n",
    "- Dense with 16 units and leaky relu activation \n",
    "- Dense with 1 output unit and sigmoid activation.\n",
    "    \n",
    "Add name to the model as `discriminator = tf.keras.models.Sequential([...], name=\"Discriminator\")`\n",
    "</div>"
   ]
  },
  {
   "cell_type": "code",
   "execution_count": null,
   "metadata": {
    "deletable": false,
    "nbgrader": {
     "cell_type": "code",
     "checksum": "84881f732cec0b21dc485d0429384a82",
     "grade": false,
     "grade_id": "cell-f9bda7333ad0d471",
     "locked": false,
     "schema_version": 3,
     "solution": true,
     "task": false
    }
   },
   "outputs": [],
   "source": [
    "# YOUR CODE HERE\n",
    "raise NotImplementedError()\n",
    "\n",
    "# discriminator = ...\n",
    "discriminator.summary()"
   ]
  },
  {
   "cell_type": "code",
   "execution_count": null,
   "metadata": {
    "deletable": false,
    "editable": false,
    "nbgrader": {
     "cell_type": "code",
     "checksum": "ed2c67710814cb6b29020a724fbc9847",
     "grade": false,
     "grade_id": "cell-18be5f8d3a1f5853",
     "locked": true,
     "schema_version": 3,
     "solution": false,
     "task": false
    }
   },
   "outputs": [],
   "source": [
    "# Perform some sanity checks on the solution\n",
    "assert len(discriminator.layers) == 3, \"There should be 3 layers!\"\n",
    "assert discriminator.name == 'Discriminator', \"Name discriminator as 'Discriminator'\"\n",
    "\n",
    "print(\"Sanity checks passed!\")"
   ]
  },
  {
   "cell_type": "code",
   "execution_count": null,
   "metadata": {
    "deletable": false,
    "editable": false,
    "nbgrader": {
     "cell_type": "code",
     "checksum": "e6781c8345cd34ecdd2ce4a362ae2e61",
     "grade": true,
     "grade_id": "cell-d0a850d7c3dc7d92",
     "locked": true,
     "points": 2,
     "schema_version": 3,
     "solution": false,
     "task": false
    }
   },
   "outputs": [],
   "source": [
    "# this cell is for tests\n"
   ]
  },
  {
   "cell_type": "code",
   "execution_count": null,
   "metadata": {
    "deletable": false,
    "editable": false,
    "nbgrader": {
     "cell_type": "code",
     "checksum": "4080f653c38d9561a87b68514ab7024d",
     "grade": false,
     "grade_id": "cell-84403943614b6a82",
     "locked": true,
     "schema_version": 3,
     "solution": false,
     "task": false
    }
   },
   "outputs": [],
   "source": [
    "# combine both ANNs into one model `gan`\n",
    "gan = tf.keras.models.Sequential([generator, discriminator])\n",
    "\n",
    "tf.keras.utils.plot_model(\n",
    "    gan,\n",
    "    show_shapes=True, \n",
    "    show_layer_names=True\n",
    ")"
   ]
  },
  {
   "cell_type": "markdown",
   "metadata": {
    "deletable": false,
    "editable": false,
    "nbgrader": {
     "cell_type": "markdown",
     "checksum": "aaaa32f7e8d921a49d3e886004710847",
     "grade": false,
     "grade_id": "cell-069b7564c4fc8c71",
     "locked": true,
     "schema_version": 3,
     "solution": false,
     "task": false
    }
   },
   "source": [
    "You may notice, that we used leaky relu instead of relu in both, generator and discriminator. In general, training GAN as it was described originally is very difficult. Many hyperparameters had to be tuned just by trial-and-error. It was found experimentally, that relu activation, especially in discriminator ANN, destabilizes training and leads to poor results. \\\n",
    "You can find more hints on training GANs in the article [\"Tips for Training Stable Generative Adversarial Networks\"](https://machinelearningmastery.com/how-to-train-stable-generative-adversarial-networks/).\n",
    "\n",
    "<a id='compile'>Compiling discriminator and GAN.</a>\n",
    "\n",
    "Now we can compile the models. First, we compile the discriminator. By default, all parameters of the Keras model are trainable, which means that discriminator weights are tuned during training.\\\n",
    "In contrast, we set `discriminator.trainable = False` to fix discriminator weights during `gan` model training. We need to fix discriminator weights in order to train the generator and to only update the generator's weights. \\\n",
    "In other words, when we train discriminator as a separate model, its' parameters are adjusted during training. On the other hand, when the discriminator is trained as a part of the `gan` model, its' weights are fixed.\n",
    "\n",
    "**Note!** Set `model.trainable` False or True **BEFORE** compiling the model. For example, if we set `model.trainable = False` after compilation, it will not have an effect. Even though printing `model.trainable ` will return `False`, the model in fact will be trainable."
   ]
  },
  {
   "cell_type": "code",
   "execution_count": null,
   "metadata": {
    "deletable": false,
    "editable": false,
    "nbgrader": {
     "cell_type": "code",
     "checksum": "5005d9600a2499aa663adbfbb6b75351",
     "grade": false,
     "grade_id": "cell-3d27abaa1388e512",
     "locked": true,
     "schema_version": 3,
     "solution": false,
     "task": false
    }
   },
   "outputs": [],
   "source": [
    "discriminator.compile(loss=\"binary_crossentropy\", optimizer=\"rmsprop\")\n",
    "discriminator.trainable = False\n",
    "gan.compile(loss=\"binary_crossentropy\", optimizer=\"rmsprop\")"
   ]
  },
  {
   "cell_type": "code",
   "execution_count": null,
   "metadata": {},
   "outputs": [],
   "source": [
    "# set training flag \n",
    "training=True"
   ]
  },
  {
   "cell_type": "code",
   "execution_count": null,
   "metadata": {
    "deletable": false,
    "editable": false,
    "nbgrader": {
     "cell_type": "code",
     "checksum": "f0b77e4194e2f94c4c38f4298b68b829",
     "grade": true,
     "grade_id": "cell-ca7d4ef0d1971b8b",
     "locked": true,
     "points": 0,
     "schema_version": 3,
     "solution": false,
     "task": false
    }
   },
   "outputs": [],
   "source": [
    "# this cell setting flag training=False\n"
   ]
  },
  {
   "cell_type": "markdown",
   "metadata": {
    "deletable": false,
    "editable": false,
    "nbgrader": {
     "cell_type": "markdown",
     "checksum": "dbb169820093d265d1e0a8f648028be4",
     "grade": false,
     "grade_id": "cell-0a5bade156eaa842",
     "locked": true,
     "schema_version": 3,
     "solution": false,
     "task": false
    }
   },
   "source": [
    "Now we are almost ready to train our first GAN model. We cannot use `.fit()` method in this case, instead we write  custom training function `train_gan()`. This function takes as input model (GAN), batch size, codings size, and n.o. epochs. Codings size is the size of a random (noise) vector that the generator takes as input. \n",
    "\n",
    "We will save generated samples for later plotting in an array `saved_samples`.\\\n",
    "There are two training phases involved: phase 1 for training discriminator and phase 2 for training generator. \n",
    "\n",
    "Phase 1 consist of the following steps:\n",
    "\n",
    "1. sample random vectors of shape (batch_size, codings_size) from a normal distribution\n",
    "2. feed the random vectors to the generator, which will output generated samples\n",
    "3. concatenate fake and real samples in one set\n",
    "4. create labels for fake ($y=0$) and real ($y=1$) samples\n",
    "5. use the `train_on_batch(features, labels)` method to train the discriminator. This method runs a single gradient update on a single batch of data. Reference to [Keras documentaion](https://keras.io/api/models/model_training_apis/#trainonbatch-method).\n",
    "\n",
    "Phase 2 consists of the following steps:\n",
    "\n",
    "1. sample random vectors of shape (batch_size, codings_size) from a normal distribution\n",
    "2. create labels for fake samples $y=1$\n",
    "3. use the `train_on_batch(features, labels)` method to train gan. By applying this method to the GAN model we will tune the weights of the generator. Parameters of discriminator are not affected, as previously we set `discriminator.trainable = False` before compiling gan.\n",
    "\n",
    "For training discriminator and generator we use binary cross-entropy loss, which for one sample is: \n",
    "\n",
    "\\begin{equation*}\n",
    "\\mathcal L = y \\cdot ln(\\hat y) + (1-y)\\cdot ln(1-\\hat y)\n",
    "\\end{equation*}\n",
    "\n",
    "By switching labels from $y=0$ to $y=1$ for fake images during the generator training phase, we achieve the same result as in the original algorithm described in the paper \"Generative Adversarial Nets\".\n",
    "For discriminator, the loss will be minimized when predicted labels for real images are $\\hat y=1$ and predicted labels for fake images are $\\hat y=0$. For generator, the loss will be minimal when predicted labels for fake images are $\\hat y=1$, due to the fact that we assigned labels $y=1$ to the fake images for generator training."
   ]
  },
  {
   "cell_type": "code",
   "execution_count": null,
   "metadata": {
    "deletable": false,
    "editable": false,
    "nbgrader": {
     "cell_type": "code",
     "checksum": "ecacde6160eff461c659a692a7abaa25",
     "grade": false,
     "grade_id": "cell-654de6952897f8f0",
     "locked": true,
     "schema_version": 3,
     "solution": false,
     "task": false
    }
   },
   "outputs": [],
   "source": [
    "%%time \n",
    "\n",
    "def train_gan(gan, dataset, batch_size, codings_size, n_epochs=90):\n",
    "    saved_samples = np.zeros((int(n_epochs/10),2,batch_size,2))\n",
    "    generator, discriminator = gan.layers\n",
    "    for epoch in range(n_epochs):             \n",
    "        for X_batch in dataset:\n",
    "            \n",
    "            # phase 1 - training the Discriminator\n",
    "            noise = tf.random.normal(shape=[batch_size, codings_size])\n",
    "            gen_samples = generator(noise)\n",
    "            X_fake_and_real = tf.concat([gen_samples, X_batch], axis=0)\n",
    "            y1 = tf.constant([[0.]] * batch_size + [[1.]] * batch_size)\n",
    "            discriminator.train_on_batch(X_fake_and_real, y1)\n",
    "            \n",
    "            # phase 2 - training the Generator\n",
    "            noise = tf.random.normal(shape=[batch_size, codings_size])\n",
    "            y2 = tf.constant([[1.]] * batch_size)\n",
    "            gan.train_on_batch(noise, y2)\n",
    "            \n",
    "        if epoch%10 == 0:\n",
    "            print(\"Epoch {}/{}\".format(epoch, n_epochs)) \n",
    "            saved_samples[int(epoch/10),0,:,:] = X_batch\n",
    "            saved_samples[int(epoch/10),1,:,:] = gen_samples\n",
    "\n",
    "    return saved_samples\n",
    "\n",
    "if training:                        \n",
    "    saved_samples = train_gan(gan, dataset, batch_size, codings_size)"
   ]
  },
  {
   "cell_type": "code",
   "execution_count": null,
   "metadata": {
    "deletable": false,
    "editable": false,
    "nbgrader": {
     "cell_type": "code",
     "checksum": "22ece6ed8b4f4226844603937faabf63",
     "grade": false,
     "grade_id": "cell-9a567f3aab891ef8",
     "locked": true,
     "schema_version": 3,
     "solution": false,
     "task": false
    }
   },
   "outputs": [],
   "source": [
    "if training:\n",
    "    plt.figure(figsize=(8, 8))\n",
    "\n",
    "    for i in range(9):\n",
    "        ax = plt.subplot(3, 3, i + 1)\n",
    "        # plot real samples\n",
    "        plt.scatter(saved_samples[i,0,:,0],saved_samples[i,0,:,1])\n",
    "        # plot generated (fake) samples\n",
    "        plt.scatter(saved_samples[i,1,:,0],saved_samples[i,1,:,1])\n",
    "        plt.axis(\"off\")   \n",
    "    plt.show()"
   ]
  },
  {
   "cell_type": "markdown",
   "metadata": {
    "deletable": false,
    "editable": false,
    "nbgrader": {
     "cell_type": "markdown",
     "checksum": "b78471d69d0d5138734e919a1c05ba70",
     "grade": false,
     "grade_id": "cell-ebb58373f71b8b57",
     "locked": true,
     "schema_version": 3,
     "solution": false,
     "task": false
    }
   },
   "source": [
    "### \"Hello world!\" of DCGAN: MNIST dataset\n",
    "\n",
    "We can generate images using the same Generator-Discriminator ANNs, but using convolutional layers instead of Dense layers. This type of GAN is called deep convolutional generative adversarial network (DCGAN). Find more information in the original paper [\"Unsupervised Representation Learning with Deep Convolutional Generative Adversarial Networks.\"](https://arxiv.org/pdf/1511.06434.pdf)."
   ]
  },
  {
   "cell_type": "markdown",
   "metadata": {
    "deletable": false,
    "editable": false,
    "nbgrader": {
     "cell_type": "markdown",
     "checksum": "e6ab54641b5d4a6ece0b90fa9ce2e591",
     "grade": false,
     "grade_id": "cell-087ecdb529694a8f",
     "locked": true,
     "schema_version": 3,
     "solution": false,
     "task": false
    }
   },
   "source": [
    "<img src=\"../../../coursedata/R6/gan.gif\" width=600 />"
   ]
  },
  {
   "cell_type": "markdown",
   "metadata": {
    "deletable": false,
    "editable": false,
    "nbgrader": {
     "cell_type": "markdown",
     "checksum": "7d25271233c5b385399e2ec41018114a",
     "grade": false,
     "grade_id": "cell-eec11b2019a1b321",
     "locked": true,
     "schema_version": 3,
     "solution": false,
     "task": false
    }
   },
   "source": [
    "### Transposed convolution.\n",
    "\n",
    "To build a GAN for image generation we use the same principles as in the first example, but first, we need to decide how to create a 2D image from a 1D tensor. We can imagine that a given input is a result of some convolution and we need to \"reverse\" this convolution and recover the shape of the initial feature map. To achieve this we use so-called **transposed convolution**, a process very similar to the convolution you are familiar with. You can find more information on transposed convolution in the section \"4.2 Transposed convolution\" of an article [\"A guide to convolution arithmetic for deep learning\"](https://arxiv.org/abs/1603.07285).\\\n",
    "To this end it's enough to know that transposed convolution is implemented with [`tf.keras.layers.Conv2DTranspose`](https://www.tensorflow.org/api_docs/python/tf/keras/layers/Conv2DTranspose). Unfortunately, TensorFlow documentation is somewhat confusing on how to compute output shape, but the general rule is (see discussion [here](https://datascience.stackexchange.com/questions/26451/how-to-calculate-the-output-shape-of-conv2d-transpose)):\n",
    "\n",
    "With `padding=\"same\"`:\\\n",
    "out_dimension = in_dimension * stride \n",
    "\n",
    "With `padding=\"valid\"`:\\\n",
    "out_dimension = (in_dimension-1) * stride + kernel_size \n",
    "\n",
    "\n",
    "For example, for input of shape (batch_size, 7, 7, 128) and transposed convolution `tf.keras.layers.Conv2DTranspose(64, kernel_size=5, strides=2, padding=\"same\")`\n",
    "\n",
    "out_dimension = in_dimension * stride = 7*2 = 14\n",
    "\n",
    "and for `tf.keras.layers.Conv2DTranspose(64, kernel_size=5, strides=2, padding=\"valid\")`\n",
    "\n",
    "out_dimension = (in_dimension-1) * stride + kernel_size = (7-1)*2+5 = 17\n",
    "\n",
    "Let's confirm our calculations by using TensorFlow:"
   ]
  },
  {
   "cell_type": "code",
   "execution_count": null,
   "metadata": {
    "deletable": false,
    "editable": false,
    "nbgrader": {
     "cell_type": "code",
     "checksum": "d5ed6ad106ca3914f3d364ba5de56d33",
     "grade": false,
     "grade_id": "cell-69bd94ea01e6c3f1",
     "locked": true,
     "schema_version": 3,
     "solution": false,
     "task": false
    }
   },
   "outputs": [],
   "source": [
    "cvt_same = tf.keras.models.Sequential([\n",
    "    tf.keras.layers.Conv2DTranspose(64, kernel_size=5, strides=2, padding=\"same\",input_shape=(7, 7, 128)),\n",
    "    tf.keras.layers.Conv2DTranspose(1, kernel_size=5, strides=2, padding=\"same\",\n",
    "                                 activation=\"tanh\")\n",
    "])\n",
    "\n",
    "tf.keras.utils.plot_model(\n",
    "    cvt_same,\n",
    "    show_shapes=True, \n",
    "    show_layer_names=True\n",
    ")"
   ]
  },
  {
   "cell_type": "code",
   "execution_count": null,
   "metadata": {
    "deletable": false,
    "editable": false,
    "nbgrader": {
     "cell_type": "code",
     "checksum": "45a5d6ead518695c6af15b682f79af0b",
     "grade": false,
     "grade_id": "cell-45dae3713c7d212a",
     "locked": true,
     "schema_version": 3,
     "solution": false,
     "task": false
    }
   },
   "outputs": [],
   "source": [
    "cvt_valid = tf.keras.models.Sequential([\n",
    "    tf.keras.layers.Conv2DTranspose(64, kernel_size=5, strides=2, padding=\"valid\",input_shape=(7, 7, 128))\n",
    "])\n",
    "\n",
    "tf.keras.utils.plot_model(\n",
    "    cvt_valid,\n",
    "    show_shapes=True, \n",
    "    show_layer_names=True\n",
    ")"
   ]
  },
  {
   "cell_type": "markdown",
   "metadata": {
    "deletable": false,
    "editable": false,
    "nbgrader": {
     "cell_type": "markdown",
     "checksum": "f1a3c528a2344bea88a8080aa43b5b3a",
     "grade": false,
     "grade_id": "cell-f8ca38ad18134c57",
     "locked": true,
     "schema_version": 3,
     "solution": false,
     "task": false
    }
   },
   "source": [
    "We use the MNIST dataset of handwritten digits, but instead of scaling pixel values to the (0,1) range, we scale them to the (-1,1) range. Similarly, we scale generator output to (-1,1) range by using tanh activation function in the last layer."
   ]
  },
  {
   "cell_type": "code",
   "execution_count": null,
   "metadata": {
    "deletable": false,
    "editable": false,
    "nbgrader": {
     "cell_type": "code",
     "checksum": "4cfc9e03dfb8bd11eb07bbcf86053f6a",
     "grade": false,
     "grade_id": "cell-96b8fa8cdde1d112",
     "locked": true,
     "schema_version": 3,
     "solution": false,
     "task": false
    }
   },
   "outputs": [],
   "source": [
    "if training:\n",
    "    (X_train, y_train), (_, _) = tf.keras.datasets.mnist.load_data()  # load training set\n",
    "    X_train = X_train.reshape(-1, 28, 28, 1)/255 * 2. - 1.  # reshape and rescale\n",
    "    X_train = tf.cast(X_train, tf.float32)  # change data type"
   ]
  },
  {
   "cell_type": "code",
   "execution_count": null,
   "metadata": {
    "deletable": false,
    "editable": false,
    "nbgrader": {
     "cell_type": "code",
     "checksum": "8f1cb035fdabb1dae40c7841a371f1f1",
     "grade": false,
     "grade_id": "cell-7654e49a6b3f1222",
     "locked": true,
     "schema_version": 3,
     "solution": false,
     "task": false
    }
   },
   "outputs": [],
   "source": [
    "if training:\n",
    "    batch_size = 32\n",
    "    dataset = tf.data.Dataset.from_tensor_slices(X_train)\n",
    "    dataset = dataset.shuffle(1000)\n",
    "    dataset = dataset.batch(batch_size, drop_remainder=True).prefetch(1)"
   ]
  },
  {
   "cell_type": "markdown",
   "metadata": {
    "deletable": false,
    "editable": false,
    "nbgrader": {
     "cell_type": "markdown",
     "checksum": "36233014e3688d89e11008a1c7cb36b2",
     "grade": false,
     "grade_id": "cell-15f5b6a4e0d9d673",
     "locked": true,
     "schema_version": 3,
     "solution": false,
     "task": false
    }
   },
   "source": [
    "<div class=\" alert alert-warning\">\n",
    "    <h3><b>Student task. </b>Generator.</h3>\n",
    "    \n",
    "Your task is to build a generator. The generator is a sequential model with:\n",
    "    \n",
    "- Dense layer with 6272 (=7\\*7\\*128) units and `input_shape=[codings_size]`. \n",
    "- Reshape layer `tf.keras.layers.Reshape([7, 7, 128])`\n",
    "- Batch Normalization layer\n",
    "- Conv2DTranspose layer with 64 kernels, kernel size 5, strides 2, padding \"same\" and selu activation\n",
    "- Batch Normalization layer\n",
    "- Conv2DTranspose layer with 1 output kernel, kernel size 5, strides 2, padding \"same\" and tanh activation\n",
    "    \n",
    "Add name to the model as `cv_generator = tf.keras.models.Sequential([...], name=\"Generator\")`\n",
    "</div>"
   ]
  },
  {
   "cell_type": "code",
   "execution_count": null,
   "metadata": {
    "deletable": false,
    "nbgrader": {
     "cell_type": "code",
     "checksum": "e2269ac1a554f0f91c0aad0359c6e51d",
     "grade": false,
     "grade_id": "cell-681742608dfdb3b3",
     "locked": false,
     "schema_version": 3,
     "solution": true,
     "task": false
    }
   },
   "outputs": [],
   "source": [
    "codings_size = 100\n",
    "\n",
    "# YOUR CODE HERE\n",
    "raise NotImplementedError()\n",
    "\n",
    "# cv_generator = ..."
   ]
  },
  {
   "cell_type": "code",
   "execution_count": null,
   "metadata": {
    "deletable": false,
    "editable": false,
    "nbgrader": {
     "cell_type": "code",
     "checksum": "ddc37dfc21604e717dac3111a039df1c",
     "grade": false,
     "grade_id": "cell-f309370e3c5025c7",
     "locked": true,
     "schema_version": 3,
     "solution": false,
     "task": false
    }
   },
   "outputs": [],
   "source": [
    "# Perform some sanity checks on the solution\n",
    "assert len(cv_generator.layers) == 6, \"There should be 6 layers!\"\n",
    "assert cv_generator.name == 'Generator', \"Name the generator as 'Generator'\"\n",
    "\n",
    "print(\"Sanity checks passed!\")"
   ]
  },
  {
   "cell_type": "code",
   "execution_count": null,
   "metadata": {
    "deletable": false,
    "editable": false,
    "nbgrader": {
     "cell_type": "code",
     "checksum": "496dcd7dbe0c0d58373800667d1cb482",
     "grade": true,
     "grade_id": "cell-13b0fa008171cfe6",
     "locked": true,
     "points": 2,
     "schema_version": 3,
     "solution": false,
     "task": false
    }
   },
   "outputs": [],
   "source": [
    "# this cell is for tests\n"
   ]
  },
  {
   "cell_type": "markdown",
   "metadata": {
    "deletable": false,
    "editable": false,
    "nbgrader": {
     "cell_type": "markdown",
     "checksum": "9938e88fdeb5bd5a653488169c279fb7",
     "grade": false,
     "grade_id": "cell-eb3fc926e6de95c5",
     "locked": true,
     "schema_version": 3,
     "solution": false,
     "task": false
    }
   },
   "source": [
    "<div class=\" alert alert-warning\">\n",
    "    <h3><b>Student task. </b>Discriminator.</h3>\n",
    "    \n",
    "Your task is to build a discriminator. Discriminator should take as input image generated by generator and output probability of the image being fake or real.\n",
    "    \n",
    "Use:\n",
    "    \n",
    "- Conv2DTranspose layer with 64 kernels, kernel size 5, strides 2, padding \"SAME\" and leaky relu activation (alpha=0.2) \n",
    "- Conv2DTranspose layer with 128 kernels, kernel size 5, strides 2, padding \"SAME\" and activation leaky relu activation (alpha=0.2)  \n",
    "- Flatten layer    \n",
    "- Dense output layer      \n",
    "    \n",
    "Add name to the model as `cv_discriminator = tf.keras.models.Sequential([...], name=\"Discriminator\")`\n",
    "</div>"
   ]
  },
  {
   "cell_type": "code",
   "execution_count": null,
   "metadata": {
    "deletable": false,
    "nbgrader": {
     "cell_type": "code",
     "checksum": "f54d7addf52b1bff6095ecba8598281e",
     "grade": false,
     "grade_id": "cell-6a4ad9ba5271ddd7",
     "locked": false,
     "schema_version": 3,
     "solution": true,
     "task": false
    }
   },
   "outputs": [],
   "source": [
    "# YOUR CODE HERE\n",
    "raise NotImplementedError()\n",
    "\n",
    "# cv_discriminator = ..."
   ]
  },
  {
   "cell_type": "code",
   "execution_count": null,
   "metadata": {
    "deletable": false,
    "editable": false,
    "nbgrader": {
     "cell_type": "code",
     "checksum": "ddb44e9f4821ad251c5cf9eb2c576d0a",
     "grade": false,
     "grade_id": "cell-0cff65b66d49d836",
     "locked": true,
     "schema_version": 3,
     "solution": false,
     "task": false
    }
   },
   "outputs": [],
   "source": [
    "# Perform some sanity checks on the solution\n",
    "assert len(cv_discriminator.layers) == 4, \"There should be 4 layers!\"\n",
    "assert cv_discriminator.name == 'Discriminator', \"Name discriminator as 'Discriminator'\"\n",
    "\n",
    "print(\"Sanity checks passed!\")"
   ]
  },
  {
   "cell_type": "code",
   "execution_count": null,
   "metadata": {
    "deletable": false,
    "editable": false,
    "nbgrader": {
     "cell_type": "code",
     "checksum": "dce86756527cb98c455591ab8e813bbe",
     "grade": true,
     "grade_id": "cell-7507e49d1ffcb9be",
     "locked": true,
     "points": 2,
     "schema_version": 3,
     "solution": false,
     "task": false
    }
   },
   "outputs": [],
   "source": [
    "# this cell is for tests\n"
   ]
  },
  {
   "cell_type": "code",
   "execution_count": null,
   "metadata": {
    "deletable": false,
    "editable": false,
    "nbgrader": {
     "cell_type": "code",
     "checksum": "60e950b21d356c485d30c6a918a40e23",
     "grade": false,
     "grade_id": "cell-6ef6f8a6a02f6d7d",
     "locked": true,
     "schema_version": 3,
     "solution": false,
     "task": false
    }
   },
   "outputs": [],
   "source": [
    "# build a GAN model\n",
    "cv_gan = tf.keras.models.Sequential([cv_generator, cv_discriminator])\n",
    "\n",
    "tf.keras.utils.plot_model(\n",
    "    cv_gan,\n",
    "    show_shapes=True, \n",
    "    show_layer_names=True\n",
    ")"
   ]
  },
  {
   "cell_type": "markdown",
   "metadata": {
    "deletable": false,
    "editable": false,
    "nbgrader": {
     "cell_type": "markdown",
     "checksum": "2000a251eaa4ed39d52618e22b7d87e1",
     "grade": false,
     "grade_id": "cell-c46074ece84edd58",
     "locked": true,
     "schema_version": 3,
     "solution": false,
     "task": false
    }
   },
   "source": [
    "<div class=\" alert alert-warning\">\n",
    "    <h3><b>Student task. </b>Compile discriminator and gan.</h3>\n",
    "    \n",
    "Compile discriminator `cv_discriminator` and GAN `cv_gan` model as was explained in [\"Compile discriminator and GAN\"](#compile).\n",
    "</div>"
   ]
  },
  {
   "cell_type": "code",
   "execution_count": null,
   "metadata": {
    "deletable": false,
    "nbgrader": {
     "cell_type": "code",
     "checksum": "aa0569ae6e265b88eb74c716ebaa3f2f",
     "grade": false,
     "grade_id": "cell-559eb49b7bd59130",
     "locked": false,
     "schema_version": 3,
     "solution": true,
     "task": false
    }
   },
   "outputs": [],
   "source": [
    "# YOUR CODE HERE\n",
    "raise NotImplementedError()\n",
    "\n",
    "# cv_discriminator...\n",
    "# cv_discriminator...\n",
    "# cv_gan..."
   ]
  },
  {
   "cell_type": "code",
   "execution_count": null,
   "metadata": {
    "deletable": false,
    "editable": false,
    "nbgrader": {
     "cell_type": "code",
     "checksum": "e631e11637906d33f2e0399793d1265f",
     "grade": false,
     "grade_id": "cell-34a5a76936e2960b",
     "locked": true,
     "schema_version": 3,
     "solution": false,
     "task": false
    }
   },
   "outputs": [],
   "source": [
    "# Perform some sanity checks on the solution\n",
    "assert cv_discriminator.trainable==False, \"The discriminator should not be trainable!\"\n",
    "assert cv_gan.trainable == True, \"The GAN should be trainable!\"\n",
    "assert cv_discriminator.loss == 'binary_crossentropy', \"The discriminator loss should be binary CE\"\n",
    "assert cv_gan.loss == 'binary_crossentropy', \"The GAN loss should be binary CE\"\n",
    "\n",
    "print(\"Sanity checks passed!\")"
   ]
  },
  {
   "cell_type": "code",
   "execution_count": null,
   "metadata": {
    "deletable": false,
    "editable": false,
    "nbgrader": {
     "cell_type": "code",
     "checksum": "57c1eb27613975b537e0e5c5c8419535",
     "grade": true,
     "grade_id": "cell-677349d6562f5cf1",
     "locked": true,
     "points": 1,
     "schema_version": 3,
     "solution": false,
     "task": false
    }
   },
   "outputs": [],
   "source": [
    "# this cell is for tests\n"
   ]
  },
  {
   "cell_type": "code",
   "execution_count": null,
   "metadata": {
    "deletable": false,
    "editable": false,
    "nbgrader": {
     "cell_type": "code",
     "checksum": "b6b5db743c4930a1127708eac0c41aac",
     "grade": false,
     "grade_id": "cell-d75d9998384999a2",
     "locked": true,
     "schema_version": 3,
     "solution": false,
     "task": false
    }
   },
   "outputs": [],
   "source": [
    "# function for plotting images outputted by generator\n",
    "# code source https://github.com/ageron/handson-ml2/blob/master/17_autoencoders_and_gans.ipynb\n",
    "\n",
    "def plot_multiple_images(images, n_cols=None):\n",
    "    n_cols = n_cols or len(images)\n",
    "    n_rows = (len(images) - 1) // n_cols + 1\n",
    "    if images.shape[-1] == 1:\n",
    "        images = np.squeeze(images, axis=-1)\n",
    "    plt.figure(figsize=(n_cols, n_rows))\n",
    "    for index, image in enumerate(images):\n",
    "        plt.subplot(n_rows, n_cols, index + 1)\n",
    "        plt.imshow(image, cmap=\"binary\")\n",
    "        plt.axis(\"off\")    "
   ]
  },
  {
   "cell_type": "code",
   "execution_count": null,
   "metadata": {
    "deletable": false,
    "editable": false,
    "nbgrader": {
     "cell_type": "code",
     "checksum": "7208a1d64e94ea00277a3268a5eca472",
     "grade": false,
     "grade_id": "cell-b7660321c74688d7",
     "locked": true,
     "schema_version": 3,
     "solution": false,
     "task": false
    },
    "tags": []
   },
   "outputs": [],
   "source": [
    "%%time \n",
    "\n",
    "test_random_vector = tf.random.normal(shape=[batch_size, codings_size])\n",
    "\n",
    "def train_gan(gan, dataset, batch_size, codings_size, n_epochs=2):\n",
    "    \n",
    "    generator, discriminator = gan.layers\n",
    "    itr=0\n",
    "    for epoch in range(n_epochs):\n",
    "        print(\"Epoch {}/{}\".format(epoch + 1, n_epochs)) \n",
    "        for X_batch in dataset:\n",
    "            # Phase 1 - training the discriminator\n",
    "            noise = tf.random.normal(shape=[batch_size, codings_size])\n",
    "            generated_images = generator(noise)\n",
    "            X_fake_and_real = tf.concat([generated_images, X_batch], axis=0)\n",
    "            y1 = tf.constant([[0.]] * batch_size + [[1.]] * batch_size)\n",
    "            discriminator.trainable = True\n",
    "            discriminator.train_on_batch(X_fake_and_real, y1)\n",
    "            \n",
    "            # Phase 2 - training the generator\n",
    "            noise = tf.random.normal(shape=[batch_size, codings_size])\n",
    "            y2 = tf.constant([[1.]] * batch_size)\n",
    "            discriminator.trainable = False\n",
    "            gan.train_on_batch(noise, y2)\n",
    "            \n",
    "            if (itr%100 == 0):  \n",
    "                gen_images = generator.predict(test_random_vector)\n",
    "                plot_multiple_images(gen_images, 8)\n",
    "                plt.show()\n",
    "                         \n",
    "            itr+=1\n",
    "\n",
    "if training:                   \n",
    "    train_gan(cv_gan, dataset, batch_size, codings_size)"
   ]
  },
  {
   "cell_type": "markdown",
   "metadata": {
    "deletable": false,
    "editable": false,
    "nbgrader": {
     "cell_type": "markdown",
     "checksum": "31c051b0da5d6f09ce3a47999520a4a2",
     "grade": false,
     "grade_id": "cell-fe8b22ff44c2390f",
     "locked": true,
     "schema_version": 3,
     "solution": false,
     "task": false
    }
   },
   "source": [
    "<div class=\" alert alert-warning\">\n",
    "    <h3>Question 1.</h3>\n",
    "    \n",
    "Choose the correct statement. GANs are typically used for:\n",
    "\n",
    "1. Predicting real-valued labels of data points\n",
    "2. Classifying images\n",
    "3. Generating data similar to a given \"reference\" or \"target\" dataset\n",
    "4. Clustering data\n",
    "    \n",
    "</div>"
   ]
  },
  {
   "cell_type": "code",
   "execution_count": null,
   "metadata": {
    "deletable": false,
    "nbgrader": {
     "cell_type": "code",
     "checksum": "1e8ae32fec2cdea126d13807e64c57e4",
     "grade": false,
     "grade_id": "cell-f6357f03cc64f12e",
     "locked": false,
     "schema_version": 3,
     "solution": true,
     "task": false
    }
   },
   "outputs": [],
   "source": [
    "# remove the line raise NotImplementedError() before testing your solution and submitting code\n",
    "\n",
    "# YOUR CODE HERE\n",
    "raise NotImplementedError()\n",
    "\n",
    "# answer_1 = ..."
   ]
  },
  {
   "cell_type": "code",
   "execution_count": null,
   "metadata": {
    "deletable": false,
    "editable": false,
    "nbgrader": {
     "cell_type": "code",
     "checksum": "e7358c1279b5f4135286d76e41d47546",
     "grade": true,
     "grade_id": "cell-187619d1f7ae9ec8",
     "locked": true,
     "points": 1,
     "schema_version": 3,
     "solution": false,
     "task": false
    }
   },
   "outputs": [],
   "source": [
    "# This cell is for tests\n",
    "assert answer_1 in [1, 2, 3, 4], '\"answer\" Value should be an integer between 1 and 4.'\n",
    "print('Sanity check tests passed!')\n"
   ]
  },
  {
   "cell_type": "markdown",
   "metadata": {
    "deletable": false,
    "editable": false,
    "nbgrader": {
     "cell_type": "markdown",
     "checksum": "df5e3aff7b81fef0362e7f77f80b7ebd",
     "grade": false,
     "grade_id": "cell-c6cccf62ec36649a",
     "locked": true,
     "schema_version": 3,
     "solution": false,
     "task": false
    }
   },
   "source": [
    "<div class=\" alert alert-warning\">\n",
    "    <h3>Question 2.</h3>\n",
    "    \n",
    "Choose the correct statement. Generative Adversarial Networks:\n",
    "\n",
    "1. is a feed-forward densely connected network\n",
    "2. is a convolutional neural network\n",
    "3. is a layer of an ANN\n",
    "4. consists of two ANNs, one of them serving as a data generator and the other one serving as discriminator between \"fake\" and \"real\" datapoints\n",
    "    \n",
    "</div>"
   ]
  },
  {
   "cell_type": "code",
   "execution_count": null,
   "metadata": {
    "deletable": false,
    "nbgrader": {
     "cell_type": "code",
     "checksum": "992368d6fde884b91f96b17d8eb68b6a",
     "grade": false,
     "grade_id": "cell-9c7d959b9d3b236d",
     "locked": false,
     "schema_version": 3,
     "solution": true,
     "task": false
    }
   },
   "outputs": [],
   "source": [
    "# remove the line raise NotImplementedError() before testing your solution and submitting code\n",
    "\n",
    "# YOUR CODE HERE\n",
    "raise NotImplementedError()\n",
    "\n",
    "# answer_2 = ..."
   ]
  },
  {
   "cell_type": "code",
   "execution_count": null,
   "metadata": {
    "deletable": false,
    "editable": false,
    "nbgrader": {
     "cell_type": "code",
     "checksum": "c520eb220eff4ea6e1e167dad81b046b",
     "grade": true,
     "grade_id": "cell-18f4aa1b7ce2cea4",
     "locked": true,
     "points": 1,
     "schema_version": 3,
     "solution": false,
     "task": false
    }
   },
   "outputs": [],
   "source": [
    "# This cell is for tests\n",
    "assert answer_2 in [1, 2, 3, 4], '\"answer\" Value should be an integer between 1 and 4.'\n",
    "print('Sanity check tests passed!')\n"
   ]
  },
  {
   "cell_type": "markdown",
   "metadata": {
    "deletable": false,
    "editable": false,
    "nbgrader": {
     "cell_type": "markdown",
     "checksum": "faad07d14468ccb7d185798b592037b6",
     "grade": false,
     "grade_id": "cell-a88db4760963d2e2",
     "locked": true,
     "schema_version": 3,
     "solution": false,
     "task": false
    }
   },
   "source": [
    "<div class=\" alert alert-warning\">\n",
    "    <h3>Question 3.</h3>\n",
    "    \n",
    "Choose the correct statement. \n",
    "    \n",
    "During the **Discriminator** training phase, the discriminator is fed with datapoints:\n",
    "\n",
    "1. that are obtained from the generator ANN (\"fake\") and from the \"target\" dataset (\"real\"). Label for \"fake\" datapoints is $y=1$ and for \"real\" datapoints $y=0$.\n",
    "2. that is obtained only from the generator ANN (\"fake\"). Label for \"fake\" datapoints is $y=1$.\n",
    "3. that are obtained from the generator ANN (\"fake\") and from the \"target\" dataset (\"real\"). Label for \"fake\" datapoints is $y=0$ and for \"real\" datapoints $y=1$.\n",
    "4. that is obtained only from the generator ANN (\"fake\"). Label for \"fake\" datapoints is $y=0$.\n",
    "        \n",
    "</div>"
   ]
  },
  {
   "cell_type": "code",
   "execution_count": null,
   "metadata": {
    "deletable": false,
    "nbgrader": {
     "cell_type": "code",
     "checksum": "60d5943775e421edba0606b2edce94a6",
     "grade": false,
     "grade_id": "cell-8499538e72583306",
     "locked": false,
     "schema_version": 3,
     "solution": true,
     "task": false
    }
   },
   "outputs": [],
   "source": [
    "# remove the line raise NotImplementedError() before testing your solution and submitting code\n",
    "\n",
    "# YOUR CODE HERE\n",
    "raise NotImplementedError()\n",
    "\n",
    "# answer_3 = ..."
   ]
  },
  {
   "cell_type": "code",
   "execution_count": null,
   "metadata": {
    "deletable": false,
    "editable": false,
    "nbgrader": {
     "cell_type": "code",
     "checksum": "c495e16c5738abf6f26d0b7c7771a2a1",
     "grade": true,
     "grade_id": "cell-d1802fb012d9b05e",
     "locked": true,
     "points": 1,
     "schema_version": 3,
     "solution": false,
     "task": false
    }
   },
   "outputs": [],
   "source": [
    "# This cell is for tests\n",
    "assert answer_3 in [1, 2, 3, 4], '\"answer\" Value should be an integer between 1 and 4.'\n",
    "print('Sanity check tests passed!')\n"
   ]
  },
  {
   "cell_type": "markdown",
   "metadata": {
    "deletable": false,
    "editable": false,
    "nbgrader": {
     "cell_type": "markdown",
     "checksum": "13ebf1995ed741e79d69958764550d07",
     "grade": false,
     "grade_id": "cell-2e42581dd311e3a1",
     "locked": true,
     "schema_version": 3,
     "solution": false,
     "task": false
    }
   },
   "source": [
    "<div class=\" alert alert-warning\">\n",
    "    <h3>Question 4.</h3>\n",
    "    \n",
    "During the **Generator** training phase, the discriminator is fed with datapoints:\n",
    "\n",
    "1. that are obtained from the generator ANN (\"fake\") and from the \"target\" dataset (\"real\"). Label for \"fake\" datapoints is $y=1$ and for \"real\" datapoints $y=0$.\n",
    "2. that is obtained only from the generator ANN (\"fake\"). Label for \"fake\" datapoints is $y=1$.\n",
    "3. that are obtained from the generator ANN (\"fake\") and from the \"target\" dataset (\"real\"). Label for \"fake\" datapoints is $y=0$ and for \"real\" datapoints $y=1$.\n",
    "4. that is obtained only from the generator ANN (\"fake\"). Label for \"fake\" datapoints is $y=0$.\n",
    "\n",
    "    \n",
    "</div>"
   ]
  },
  {
   "cell_type": "code",
   "execution_count": null,
   "metadata": {
    "deletable": false,
    "nbgrader": {
     "cell_type": "code",
     "checksum": "7baaa8a8930971808b9570a10eefdd09",
     "grade": false,
     "grade_id": "cell-7563aeca3baecdcb",
     "locked": false,
     "schema_version": 3,
     "solution": true,
     "task": false
    }
   },
   "outputs": [],
   "source": [
    "# remove the line raise NotImplementedError() before testing your solution and submitting code\n",
    "\n",
    "# YOUR CODE HERE\n",
    "raise NotImplementedError()\n",
    "\n",
    "# answer_4 = ..."
   ]
  },
  {
   "cell_type": "code",
   "execution_count": null,
   "metadata": {
    "deletable": false,
    "editable": false,
    "nbgrader": {
     "cell_type": "code",
     "checksum": "2c16703f84c9753eb8d5fb9fb09c4321",
     "grade": true,
     "grade_id": "cell-2ab95b4d5bec6d52",
     "locked": true,
     "points": 1,
     "schema_version": 3,
     "solution": false,
     "task": false
    }
   },
   "outputs": [],
   "source": [
    "# This cell is for tests\n",
    "assert answer_4 in [1, 2, 3, 4], '\"answer\" Value should be an integer between 1 and 4.'\n",
    "print('Sanity check tests passed!')\n"
   ]
  },
  {
   "cell_type": "markdown",
   "metadata": {
    "deletable": false,
    "editable": false,
    "nbgrader": {
     "cell_type": "markdown",
     "checksum": "6351f5f25627703f14dc00e8e1cafed4",
     "grade": false,
     "grade_id": "cell-70853f9403bee5db",
     "locked": true,
     "schema_version": 3,
     "solution": false,
     "task": false
    }
   },
   "source": [
    "<div class=\" alert alert-warning\">\n",
    "    <h3>Question 5.</h3>\n",
    "    \n",
    "Choose the correct statement. During **generator** training phase:\n",
    "\n",
    "1. generator weights are fixed (not trainable)\n",
    "2. discriminator weights are fixed\n",
    "3. both, generator and discriminator weights are fixed\n",
    "4. both, generator and discriminator weights are trainable\n",
    "    \n",
    "</div>"
   ]
  },
  {
   "cell_type": "code",
   "execution_count": null,
   "metadata": {
    "deletable": false,
    "nbgrader": {
     "cell_type": "code",
     "checksum": "112d112beb2dd792288c3ff0ab467b18",
     "grade": false,
     "grade_id": "cell-bdfd86ecfeddd066",
     "locked": false,
     "schema_version": 3,
     "solution": true,
     "task": false
    }
   },
   "outputs": [],
   "source": [
    "# remove the line raise NotImplementedError() before testing your solution and submitting code\n",
    "\n",
    "# YOUR CODE HERE\n",
    "raise NotImplementedError()\n",
    "\n",
    "# answer_5 = ..."
   ]
  },
  {
   "cell_type": "code",
   "execution_count": null,
   "metadata": {
    "deletable": false,
    "editable": false,
    "nbgrader": {
     "cell_type": "code",
     "checksum": "65174f26be0023eed19e01065270fc1c",
     "grade": true,
     "grade_id": "cell-d2574959d9ff66e7",
     "locked": true,
     "points": 1,
     "schema_version": 3,
     "solution": false,
     "task": false
    }
   },
   "outputs": [],
   "source": [
    "# This cell is for tests\n",
    "assert answer_5 in [1, 2, 3, 4], '\"answer\" Value should be an integer between 1 and 4.'\n",
    "print('Sanity check tests passed!')\n"
   ]
  },
  {
   "cell_type": "code",
   "execution_count": null,
   "metadata": {
    "deletable": false,
    "editable": false,
    "nbgrader": {
     "cell_type": "code",
     "checksum": "7c3fef551b016a284b9d35c3b5971855",
     "grade": true,
     "grade_id": "cell-797a7e81947ce74a",
     "locked": true,
     "points": 0,
     "schema_version": 3,
     "solution": false,
     "task": false
    }
   },
   "outputs": [],
   "source": [
    "# This cell is for tests\n"
   ]
  },
  {
   "cell_type": "code",
   "execution_count": null,
   "metadata": {
    "deletable": false,
    "editable": false,
    "nbgrader": {
     "cell_type": "code",
     "checksum": "cbd452ccb69da137930c6ba9177d26dc",
     "grade": true,
     "grade_id": "cell-91bbbba8b4aa049a",
     "locked": true,
     "points": 0,
     "schema_version": 3,
     "solution": false,
     "task": false
    }
   },
   "outputs": [],
   "source": [
    "# This cell is for tests\n"
   ]
  }
 ],
 "metadata": {
  "kernelspec": {
   "display_name": "Python 3",
   "language": "python",
   "name": "python3"
  },
  "language_info": {
   "codemirror_mode": {
    "name": "ipython",
    "version": 3
   },
   "file_extension": ".py",
   "mimetype": "text/x-python",
   "name": "python",
   "nbconvert_exporter": "python",
   "pygments_lexer": "ipython3",
   "version": "3.8.6"
  },
  "toc": {
   "base_numbering": 1,
   "nav_menu": {},
   "number_sections": false,
   "sideBar": true,
   "skip_h1_title": false,
   "title_cell": "Table of Contents",
   "title_sidebar": "Contents",
   "toc_cell": false,
   "toc_position": {
    "height": "calc(100% - 180px)",
    "left": "10px",
    "top": "150px",
    "width": "328.9338073730469px"
   },
   "toc_section_display": true,
   "toc_window_display": true
  },
  "varInspector": {
   "cols": {
    "lenName": 16,
    "lenType": 16,
    "lenVar": 40
   },
   "kernels_config": {
    "python": {
     "delete_cmd_postfix": "",
     "delete_cmd_prefix": "del ",
     "library": "var_list.py",
     "varRefreshCmd": "print(var_dic_list())"
    },
    "r": {
     "delete_cmd_postfix": ") ",
     "delete_cmd_prefix": "rm(",
     "library": "var_list.r",
     "varRefreshCmd": "cat(var_dic_list()) "
    }
   },
   "types_to_exclude": [
    "module",
    "function",
    "builtin_function_or_method",
    "instance",
    "_Feature"
   ],
   "window_display": false
  }
 },
 "nbformat": 4,
 "nbformat_minor": 4
}
