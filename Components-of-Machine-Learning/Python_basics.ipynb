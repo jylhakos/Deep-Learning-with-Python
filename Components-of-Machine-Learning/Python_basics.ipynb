{
 "cells": [
  {
   "cell_type": "markdown",
   "metadata": {
    "deletable": false,
    "editable": false,
    "nbgrader": {
     "cell_type": "markdown",
     "checksum": "feca4f848dabd848af9cf185479ab4cf",
     "grade": false,
     "grade_id": "cell-b6df414c8d03be1a",
     "locked": true,
     "schema_version": 3,
     "solution": false,
     "task": false
    }
   },
   "source": [
    "<h1 align=\"center\">Python Basics.</h1> \n",
    "\n",
    "This notebook is a part of teaching material for the course CS-EJ3311 - Deep Learning with Python 13.09.-17.12.2021\n",
    "\n",
    "Aalto University\\\n",
    "fitech.io"
   ]
  },
  {
   "cell_type": "markdown",
   "metadata": {
    "deletable": false,
    "editable": false,
    "nbgrader": {
     "cell_type": "markdown",
     "checksum": "ab13f186a2d3edb8d2846c48eea9ae24",
     "grade": false,
     "grade_id": "cell-d69c8fec2f9d6b8d",
     "locked": true,
     "schema_version": 3,
     "solution": false,
     "task": false
    }
   },
   "source": [
    "This is an introductory Jupyter notebook, in which you will get familiar with \n",
    "\n",
    "* the Python programming language, \n",
    "* using Jupyter notebooks,\n",
    "* how to complete the coding assignments, \n",
    "* and some mathematical notations. "
   ]
  },
  {
   "cell_type": "markdown",
   "metadata": {
    "deletable": false,
    "editable": false,
    "nbgrader": {
     "cell_type": "markdown",
     "checksum": "8d173e307fcbf77ce87d296c5339e7d4",
     "grade": false,
     "grade_id": "cell-87edece6018597ec",
     "locked": true,
     "schema_version": 3,
     "solution": false,
     "task": false
    }
   },
   "source": [
    "<div class=\" alert alert-danger\">\n",
    "   <h3 align=\"center\"> <b>NOTE: This notebook is not graded. Do not submit it.</b> </h3>\n",
    "    \n",
    "</div>"
   ]
  },
  {
   "cell_type": "markdown",
   "metadata": {
    "deletable": false,
    "editable": false,
    "nbgrader": {
     "cell_type": "markdown",
     "checksum": "ce245c141f75970419bcf6fdc1c0a137",
     "grade": false,
     "grade_id": "cell-24e2621d61401e44",
     "locked": true,
     "schema_version": 3,
     "solution": false,
     "task": false
    }
   },
   "source": [
    "<a href='#python'>What is Python?</a>\\\n",
    "<a href='#nb'>Jupyter Notebooks</a>\\\n",
    "<a href='#print'>Printing output</a>\\\n",
    "<a href='#dtypes'>Basic data types in Python</a>\\\n",
    "<a href='#range'>Creating a sequence of integers</a>\\\n",
    "<a href='#iter'>Iterations</a>\\\n",
    "<a href='#udf'>User defined functions</a>\\\n",
    "<a href='#pylibs'>Python Libraries</a>\\\n",
    "<a href='#df'>Pandas Data Frames </a>\\\n",
    "<a href='#plt'>Plotting with Matplotlib</a>\\\n",
    "<a href='#numpy'>NumPy Arrays</a>\\\n",
    "<a href='#vectors'>Vectors and Matrices</a>\\\n",
    "\\\n",
    "\\\n",
    "<a href='#STrange'><b>Student task.</b> Create sequences of integers.</a>\\\n",
    "<a href='#STloops'><b>Student task.</b> Loops.</a>\\\n",
    "<a href='#STudf'><b>Student task.</b> Power of two function.</a>\\\n",
    "<a href='#STnumpy'><b>Student task.</b> Numpy Arrays</a>\\\n",
    "<a href='#STvectors'><b>Student task.</b> Vector and Matrix operations</a>\n",
    "\n"
   ]
  },
  {
   "cell_type": "markdown",
   "metadata": {
    "deletable": false,
    "editable": false,
    "nbgrader": {
     "cell_type": "markdown",
     "checksum": "9d9ade3fae147ad4f8dafc92b1fedc86",
     "grade": false,
     "grade_id": "cell-fef97edaeb2bc48b",
     "locked": true,
     "schema_version": 3,
     "solution": false,
     "task": false
    }
   },
   "source": [
    "<a id='python'></a>\n",
    "### <center>What is Python?</center>\n",
    "\n",
    "\n",
    "Python is a programming language used to \"give instructions\" to a computer to produce the desired actions or output. Like many other programming languages, such as Ruby, PHP, C++, and Java, Python is [high-level programming language](https://computersciencewiki.org/index.php/Higher_level_and_lower_level_languages), which makes it easy to learn and use Python. Python is an object oriented programming language. The variables of a Python program are objects that represent data (e.g. a number, a character or an entire csv file) along with functions (methods) that can be applied to the data. As a point in case, we can represent a matrix (rectangular array of numbers) using an object of type (or class) `ndarray` (which is included in the Python library `numpy`). Each `ndarray` object  contains methods for processing the matrix entries such as summing them (see [documentation](https://numpy.org/doc/stable/reference/generated/numpy.ndarray.sum.html#numpy.ndarray.sum)).   \n",
    "\n",
    "There are plenty of resources for learning basic Python, and we recommend you to utilize these if you are new to Python or programming in general. [Here](https://wiki.python.org/moin/BeginnersGuide/NonProgrammers), you can find a comprehensive list of books and courses for beginners. For example, the books [\"Automate the Boring Stuff with Python\"](https://automatetheboringstuff.com) by Al Sweigart and [\"Think Python: How to Think Like a Computer Scientist\"](http://greenteapress.com/thinkpython/html/index.html) by Allen B. Downey are freely available online and are excellent places to start. You do not need to read the whole book, as the chapters about data types, indexing, loops, and functions will provide sufficient knowledge for this course. If you prefer more interactive learning, you can find short tutorials and Python exercises that you can run in-browser [here](https://www.w3schools.com/python/python_intro.asp), amongst other places."
   ]
  },
  {
   "cell_type": "markdown",
   "metadata": {
    "deletable": false,
    "editable": false,
    "nbgrader": {
     "cell_type": "markdown",
     "checksum": "80bc64c2951e96ebe961df9cd1eb883f",
     "grade": false,
     "grade_id": "cell-2f24ce273d7f1b19",
     "locked": true,
     "schema_version": 3,
     "solution": false,
     "task": false
    }
   },
   "source": [
    "<a id='nb'></a>\n",
    "### <center>Jupyter Notebooks</center>\n",
    "\n",
    "A Jupyter notebook is a document that contains Python code blocks along with the output (text or plots) generated by the code. Moreover, a Python notebook also contains text blocks that allow to provide explanations and discussions of the Python code blocks and the corresponding outputs. Jupyter notebooks are typically edited and executed via a web application that consists of an online browser as the user interface (where you edit and execute the notebook) and a JupyterHub notebook server that runs the Python code blocks and returns the results to the web browser. \n",
    "\n",
    "The Jupyter notebook server is not necessarily running on a remote computer but can also be installed on your own local computer. Thus, you can run notebooks locally on your computer, with properly installed Python and Jupyter notebook server. However, since we use an autograding system, you will mainly use the Jupyter server run by the Aalto department of Computer Science (https://jupyter.cs.aalto.fi/hub/login). If you are reading this, you probably successfully logged in to Jupyter Hub and fetched a notebook. After completing the notebook exercises, you will need to submit the latest notebook version. "
   ]
  },
  {
   "cell_type": "markdown",
   "metadata": {
    "deletable": false,
    "editable": false,
    "nbgrader": {
     "cell_type": "markdown",
     "checksum": "55ca3b34fce7e11df14609c8c5f034fb",
     "grade": false,
     "grade_id": "cell-a6bdc552f6d85f84",
     "locked": true,
     "schema_version": 3,
     "solution": false,
     "task": false
    }
   },
   "source": [
    "As mentioned above, a notebook consists of different types of blocks or \"cells\". The two most important types of cells are \"markdown\" cells for natural text and code cells that contain exectuable Python code (notebooks can also be used with other programming languages). Below you can see one example for a markdown cell and one example for a code cell. "
   ]
  },
  {
   "cell_type": "markdown",
   "metadata": {
    "deletable": false,
    "editable": false,
    "nbgrader": {
     "cell_type": "markdown",
     "checksum": "7242e579cd563b3579430e5ffbbdbc58",
     "grade": false,
     "grade_id": "cell-656c5796c5c5c109",
     "locked": true,
     "schema_version": 3,
     "solution": false,
     "task": false
    }
   },
   "source": [
    "<<<<  This is markdown cell.  >>>>"
   ]
  },
  {
   "cell_type": "code",
   "execution_count": 1,
   "metadata": {
    "deletable": false,
    "editable": false,
    "nbgrader": {
     "cell_type": "code",
     "checksum": "3c4e7e82a3093c973937c10b130c31ee",
     "grade": false,
     "grade_id": "cell-8e514833d8e633bc",
     "locked": true,
     "schema_version": 3,
     "solution": false,
     "task": false
    }
   },
   "outputs": [
    {
     "name": "stdout",
     "output_type": "stream",
     "text": [
      "Hello world!\n"
     ]
    }
   ],
   "source": [
    "# This is a code cell\n",
    "# Lines which start with '#' are comments and they are ignored during code run\n",
    "\n",
    "print(\"Hello world!\")"
   ]
  },
  {
   "cell_type": "markdown",
   "metadata": {
    "deletable": false,
    "editable": false,
    "nbgrader": {
     "cell_type": "markdown",
     "checksum": "46eda04c19fecb00007dc7dd5e029378",
     "grade": false,
     "grade_id": "cell-9aeb3b723e5fab71",
     "locked": true,
     "schema_version": 3,
     "solution": false,
     "task": false
    }
   },
   "source": [
    "To insert/delete cell, go to 'Insert'/'Edit' tab or use keyboard shortcuts:\n",
    "<img src=\"R0_data/pastecell.png\" style=\"height: 300px;\"/>\n",
    "\n",
    "To run cells, going to 'Cell' tab or using keyboard shortcuts:\n",
    "<img src=\"R0_data/runcell.png\" style=\"height: 300px;\"/>\n",
    "\n",
    "You can find a more elaborate introduction to Jupyter notebooks [here](https://realpython.com/jupyter-notebook-introduction/)."
   ]
  },
  {
   "cell_type": "markdown",
   "metadata": {
    "deletable": false,
    "editable": false,
    "nbgrader": {
     "cell_type": "markdown",
     "checksum": "479a85ffdaded48f12be4a6fd382a4b7",
     "grade": false,
     "grade_id": "cell-473b5ddbfd050a90",
     "locked": true,
     "schema_version": 3,
     "solution": false,
     "task": false
    }
   },
   "source": [
    "<a id='print'></a>\n",
    "    \n",
    "### <center>Printing output</center>\n",
    "\n",
    "In Python, you can print output by using the `print()` function:"
   ]
  },
  {
   "cell_type": "code",
   "execution_count": 2,
   "metadata": {
    "deletable": false,
    "editable": false,
    "nbgrader": {
     "cell_type": "code",
     "checksum": "32ccebe0b40f7327924c5b697868cb55",
     "grade": false,
     "grade_id": "cell-6853fec144ecc123",
     "locked": true,
     "schema_version": 3,
     "solution": false,
     "task": false
    }
   },
   "outputs": [
    {
     "name": "stdout",
     "output_type": "stream",
     "text": [
      "The answer is = 42\n",
      "The answer is = 44\n",
      "The answer is = 21.0\n"
     ]
    }
   ],
   "source": [
    "# Assign value 42 to variable myvar\n",
    "myvar = 42\n",
    "\n",
    "# Display output\n",
    "print(\"The answer is =\", myvar)\n",
    "print(f\"The answer is = {myvar+2}\")\n",
    "print(\"The answer is = {}\".format(myvar*0.5))"
   ]
  },
  {
   "cell_type": "markdown",
   "metadata": {
    "deletable": false,
    "editable": false,
    "nbgrader": {
     "cell_type": "markdown",
     "checksum": "306200feb7ec7274e9d975582666a4b4",
     "grade": false,
     "grade_id": "cell-61fe3c2d358a3558",
     "locked": true,
     "schema_version": 3,
     "solution": false,
     "task": false
    }
   },
   "source": [
    "<a id='dtypes'></a>\n",
    "    \n",
    "### <center>Basic data types in Python</center>"
   ]
  },
  {
   "cell_type": "code",
   "execution_count": 3,
   "metadata": {
    "deletable": false,
    "editable": false,
    "nbgrader": {
     "cell_type": "code",
     "checksum": "ab81772160488d3e75854a9f09d1abca",
     "grade": false,
     "grade_id": "cell-e5b6d97f5d89e113",
     "locked": true,
     "schema_version": 3,
     "solution": false,
     "task": false
    }
   },
   "outputs": [
    {
     "name": "stdout",
     "output_type": "stream",
     "text": [
      "42\n",
      "42.5\n",
      "The statement 40+2 equals 42 is True\n",
      "forty two\n",
      "[1, 2, 'cat', 0.5, False]\n",
      "<class 'int'> <class 'float'> <class 'bool'> <class 'str'> <class 'list'>\n"
     ]
    }
   ],
   "source": [
    "# Numeric: integers\n",
    "myint = 42\n",
    "print(myint)\n",
    "\n",
    "# Numeric: floating-point numbers\n",
    "myfloat = 42.5\n",
    "print(myfloat)\n",
    "\n",
    "# Boolean\n",
    "mybool = 40+2 == 42\n",
    "print(\"The statement 40+2 equals 42 is\", mybool)\n",
    "\n",
    "# Strings\n",
    "mystr = \"forty two\"\n",
    "print(mystr)\n",
    "\n",
    "# Lists\n",
    "mylist = [1, 2, \"cat\", 0.5, False]\n",
    "print(mylist)\n",
    "\n",
    "# Print out data types of variables\n",
    "print(type(myint), type(myfloat), type(mybool), type(mystr), type(mylist))"
   ]
  },
  {
   "cell_type": "markdown",
   "metadata": {
    "deletable": false,
    "editable": false,
    "nbgrader": {
     "cell_type": "markdown",
     "checksum": "45d456902646200e87b0ca444f2396f8",
     "grade": false,
     "grade_id": "cell-9c9983d3d540cdc5",
     "locked": true,
     "schema_version": 3,
     "solution": false,
     "task": false
    }
   },
   "source": [
    "<a id='range'></a>\n",
    "    \n",
    "### <center>Creating a sequence of integers</center>\n",
    "\n",
    "You can create a sequence of integers using the built-in functions `range(start, stop[, step])` and `list()`. See https://docs.python.org/3/library/stdtypes.html#range for more information. \n",
    "This built-in function creates the sequence [start,start+step,start+2*step,...]. If the argument `step` is omitted, it defaults to 1. If the `start` argument is omitted, it defaults to 0. "
   ]
  },
  {
   "cell_type": "markdown",
   "metadata": {
    "deletable": false,
    "editable": false,
    "nbgrader": {
     "cell_type": "markdown",
     "checksum": "434b8b930c6619545fbe164a1b40fcd9",
     "grade": false,
     "grade_id": "cell-bb1c08b31779c1ea",
     "locked": true,
     "schema_version": 3,
     "solution": false,
     "task": false
    }
   },
   "source": [
    "<div class=\" alert alert-danger\"> \n",
    "    \n",
    "<center><font size=\"5\"><b>Caution!</b></font></center>\n",
    "    \n",
    "<p><center><font size=\"4\">In <code>range(stop)</code> the sequence starts from 0 and does not include stop value </font></center></p>\n",
    "    \n",
    "</div>"
   ]
  },
  {
   "cell_type": "markdown",
   "metadata": {
    "deletable": false,
    "editable": false,
    "nbgrader": {
     "cell_type": "markdown",
     "checksum": "43c79fb382cdfb46da23f1eb7d1cf3f0",
     "grade": false,
     "grade_id": "cell-c90bedbc96c2a139",
     "locked": true,
     "schema_version": 3,
     "solution": false,
     "task": false
    }
   },
   "source": [
    "Below is a blue markdown cell with an example of \"Demo\" coding exercise, which explains the task and a code cell with implementation of this task. \"Demo\" exercises also help to do \"Student task\" exercises, which are in yellow.\\\n",
    "For student tasks you need to fill out the part after `### STUDENT TASK ###` expression. Often the variables names are already provided, for example:\n",
    "\n",
    "`### STUDENT TASK ###`\n",
    "\n",
    "`# Create lists`\n",
    "\n",
    "`# list1 = ...`\n",
    "\n",
    "`# list2 = ...`\n",
    "\n",
    "In this case `# Create lists` is a comment to clarify the task and `# list1 = ...` and `# list2 = ...` are the lines you need to first, uncomment (remove `#`) and second, complete. In addition, you need to remove `raise NotImplementedError()` line.\n",
    "\n",
    "You will also see \"Sanity check\" cells after the student tasks. These cells are used to catch really obvious mistakes, such as returning string data type instead of float or list with wrong number of elements (length). If your answer passed these tests, \"Sanity checks passed!\" will be printed out."
   ]
  },
  {
   "cell_type": "markdown",
   "metadata": {
    "deletable": false,
    "editable": false,
    "nbgrader": {
     "cell_type": "markdown",
     "checksum": "c2a1ed52b71aaef9e5dd8d34162d9b27",
     "grade": false,
     "grade_id": "cell-d63b548fc1402719",
     "locked": true,
     "schema_version": 3,
     "solution": false,
     "task": false
    }
   },
   "source": [
    "<div class=\" alert alert-danger\"> \n",
    "    \n",
    "<center><font size=\"5\"><b>Caution!</b></font></center>\n",
    "\n",
    "<p><center><font size=\"4\">Passing sanity checks does <b>NOT</b> mean, that the task is solved correctly. You will know if the students tasks were solved correctly only after the deadline.</font></center></p>\n",
    "    \n",
    "</div>"
   ]
  },
  {
   "cell_type": "markdown",
   "metadata": {
    "deletable": false,
    "editable": false,
    "nbgrader": {
     "cell_type": "markdown",
     "checksum": "4e82fc3279aed814297f63dab090ea89",
     "grade": false,
     "grade_id": "cell-d8f3c86091e1b19b",
     "locked": true,
     "schema_version": 3,
     "solution": false,
     "task": false
    }
   },
   "source": [
    "<div class=\" alert alert-info\">\n",
    "   <font size=\"4\"> <b>Demo.</b> Create a sequence of integers.</font>\n",
    "\n",
    "Here you can see an example of creating the sequence of integers from 0 to 10 with `range()` function. Note, that if only one number passed as input to `range(int)` function, it will create sequence starting from `0` to `int` (not included) and step size 1.\n",
    "</div>"
   ]
  },
  {
   "cell_type": "code",
   "execution_count": 4,
   "metadata": {
    "deletable": false,
    "editable": false,
    "nbgrader": {
     "cell_type": "code",
     "checksum": "aa39b25bb16399212dd1013c300ba86d",
     "grade": false,
     "grade_id": "cell-a7b3ccef5250d6cb",
     "locked": true,
     "schema_version": 3,
     "solution": false,
     "task": false
    }
   },
   "outputs": [
    {
     "name": "stdout",
     "output_type": "stream",
     "text": [
      "mylist= [0, 1, 2, 3, 4, 5, 6, 7, 8, 9, 10] data type = <class 'list'>\n"
     ]
    }
   ],
   "source": [
    "# create a sequence (list) 0,1,...,10\n",
    "mylist = list(range(11))\n",
    "\n",
    "# print mylist variable and its data type\n",
    "print(\"mylist=\", mylist, \"data type =\", type(mylist))"
   ]
  },
  {
   "cell_type": "markdown",
   "metadata": {
    "deletable": false,
    "editable": false,
    "nbgrader": {
     "cell_type": "markdown",
     "checksum": "561d51dd6bd34c2a9ff7991015b5cf20",
     "grade": false,
     "grade_id": "cell-90dbfd53f637e462",
     "locked": true,
     "schema_version": 3,
     "solution": false,
     "task": false
    }
   },
   "source": [
    "<a id='STrange'></a>\n",
    "<div class=\" alert alert-warning\">\n",
    "   <font size=\"4\"> <b>Student task.</b> Create sequences of integers.</font>\n",
    "\n",
    "Your task is to create:\n",
    "1. list `list1` which stores a sequence of integers from 1 to 10 (including 10) with step size=1.\n",
    "2. list `list2` which stores a sequence of integers from 0 to 10 (including 10) with step size=2.\n",
    "    \n",
    "Lists should be created with use of `list()` and `range()` functions.\n",
    "    \n",
    "</div>"
   ]
  },
  {
   "cell_type": "code",
   "execution_count": 5,
   "metadata": {
    "deletable": false,
    "nbgrader": {
     "cell_type": "code",
     "checksum": "fbd8ad4c21e6a2e8e85bf288f1b093f1",
     "grade": false,
     "grade_id": "cell-d9c0c36f8aa6b3c9",
     "locked": false,
     "schema_version": 3,
     "solution": true,
     "task": false
    }
   },
   "outputs": [
    {
     "name": "stdout",
     "output_type": "stream",
     "text": [
      "list1 =  [1, 2, 3, 4, 5, 6, 7, 8, 9, 10] \n",
      " list2 =  [0, 2, 4, 6, 8, 10]\n"
     ]
    }
   ],
   "source": [
    "### STUDENT TASK ###\n",
    "# Create lists\n",
    "# list1 = ...\n",
    "# list2 = ...\n",
    "#\n",
    "# remove the line raise NotImplementedError() before testing your solution \n",
    "# YOUR CODE HERE\n",
    "#raise NotImplementedError()\n",
    "\n",
    "list1 = list(range(1,11))\n",
    "\n",
    "list2 = list(range(0,11,2))\n",
    "\n",
    "print(\"list1 = \", list1, \"\\n\",\n",
    "      \"list2 = \", list2)"
   ]
  },
  {
   "cell_type": "markdown",
   "metadata": {
    "deletable": false,
    "editable": false,
    "nbgrader": {
     "cell_type": "markdown",
     "checksum": "6855b65fc3a56673e8989548fe998be4",
     "grade": false,
     "grade_id": "cell-84b11b3534931d3b",
     "locked": true,
     "schema_version": 3,
     "solution": false,
     "task": false
    }
   },
   "source": [
    "Uncomment the following line to see the solution"
   ]
  },
  {
   "cell_type": "code",
   "execution_count": 6,
   "metadata": {},
   "outputs": [],
   "source": [
    "# %load R0_data/solutions/student-task-1.py\n",
    "list1 = list(range(1,11))\n",
    "list2 = list(range(0,11,2))"
   ]
  },
  {
   "cell_type": "markdown",
   "metadata": {
    "deletable": false,
    "editable": false,
    "nbgrader": {
     "cell_type": "markdown",
     "checksum": "4827a5363a9ade5b11b06ed4811f5520",
     "grade": false,
     "grade_id": "cell-7688225095399fab",
     "locked": true,
     "schema_version": 3,
     "solution": false,
     "task": false
    }
   },
   "source": [
    "<a id='iter'></a>\n",
    "    \n",
    "### <center>Iterations</center>"
   ]
  },
  {
   "cell_type": "code",
   "execution_count": 7,
   "metadata": {
    "deletable": false,
    "editable": false,
    "nbgrader": {
     "cell_type": "code",
     "checksum": "dc2dac9c0a3e666ce8b88cf373ba8827",
     "grade": false,
     "grade_id": "cell-da2669f012a78d2b",
     "locked": true,
     "schema_version": 3,
     "solution": false,
     "task": false
    }
   },
   "outputs": [
    {
     "name": "stdout",
     "output_type": "stream",
     "text": [
      "hi\n",
      "how\n",
      "are\n",
      "you\n"
     ]
    }
   ],
   "source": [
    "# create a sequence consisting of four words \n",
    "some_sequence = [\"hi\",\"how\",\"are\",\"you\"]\n",
    "\n",
    "# loop over the sequence of elements \n",
    "for word in some_sequence:\n",
    "    print(word)"
   ]
  },
  {
   "cell_type": "markdown",
   "metadata": {
    "deletable": false,
    "editable": false,
    "nbgrader": {
     "cell_type": "markdown",
     "checksum": "841cf4a9b50e63dc3bd1b94269fe3603",
     "grade": false,
     "grade_id": "cell-0a4ca6ca38407658",
     "locked": true,
     "schema_version": 3,
     "solution": false,
     "task": false
    }
   },
   "source": [
    "One of the main use of `range()` is to create loops that iterate over a sequence of values. "
   ]
  },
  {
   "cell_type": "markdown",
   "metadata": {
    "deletable": false,
    "editable": false,
    "nbgrader": {
     "cell_type": "markdown",
     "checksum": "ba9536f8234b5f9c9bff2078341c05f6",
     "grade": false,
     "grade_id": "cell-d516deb409563144",
     "locked": true,
     "schema_version": 3,
     "solution": false,
     "task": false
    }
   },
   "source": [
    "<div class=\" alert alert-danger\"> \n",
    "    \n",
    "<center><font size=\"5\"><b>Caution!</b></font></center>\n",
    "\n",
    "<p><center><font size=\"4\">Indexing in Python starts by default at 0 (and not at 1!)</font></center></p>\n",
    "    \n",
    "</div>"
   ]
  },
  {
   "cell_type": "code",
   "execution_count": 8,
   "metadata": {
    "deletable": false,
    "editable": false,
    "nbgrader": {
     "cell_type": "code",
     "checksum": "7a3f4b2b2520c2d65cb9a5b2761a0188",
     "grade": false,
     "grade_id": "cell-8ce6fd54256c18e9",
     "locked": true,
     "schema_version": 3,
     "solution": false,
     "task": false
    }
   },
   "outputs": [
    {
     "name": "stdout",
     "output_type": "stream",
     "text": [
      "index: 0 value: hi\n",
      "index: 1 value: how\n",
      "index: 2 value: are\n",
      "index: 3 value: you\n"
     ]
    }
   ],
   "source": [
    "# create a sequence consisting of four words\n",
    "some_sequence =  [\"hi\",\"how\",\"are\",\"you\"]\n",
    "# find the length of the list\n",
    "length = len(some_sequence)\n",
    "\n",
    "# loop over the sequence of indices (0,1,2,3)\n",
    "for i in range(length):\n",
    "    print(\"index: {} value: {}\".format(i, some_sequence[i]))  "
   ]
  },
  {
   "cell_type": "code",
   "execution_count": 9,
   "metadata": {
    "deletable": false,
    "editable": false,
    "nbgrader": {
     "cell_type": "code",
     "checksum": "5833cacc65757705e97715fbcb926bca",
     "grade": false,
     "grade_id": "cell-6c7faaa21fbc5f42",
     "locked": true,
     "schema_version": 3,
     "solution": false,
     "task": false
    }
   },
   "outputs": [
    {
     "name": "stdout",
     "output_type": "stream",
     "text": [
      "\n",
      "outer loop, iteration: 0  values: [1, 2, 3]\n",
      " \n",
      "inner loop, iteration: 0  value: 1 \n",
      "inner loop, iteration: 1  value: 2 \n",
      "inner loop, iteration: 2  value: 3 \n",
      "\n",
      "outer loop, iteration: 1  values: [4, 5, 6]\n",
      " \n",
      "inner loop, iteration: 0  value: 4 \n",
      "inner loop, iteration: 1  value: 5 \n",
      "inner loop, iteration: 2  value: 6 \n",
      "\n",
      "outer loop, iteration: 2  values: [7, 8, 9]\n",
      " \n",
      "inner loop, iteration: 0  value: 7 \n",
      "inner loop, iteration: 1  value: 8 \n",
      "inner loop, iteration: 2  value: 9 \n"
     ]
    }
   ],
   "source": [
    "# Nested for-loops\n",
    "\n",
    "# create a list \n",
    "mylist = [[1,2,3],[4,5,6],[7,8,9]]\n",
    "\n",
    "# outer loop\n",
    "for i in range(len(mylist)):\n",
    "    print(\"\\nouter loop, iteration: {}  values: {}\\n \".format(i, mylist[i]))\n",
    "    \n",
    "    # inner loop\n",
    "    for j in range(len(mylist[0])):\n",
    "        print(\"inner loop, iteration: {}  value: {} \".format(j, mylist[i][j]))\n"
   ]
  },
  {
   "cell_type": "code",
   "execution_count": 10,
   "metadata": {
    "deletable": false,
    "editable": false,
    "nbgrader": {
     "cell_type": "code",
     "checksum": "a76a84d8ee9726728cc951fdffc96dba",
     "grade": false,
     "grade_id": "cell-19f6f6cb7f429081",
     "locked": true,
     "schema_version": 3,
     "solution": false,
     "task": false
    }
   },
   "outputs": [
    {
     "name": "stdout",
     "output_type": "stream",
     "text": [
      "index: 0 value: hi\n",
      "index: 1 value: how\n",
      "index: 2 value: are\n",
      "index: 3 value: you\n"
     ]
    }
   ],
   "source": [
    "# Iterating with enumerate() Python function\n",
    "# It takes as an input iterable object and returns tuple in a form of (index, element) \n",
    "\n",
    "# create a list \n",
    "some_sequence =  [\"hi\",\"how\",\"are\",\"you\"]\n",
    "\n",
    "# loop over elements of a list \n",
    "for index, value in enumerate(some_sequence):\n",
    "    print(\"index: {} value: {}\".format(index, value))  "
   ]
  },
  {
   "cell_type": "markdown",
   "metadata": {
    "deletable": false,
    "editable": false,
    "nbgrader": {
     "cell_type": "markdown",
     "checksum": "42e70b6b82dcc8c35fcc46768ffbecf0",
     "grade": false,
     "grade_id": "cell-cb7c004f64222ced",
     "locked": true,
     "schema_version": 3,
     "solution": false,
     "task": false
    }
   },
   "source": [
    "If you need to iterate over two sequences of the same size, you can use the built-in function `zip()`"
   ]
  },
  {
   "cell_type": "code",
   "execution_count": 11,
   "metadata": {
    "deletable": false,
    "editable": false,
    "nbgrader": {
     "cell_type": "code",
     "checksum": "3a7ccf468100a58855bbf4fe59595209",
     "grade": false,
     "grade_id": "cell-0144c9d668749bac",
     "locked": true,
     "schema_version": 3,
     "solution": false,
     "task": false
    }
   },
   "outputs": [
    {
     "name": "stdout",
     "output_type": "stream",
     "text": [
      "one eins\n",
      "two zwei\n",
      "three drei\n",
      "four vier\n"
     ]
    }
   ],
   "source": [
    "# Iterating multiple lists with zip()\n",
    "\n",
    "# create lists\n",
    "some_sequence =  [\"one\",\"two\",\"three\",\"four\"]\n",
    "another_sequence =  [\"eins\",\"zwei\",\"drei\",\"vier\"]\n",
    "\n",
    "# loop over two lists at the same time\n",
    "for val1, val2 in zip(some_sequence, another_sequence):\n",
    "    print(val1, val2)"
   ]
  },
  {
   "cell_type": "code",
   "execution_count": 12,
   "metadata": {
    "deletable": false,
    "editable": false,
    "nbgrader": {
     "cell_type": "code",
     "checksum": "af1f4ee02f820949704903d7bf7cca59",
     "grade": false,
     "grade_id": "cell-51356f39e06daece",
     "locked": true,
     "schema_version": 3,
     "solution": false,
     "task": false
    }
   },
   "outputs": [
    {
     "name": "stdout",
     "output_type": "stream",
     "text": [
      "index: 0 \n",
      "value mylist1: one, value mylist2: eins\n",
      "index: 1 \n",
      "value mylist1: two, value mylist2: zwei\n",
      "index: 2 \n",
      "value mylist1: three, value mylist2: drei\n",
      "index: 3 \n",
      "value mylist1: four, value mylist2: vier\n"
     ]
    }
   ],
   "source": [
    "# Iterating multiple lists with zip() and enumerate()\n",
    "\n",
    "# create lists\n",
    "some_sequence =  [\"one\",\"two\",\"three\",\"four\"]\n",
    "another_sequence =  [\"eins\",\"zwei\",\"drei\",\"vier\"]\n",
    "\n",
    "# loop over two lists at the same time\n",
    "for ind, (val1, val2) in enumerate(zip(some_sequence, another_sequence)):\n",
    "    print(\"index: {} \\nvalue mylist1: {}, value mylist2: {}\".format(ind, val1, val2))  "
   ]
  },
  {
   "cell_type": "markdown",
   "metadata": {
    "deletable": false,
    "editable": false,
    "nbgrader": {
     "cell_type": "markdown",
     "checksum": "40a19a4cfefb1de9b21965e6eb95b9f9",
     "grade": false,
     "grade_id": "cell-95940480e77b5c07",
     "locked": true,
     "schema_version": 3,
     "solution": false,
     "task": false
    }
   },
   "source": [
    "<a id='STloops'></a>\n",
    "<div class=\" alert alert-warning\">\n",
    "   <font size=\"4\"> <b>Student task.</b> Loops.</font>\n",
    "    \n",
    "Write a Python program to count the number of even and odd numbers from a list of numbers. Store results in variables `odd_count` and `even_count`. \n",
    "    \n",
    "Hints: (1) use for-loops and [if-else](https://www.w3schools.com/python/python_conditions.asp) statements, (2) operator `%` is [modulo operator](https://www.freecodecamp.org/news/the-python-modulo-operator-what-does-the-symbol-mean-in-python-solved/) in Python. It's used to get the remainder of a division.\n",
    "    \n",
    "</div>"
   ]
  },
  {
   "cell_type": "code",
   "execution_count": 13,
   "metadata": {
    "deletable": false,
    "nbgrader": {
     "cell_type": "code",
     "checksum": "1ee966c48c9f3dcd3a5f95a13de19e1d",
     "grade": false,
     "grade_id": "cell-257c00e1cd677f01",
     "locked": false,
     "schema_version": 3,
     "solution": true,
     "task": false
    }
   },
   "outputs": [
    {
     "name": "stdout",
     "output_type": "stream",
     "text": [
      "even 1\n",
      "odd 2\n",
      "even 3\n",
      "odd 4\n",
      "even 5\n",
      "odd 6\n",
      "even 7\n",
      "odd 8\n",
      "even 9\n",
      "Number of even numbers : 5\n",
      "Number of odd numbers : 4\n"
     ]
    }
   ],
   "source": [
    "# create a sequence of numbers\n",
    "numbers = [1, 2, 3, 4, 5, 6, 7, 8, 9]\n",
    "\n",
    "# initialize variables\n",
    "odd_count = 0\n",
    "even_count = 0\n",
    "\n",
    "### STUDENT TASK ###\n",
    "#\n",
    "#\n",
    "# remove the line raise NotImplementedError() before testing your solution and submitting code\n",
    "# YOUR CODE HERE\n",
    "#raise NotImplementedError()\n",
    "length = len(numbers)\n",
    "\n",
    "for index in range(length):\n",
    "    if not numbers[index] % 2:\n",
    "        odd_count += 1\n",
    "        print('odd', numbers[index])\n",
    "    else:\n",
    "        even_count += 1\n",
    "        print('even', numbers[index])\n",
    "        \n",
    "\n",
    "print(\"Number of even numbers :\", even_count)\n",
    "print(\"Number of odd numbers :\", odd_count)"
   ]
  },
  {
   "cell_type": "code",
   "execution_count": 14,
   "metadata": {},
   "outputs": [],
   "source": [
    "# %load R0_data/solutions/student-task-2.py\n",
    "for num in numbers:\n",
    "    if not num%2:\n",
    "        even_count+=1\n",
    "    else:\n",
    "        odd_count+=1"
   ]
  },
  {
   "cell_type": "markdown",
   "metadata": {
    "deletable": false,
    "editable": false,
    "nbgrader": {
     "cell_type": "markdown",
     "checksum": "4b6b82cc72a02b94b22100b9c501aae5",
     "grade": false,
     "grade_id": "cell-3e01369562c25819",
     "locked": true,
     "schema_version": 3,
     "solution": false,
     "task": false
    }
   },
   "source": [
    "<a id=udf></a>\n",
    "    \n",
    "### <center>User-Defined Functions</center>\n"
   ]
  },
  {
   "cell_type": "markdown",
   "metadata": {
    "deletable": false,
    "editable": false,
    "nbgrader": {
     "cell_type": "markdown",
     "checksum": "e52a13c574e04f731c941623341e5edc",
     "grade": false,
     "grade_id": "cell-9de89a3b1eaf498e",
     "locked": true,
     "schema_version": 3,
     "solution": false,
     "task": false
    }
   },
   "source": [
    "Like in other programming languages, user can define their own functions in Python. The basic syntax for Python function contain `def` and `return` expressions. \n",
    "\n",
    "<img src=\"R0_data/udf.png\" width=600px/>\n",
    "\n",
    "The code snippet below shows how to define a function `multiply()` which reads in two arguments `x`and `y`. This function computes the product of the arguments and returns it. "
   ]
  },
  {
   "cell_type": "code",
   "execution_count": 15,
   "metadata": {
    "deletable": false,
    "editable": false,
    "nbgrader": {
     "cell_type": "code",
     "checksum": "fb3a91e9810a73e3b099f76ef8aa1466",
     "grade": false,
     "grade_id": "cell-259df45c0e1874a5",
     "locked": true,
     "schema_version": 3,
     "solution": false,
     "task": false
    }
   },
   "outputs": [
    {
     "name": "stdout",
     "output_type": "stream",
     "text": [
      "6\n",
      "<class 'int'>\n"
     ]
    }
   ],
   "source": [
    "# define a function\n",
    "def multiply(x,y):\n",
    "    '''   \n",
    "    this function takes input x and y\n",
    "    and returns multiplication of x and y\n",
    "   \n",
    "    '''\n",
    "    \n",
    "    # perform computation\n",
    "    out = x*y\n",
    "    \n",
    "    return out\n",
    "\n",
    "# apply the function \n",
    "y = multiply(2,3)\n",
    "\n",
    "# print the result \n",
    "print(y)\n",
    "# print the data type of the result\n",
    "print(type(y))"
   ]
  },
  {
   "cell_type": "markdown",
   "metadata": {
    "deletable": false,
    "editable": false,
    "nbgrader": {
     "cell_type": "markdown",
     "checksum": "32db28a2dfef2065c1c64d9605be4bd1",
     "grade": false,
     "grade_id": "cell-db5b76518b6c1c42",
     "locked": true,
     "schema_version": 3,
     "solution": false,
     "task": false
    }
   },
   "source": [
    "<a id='STudf'></a>\n",
    "<div class=\" alert alert-warning\">\n",
    "   <font size=\"4\"> <b>Student task.</b> Power of two function.</font>\n",
    "\n",
    "\n",
    "Your task is to write Python function `power_of_two()`, which takes as input integer, and returns list `out` of power of two values, e.g. for `power_of_two(3)` variable `out` should be a list `out=[2,4,8]`. Length of the list should be equal to the input integer.\n",
    "\n",
    "</div>"
   ]
  },
  {
   "cell_type": "code",
   "execution_count": 16,
   "metadata": {
    "deletable": false,
    "nbgrader": {
     "cell_type": "code",
     "checksum": "e594feb1e98a13fcdd9b1bf43c5b24e0",
     "grade": false,
     "grade_id": "cell-155acbf04747500a",
     "locked": false,
     "schema_version": 3,
     "solution": true,
     "task": false
    }
   },
   "outputs": [
    {
     "name": "stdout",
     "output_type": "stream",
     "text": [
      "[2, 4, 8, 16, 32]\n",
      "[2, 4, 8, 16, 32]\n"
     ]
    }
   ],
   "source": [
    "### STUDENT TASK ###\n",
    "#\n",
    "#\n",
    "# remove the line raise NotImplementedError() before testing your solution and submitting code\n",
    "# YOUR CODE HERE\n",
    "#raise NotImplementedError()\n",
    "def power_of_two(x):\n",
    "    y = []\n",
    "    z = 2\n",
    "    for i in range(0,x):\n",
    "        z = 2\n",
    "        for j in range(0,i):\n",
    "            z *= 2\n",
    "            #print('z', i, j, z)\n",
    "        #print('y', y)\n",
    "        y.append(z)\n",
    "\n",
    "    return y\n",
    "\n",
    "def power_of_2(x):\n",
    "    y = []\n",
    "    z = 0\n",
    "\n",
    "    for i in range(1,x+1):\n",
    "        z = 2**i\n",
    "        y.append(z)\n",
    "\n",
    "    return y\n",
    "\n",
    "out_two = power_of_two(5)\n",
    "print(out_two)\n",
    "out_2 = power_of_2(5)\n",
    "print(out_2)"
   ]
  },
  {
   "cell_type": "code",
   "execution_count": 17,
   "metadata": {},
   "outputs": [
    {
     "name": "stdout",
     "output_type": "stream",
     "text": [
      "[2, 4, 8, 16, 32]\n"
     ]
    },
    {
     "data": {
      "text/plain": [
       "[2, 4, 8, 16, 32]"
      ]
     },
     "execution_count": 17,
     "metadata": {},
     "output_type": "execute_result"
    }
   ],
   "source": [
    "# %load R0_data/solutions/student-task-3.py\n",
    "def power_of_two(n):\n",
    "    out = [ 2**i for i in range(1,n+1) ]\n",
    "    print(out)\n",
    "    return out\n",
    "power_of_two(5)"
   ]
  },
  {
   "cell_type": "markdown",
   "metadata": {
    "deletable": false,
    "editable": false,
    "nbgrader": {
     "cell_type": "markdown",
     "checksum": "651afea61f13bbdba8bcf1a6822643da",
     "grade": false,
     "grade_id": "cell-e058b277e907ba6b",
     "locked": true,
     "schema_version": 3,
     "solution": false,
     "task": false
    }
   },
   "source": [
    "<a id='pylibs'></a>\n",
    "    \n",
    "### <center>Python Libraries</center>\n",
    "    "
   ]
  },
  {
   "cell_type": "markdown",
   "metadata": {
    "deletable": false,
    "editable": false,
    "nbgrader": {
     "cell_type": "markdown",
     "checksum": "bc5a0765a765278840d2df0ac091baf6",
     "grade": false,
     "grade_id": "cell-d815a1668242532a",
     "locked": true,
     "schema_version": 3,
     "solution": false,
     "task": false
    }
   },
   "source": [
    "Python programs can import functions from libraries or so-called packages. Some of the most commonly used Python libraries are:\n",
    "\n",
    "\n",
    "**NumPy** - (Numerical Python) for operations involving arrays of numbers. One-dimensional NumPy arrays are used to represent Euclidean vectors. Two-dimensional NumPy arrays can represent matrices and higher-dimensional arrays represent tensors.\n",
    "\n",
    "https://numpy.org/\n",
    "\n",
    "\n",
    "**Pandas** - A library for loading, analyzing, and manipulating data.\n",
    "\n",
    "https://pandas.pydata.org/docs/\n",
    "\n",
    "\n",
    "**Matplotlib** - A library for data visualization containing many useful tools, e.g., for plotting time series or images. \n",
    "\n",
    "https://matplotlib.org/3.1.1/contents.html\n",
    "\n",
    "\n",
    "**Scikit-learn** - A library containing implementations of several traditional machine learning methods, such as linear regression, decision trees, and clustering methods. \n",
    "\n",
    "https://scikit-learn.org/stable/\n",
    "\n"
   ]
  },
  {
   "cell_type": "markdown",
   "metadata": {
    "deletable": false,
    "editable": false,
    "nbgrader": {
     "cell_type": "markdown",
     "checksum": "d4d75561fbf3a9873da07523f975236d",
     "grade": false,
     "grade_id": "cell-ccde7db7d2f759fb",
     "locked": true,
     "schema_version": 3,
     "solution": false,
     "task": false
    }
   },
   "source": [
    " <b><center><font size=4>How To Use A Python Library</font></center></b>"
   ]
  },
  {
   "cell_type": "markdown",
   "metadata": {
    "deletable": false,
    "editable": false,
    "nbgrader": {
     "cell_type": "markdown",
     "checksum": "5c4e272ee62be5c622b1dca709132b4f",
     "grade": false,
     "grade_id": "cell-8ec15e8077b8ec87",
     "locked": true,
     "schema_version": 3,
     "solution": false,
     "task": false
    }
   },
   "source": [
    "In order to use functions/classes provided by a library, it must first be imported via the command\n",
    "\n",
    "`import <library name> as <short name>`.\n",
    "\n",
    "For example, the statement\n",
    "\n",
    "`import numpy as np`\n",
    "\n",
    "imports the main `numpy` module under the name `np`.\n",
    "\n",
    "Missing imports of libraries are the main cause of error message\n",
    "\n",
    "`NameError: <short name> is not defined`\n",
    "\n",
    "The error message\n",
    "\n",
    "`NameError: np is not defined`\n",
    "\n",
    "arises if a function of a library \"np\" is used, where the library has not been imported beforehand. "
   ]
  },
  {
   "cell_type": "markdown",
   "metadata": {
    "deletable": false,
    "editable": false,
    "nbgrader": {
     "cell_type": "markdown",
     "checksum": "7aaab9c6a25455fb4feba7e2f65d8e91",
     "grade": false,
     "grade_id": "cell-c97496cb07be6296",
     "locked": true,
     "schema_version": 3,
     "solution": false,
     "task": false
    }
   },
   "source": [
    "<a id=df></a>\n",
    "    \n",
    "### <center>Pandas Data Frames</center>"
   ]
  },
  {
   "cell_type": "markdown",
   "metadata": {
    "deletable": false,
    "editable": false,
    "nbgrader": {
     "cell_type": "markdown",
     "checksum": "f30cd5b6df8bc638616a849db971a129",
     "grade": false,
     "grade_id": "cell-9ffd65632dfca1e5",
     "locked": true,
     "schema_version": 3,
     "solution": false,
     "task": false
    }
   },
   "source": [
    "The library `Pandas` provides the class (object type) `DataFrame`. A `DataFrame`is a two-dimensional (with rows and columns) tabular structure. Dataframes are convenient for storing and manipulating heterogeneous data such mixtures of numeric and text data. "
   ]
  },
  {
   "cell_type": "code",
   "execution_count": 18,
   "metadata": {
    "deletable": false,
    "editable": false,
    "nbgrader": {
     "cell_type": "code",
     "checksum": "4276e2e1b6d72cca892c9d57f2e99e37",
     "grade": false,
     "grade_id": "cell-65a9fc72d3dd5b7a",
     "locked": true,
     "schema_version": 3,
     "solution": false,
     "task": false
    }
   },
   "outputs": [
    {
     "data": {
      "text/html": [
       "<div>\n",
       "<style scoped>\n",
       "    .dataframe tbody tr th:only-of-type {\n",
       "        vertical-align: middle;\n",
       "    }\n",
       "\n",
       "    .dataframe tbody tr th {\n",
       "        vertical-align: top;\n",
       "    }\n",
       "\n",
       "    .dataframe thead th {\n",
       "        text-align: right;\n",
       "    }\n",
       "</style>\n",
       "<table border=\"1\" class=\"dataframe\">\n",
       "  <thead>\n",
       "    <tr style=\"text-align: right;\">\n",
       "      <th></th>\n",
       "      <th>animal</th>\n",
       "      <th>name</th>\n",
       "      <th>age, years</th>\n",
       "    </tr>\n",
       "  </thead>\n",
       "  <tbody>\n",
       "    <tr>\n",
       "      <th>id1</th>\n",
       "      <td>cat</td>\n",
       "      <td>Fluffy</td>\n",
       "      <td>3.0</td>\n",
       "    </tr>\n",
       "    <tr>\n",
       "      <th>id2</th>\n",
       "      <td>dog</td>\n",
       "      <td>Chewy</td>\n",
       "      <td>5.0</td>\n",
       "    </tr>\n",
       "    <tr>\n",
       "      <th>id3</th>\n",
       "      <td>mouse</td>\n",
       "      <td>Squeaky</td>\n",
       "      <td>0.5</td>\n",
       "    </tr>\n",
       "    <tr>\n",
       "      <th>id4</th>\n",
       "      <td>rat</td>\n",
       "      <td>Spotty</td>\n",
       "      <td>1.0</td>\n",
       "    </tr>\n",
       "    <tr>\n",
       "      <th>id5</th>\n",
       "      <td>cat</td>\n",
       "      <td>Diablo</td>\n",
       "      <td>8.0</td>\n",
       "    </tr>\n",
       "  </tbody>\n",
       "</table>\n",
       "</div>"
      ],
      "text/plain": [
       "    animal     name  age, years\n",
       "id1    cat   Fluffy         3.0\n",
       "id2    dog    Chewy         5.0\n",
       "id3  mouse  Squeaky         0.5\n",
       "id4    rat   Spotty         1.0\n",
       "id5    cat   Diablo         8.0"
      ]
     },
     "execution_count": 18,
     "metadata": {},
     "output_type": "execute_result"
    }
   ],
   "source": [
    "# import 'pandas' library\n",
    "import pandas as pd\n",
    "\n",
    "# create dictionary\n",
    "mydict = {'animal':['cat', 'dog','mouse','rat', 'cat'],\n",
    "         'name':['Fluffy','Chewy','Squeaky','Spotty', 'Diablo'],\n",
    "         'age, years': [3,5,0.5,1,8]}\n",
    "\n",
    "# create dataframe from dictionary\n",
    "df = pd.DataFrame(mydict, index=['id1','id2','id3','id4','id5'])\n",
    "df"
   ]
  },
  {
   "cell_type": "code",
   "execution_count": 19,
   "metadata": {
    "deletable": false,
    "editable": false,
    "nbgrader": {
     "cell_type": "code",
     "checksum": "c33cb2fea54ce291c34b2ac212765da8",
     "grade": false,
     "grade_id": "cell-8d4a7dfcdc5a6c2e",
     "locked": true,
     "schema_version": 3,
     "solution": false,
     "task": false
    }
   },
   "outputs": [
    {
     "name": "stdout",
     "output_type": "stream",
     "text": [
      "animal           cat\n",
      "name          Fluffy\n",
      "age, years         3\n",
      "Name: id1, dtype: object\n",
      "\n",
      " animal           cat\n",
      "name          Fluffy\n",
      "age, years         3\n",
      "Name: id1, dtype: object\n"
     ]
    }
   ],
   "source": [
    "# Accessing DataFrame elements\n",
    "\n",
    "# access row by name with .loc \n",
    "print(df.loc['id1'])\n",
    "\n",
    "# access row by index with .iloc \n",
    "print('\\n', df.iloc[0])"
   ]
  },
  {
   "cell_type": "code",
   "execution_count": 20,
   "metadata": {
    "deletable": false,
    "editable": false,
    "nbgrader": {
     "cell_type": "code",
     "checksum": "f08cc8da426bda8b13944289b7bcb520",
     "grade": false,
     "grade_id": "cell-b1ce36fcd44735b7",
     "locked": true,
     "schema_version": 3,
     "solution": false,
     "task": false
    }
   },
   "outputs": [
    {
     "name": "stdout",
     "output_type": "stream",
     "text": [
      "id1      cat\n",
      "id2      dog\n",
      "id3    mouse\n",
      "id4      rat\n",
      "id5      cat\n",
      "Name: animal, dtype: object\n",
      "\n",
      " id1      cat\n",
      "id2      dog\n",
      "id3    mouse\n",
      "id4      rat\n",
      "id5      cat\n",
      "Name: animal, dtype: object\n",
      "\n",
      " id1      cat\n",
      "id2      dog\n",
      "id3    mouse\n",
      "id4      rat\n",
      "id5      cat\n",
      "Name: animal, dtype: object\n"
     ]
    }
   ],
   "source": [
    "# access column by name with .loc \n",
    "print(df.loc[:,'animal'])\n",
    "\n",
    "# accsss column by name without .loc \n",
    "print('\\n', df['animal'])\n",
    "\n",
    "# access column by index with .iloc \n",
    "print('\\n', df.iloc[:,0])"
   ]
  },
  {
   "cell_type": "code",
   "execution_count": 21,
   "metadata": {
    "deletable": false,
    "editable": false,
    "nbgrader": {
     "cell_type": "code",
     "checksum": "a6b9130a65fd66d5ae6f0b18661b8f8e",
     "grade": false,
     "grade_id": "cell-1db43e279383808f",
     "locked": true,
     "schema_version": 3,
     "solution": false,
     "task": false
    }
   },
   "outputs": [
    {
     "name": "stdout",
     "output_type": "stream",
     "text": [
      "animal       cat\n",
      "name      Fluffy\n",
      "Name: id1, dtype: object\n",
      "\n",
      " animal       cat\n",
      "name      Fluffy\n",
      "Name: id1, dtype: object\n"
     ]
    }
   ],
   "source": [
    "# access specific row and columns by name with .loc\n",
    "print(df.loc['id1',['animal','name']])\n",
    "\n",
    "# access specific row and columns by index with .iloc\n",
    "print('\\n', df.iloc[0,[0,1]])"
   ]
  },
  {
   "cell_type": "code",
   "execution_count": 22,
   "metadata": {
    "deletable": false,
    "editable": false,
    "nbgrader": {
     "cell_type": "code",
     "checksum": "6256062f8c46fe51f04d1ad8e044b6bf",
     "grade": false,
     "grade_id": "cell-638488df06d1bb32",
     "locked": true,
     "schema_version": 3,
     "solution": false,
     "task": false
    }
   },
   "outputs": [
    {
     "name": "stdout",
     "output_type": "stream",
     "text": [
      "    animal     name  age, years\n",
      "id1    cat   Fluffy         3.0\n",
      "id3  mouse  Squeaky         0.5\n",
      "id4    rat   Spotty         1.0\n",
      "\n",
      "\n",
      "    animal    name  age, years\n",
      "id1    cat  Fluffy         3.0\n",
      "id5    cat  Diablo         8.0\n",
      "\n",
      "\n",
      "    animal    name  age, years\n",
      "id1    cat  Fluffy         3.0\n",
      "id2    dog   Chewy         5.0\n",
      "id5    cat  Diablo         8.0\n"
     ]
    }
   ],
   "source": [
    "# select subset of data with boolean indexing\n",
    "\n",
    "# select pets with age <= 4\n",
    "print(df[df[\"age, years\"]<=4])\n",
    "print(\"\\n\") # print empty line\n",
    "\n",
    "# select only cats\n",
    "print(df[df[\"animal\"]==\"cat\"])\n",
    "print(\"\\n\") # print empty line\n",
    "\n",
    "# select cats and dogs by using \"|\" operator (equivalent to `OR` opeartor) \n",
    "print(df[(df[\"animal\"]==\"cat\") | (df[\"animal\"]==\"dog\")])"
   ]
  },
  {
   "cell_type": "code",
   "execution_count": 23,
   "metadata": {
    "deletable": false,
    "editable": false,
    "nbgrader": {
     "cell_type": "code",
     "checksum": "eae2cd887ea18e593965653c2f17d625",
     "grade": false,
     "grade_id": "cell-21093ec875d09efd",
     "locked": true,
     "schema_version": 3,
     "solution": false,
     "task": false
    }
   },
   "outputs": [
    {
     "name": "stdout",
     "output_type": "stream",
     "text": [
      "Shape of the dataframe:  (600, 2)\n",
      "Number of dataframe rows:  600\n",
      "Number of dataframe columns:  2\n"
     ]
    },
    {
     "data": {
      "text/html": [
       "<div>\n",
       "<style scoped>\n",
       "    .dataframe tbody tr th:only-of-type {\n",
       "        vertical-align: middle;\n",
       "    }\n",
       "\n",
       "    .dataframe tbody tr th {\n",
       "        vertical-align: top;\n",
       "    }\n",
       "\n",
       "    .dataframe thead th {\n",
       "        text-align: right;\n",
       "    }\n",
       "</style>\n",
       "<table border=\"1\" class=\"dataframe\">\n",
       "  <thead>\n",
       "    <tr style=\"text-align: right;\">\n",
       "      <th></th>\n",
       "      <th>0</th>\n",
       "      <th>1</th>\n",
       "    </tr>\n",
       "  </thead>\n",
       "  <tbody>\n",
       "    <tr>\n",
       "      <th>0</th>\n",
       "      <td>0.471435</td>\n",
       "      <td>-1.190976</td>\n",
       "    </tr>\n",
       "    <tr>\n",
       "      <th>1</th>\n",
       "      <td>1.432707</td>\n",
       "      <td>-0.312652</td>\n",
       "    </tr>\n",
       "    <tr>\n",
       "      <th>2</th>\n",
       "      <td>-0.720589</td>\n",
       "      <td>0.887163</td>\n",
       "    </tr>\n",
       "    <tr>\n",
       "      <th>3</th>\n",
       "      <td>0.859588</td>\n",
       "      <td>-0.636524</td>\n",
       "    </tr>\n",
       "    <tr>\n",
       "      <th>4</th>\n",
       "      <td>0.015696</td>\n",
       "      <td>-2.242685</td>\n",
       "    </tr>\n",
       "  </tbody>\n",
       "</table>\n",
       "</div>"
      ],
      "text/plain": [
       "          0         1\n",
       "0  0.471435 -1.190976\n",
       "1  1.432707 -0.312652\n",
       "2 -0.720589  0.887163\n",
       "3  0.859588 -0.636524\n",
       "4  0.015696 -2.242685"
      ]
     },
     "execution_count": 23,
     "metadata": {},
     "output_type": "execute_result"
    }
   ],
   "source": [
    "# loading from .csv file by using pandas DataFrame structure\n",
    "df = pd.read_csv('R0_data/Data.csv')\n",
    "\n",
    "# check the shape of the dataframe\n",
    "print(\"Shape of the dataframe: \",df.shape)\n",
    "print(\"Number of dataframe rows: \",df.shape[0])\n",
    "print(\"Number of dataframe columns: \",df.shape[1])\n",
    "\n",
    "# print first 5 rows \n",
    "df.head()"
   ]
  },
  {
   "cell_type": "code",
   "execution_count": 24,
   "metadata": {
    "deletable": false,
    "editable": false,
    "nbgrader": {
     "cell_type": "code",
     "checksum": "669e3b3b935cba77438dd8e969ec6fd1",
     "grade": false,
     "grade_id": "cell-dbe8ef2973f50ec9",
     "locked": true,
     "schema_version": 3,
     "solution": false,
     "task": false
    }
   },
   "outputs": [
    {
     "data": {
      "text/plain": [
       "array([[ 0.47143516, -1.19097569],\n",
       "       [ 1.43270697, -0.3126519 ],\n",
       "       [-0.72058873,  0.88716294],\n",
       "       ...,\n",
       "       [ 3.16009399,  3.83897138],\n",
       "       [ 3.28939313,  3.68964166],\n",
       "       [ 3.39549918,  4.36393359]])"
      ]
     },
     "execution_count": 24,
     "metadata": {},
     "output_type": "execute_result"
    }
   ],
   "source": [
    "# Convert dataframe to numpy array\n",
    "\n",
    "# DataFrame.values return a Numpy representation of the DataFrame.\n",
    "X = df.values\n",
    "X"
   ]
  },
  {
   "cell_type": "markdown",
   "metadata": {
    "deletable": false,
    "editable": false,
    "nbgrader": {
     "cell_type": "markdown",
     "checksum": "d0b02c7846a7edc492d6cee3708a90a5",
     "grade": false,
     "grade_id": "cell-7d55c2deda9623e0",
     "locked": true,
     "schema_version": 3,
     "solution": false,
     "task": false
    }
   },
   "source": [
    "With `pd.read_<format name>` it is possible to read also excel, json, html, sql and many others types of files:\n",
    "\n",
    "https://pandas.pydata.org/pandas-docs/stable/reference/io.html"
   ]
  },
  {
   "cell_type": "markdown",
   "metadata": {
    "deletable": false,
    "editable": false,
    "nbgrader": {
     "cell_type": "markdown",
     "checksum": "4e055544383a27b12a20fd1cb0f54c80",
     "grade": false,
     "grade_id": "cell-1e48126564216fd1",
     "locked": true,
     "schema_version": 3,
     "solution": false,
     "task": false
    }
   },
   "source": [
    "<a id=plt></a>\n",
    "\n",
    "### <center>Plotting with Matplotlib</center>\n"
   ]
  },
  {
   "cell_type": "markdown",
   "metadata": {
    "deletable": false,
    "editable": false,
    "nbgrader": {
     "cell_type": "markdown",
     "checksum": "a8b99411528723d4ef8cabec3df893a2",
     "grade": false,
     "grade_id": "cell-c35ca70dd374d5c4",
     "locked": true,
     "schema_version": 3,
     "solution": false,
     "task": false
    }
   },
   "source": [
    "Matplotlib is a library that provides plotting functionality for Python. Good introductory tutorials for Matplotlib can be found at https://matplotlib.org/tutorials/index.html.\n",
    "\n",
    "A useful command for creating a plot in Python is \n",
    "\n",
    "`fig, axes = plt.subplots()`\n",
    "\n",
    "`plt.subplots()` returns figure and axes (Axes object or array of Axes objects)."
   ]
  },
  {
   "cell_type": "code",
   "execution_count": 25,
   "metadata": {
    "deletable": false,
    "editable": false,
    "nbgrader": {
     "cell_type": "code",
     "checksum": "cab2c0aef09748f28167e49a3f5d48f8",
     "grade": false,
     "grade_id": "cell-93e066ab0770875c",
     "locked": true,
     "schema_version": 3,
     "solution": false,
     "task": false
    }
   },
   "outputs": [
    {
     "data": {
      "text/plain": [
       "<Figure size 640x480 with 2 Axes>"
      ]
     },
     "metadata": {},
     "output_type": "display_data"
    }
   ],
   "source": [
    "# Plotting line and scatter plot\n",
    "\n",
    "# the library \"pyplot\" provides functions for plotting data \n",
    "import matplotlib.pyplot as plt\n",
    "\n",
    "import numpy as np\n",
    "\n",
    "# create data to plot (numpy arrays)\n",
    "x1 = np.linspace(10,100,50)\n",
    "y1 = x1**2\n",
    "\n",
    "# set random state for reproducibility \n",
    "np.random.seed(42)\n",
    "\n",
    "# generate 100 realizations of a Gaussian random variable \n",
    "x2 = np.random.rand(100,)\n",
    "y2 = np.random.rand(100,)\n",
    "\n",
    "# create figure and axes objects\n",
    "fig, axes = plt.subplots(1,2)\n",
    "# plot a line in 1st subplot\n",
    "axes[0].plot(x1,y1,c='r')\n",
    "# plot scatter in 2nd subplot\n",
    "axes[1].scatter(x2,y2)\n",
    "\n",
    "# set axes labels for 1st subplot \n",
    "axes[0].set_xlabel(\"x1\")\n",
    "axes[0].set_ylabel(\"y1\")\n",
    "# set axes labels for 2nd subplot \n",
    "axes[1].set_xlabel(\"x2\")\n",
    "axes[1].set_ylabel(\"y2\")\n",
    "# set titles\n",
    "axes[0].set_title('plot 1')\n",
    "axes[1].set_title('plot 2')\n",
    "\n",
    "# adjust subplots so the labels of different axes are not overlapping \n",
    "fig.tight_layout()\n",
    "# display plot\n",
    "plt.show()"
   ]
  },
  {
   "cell_type": "code",
   "execution_count": 26,
   "metadata": {
    "deletable": false,
    "editable": false,
    "nbgrader": {
     "cell_type": "code",
     "checksum": "3b47814d846309f7a891244e11bef189",
     "grade": false,
     "grade_id": "cell-5eadff7a07e918f5",
     "locked": true,
     "schema_version": 3,
     "solution": false,
     "task": false
    }
   },
   "outputs": [
    {
     "data": {
      "image/png": "[encoded data removed]",
      "text/plain": [
       "<Figure size 432x288 with 1 Axes>"
      ]
     },
     "metadata": {},
     "output_type": "display_data"
    }
   ],
   "source": [
    "# Plotting 2D plot with meshgrid \n",
    "\n",
    "# create numpy arrays\n",
    "x = np.arange(-5, 5, 1)\n",
    "y = np.arange(-5, 5, 1)\n",
    "\n",
    "# create the grid\n",
    "xx, yy = np.meshgrid(x, y)\n",
    "\n",
    "# plot the grid \n",
    "plt.plot(xx,yy,marker='.', color='k', linestyle='none')\n",
    "\n",
    "# set axes labels \n",
    "plt.xlabel(\"x\")\n",
    "plt.ylabel(\"y\")\n",
    "# set title\n",
    "plt.title('xy grid', fontweight='bold')\n",
    "\n",
    "# display the plot\n",
    "plt.show()"
   ]
  },
  {
   "cell_type": "markdown",
   "metadata": {
    "deletable": false,
    "editable": false,
    "nbgrader": {
     "cell_type": "markdown",
     "checksum": "1f259ca2476197f8a7de902260985986",
     "grade": false,
     "grade_id": "cell-0d293f8e14e80062",
     "locked": true,
     "schema_version": 3,
     "solution": false,
     "task": false
    }
   },
   "source": [
    "<a id=numpy></a>\n",
    "    \n",
    "### <center>Numpy Arrays</center>"
   ]
  },
  {
   "cell_type": "markdown",
   "metadata": {
    "deletable": false,
    "editable": false,
    "nbgrader": {
     "cell_type": "markdown",
     "checksum": "dcd872fdf1d29faecfcb21ac1357734d",
     "grade": false,
     "grade_id": "cell-067750ac99e6b1d6",
     "locked": true,
     "schema_version": 3,
     "solution": false,
     "task": false
    }
   },
   "source": [
    "The Python library `numpy` provides implementations of many matrix operations as well as other useful features, such as random number generators. Many functions of this library are based on the data type \"numpy array\". A numpy array is an object that stores $N$-dimensional arrays of numbers, where $N$ is the number of dimensions. The shape of a numpy array is given by a sequence of $N$ integers that indicate the number of \"elements\" in each dimension. Maybe the most important special case of numpy arrays is when $N=1$, corresponding to **vectors**, or when $N=2$ for **matrices**. A matrix with $5$ rows and $2$ columns is represented by a numpy array of shape $(5,2)$. \n",
    "\n",
    "Some additional resources to learn more about `numpy` arrays and related operations can be found here:\n",
    "\n",
    "NumPy library page - https://numpy.org/\n",
    "\n",
    "Learn NumPy in 5 minutes video- https://www.youtube.com/watch?v=xECXZ3tyONo\n",
    "\n",
    "Using NumPy arrays allows for **vectorized computation** which allows, in turn, faster code execution: \n",
    "\n",
    "https://www.pythonlikeyoumeanit.com/Module3_IntroducingNumpy/VectorizedOperations.html\n",
    "\n",
    "https://www.oreilly.com/library/view/python-for-data/9781449323592/ch04.html"
   ]
  },
  {
   "cell_type": "markdown",
   "metadata": {
    "deletable": false,
    "editable": false,
    "nbgrader": {
     "cell_type": "markdown",
     "checksum": "27ca9616e015706a0b5891d76ffa8149",
     "grade": false,
     "grade_id": "cell-b8cbd144078da0ce",
     "locked": true,
     "schema_version": 3,
     "solution": false,
     "task": false
    }
   },
   "source": [
    "**<center><font size=\"4\">Different ways to create NumPy Arrays</font></center>**"
   ]
  },
  {
   "cell_type": "code",
   "execution_count": 27,
   "metadata": {
    "deletable": false,
    "editable": false,
    "nbgrader": {
     "cell_type": "code",
     "checksum": "8efbbf2d85f5edad69ea192cba70a263",
     "grade": false,
     "grade_id": "cell-c5733664b0af1321",
     "locked": true,
     "schema_version": 3,
     "solution": false,
     "task": false
    }
   },
   "outputs": [
    {
     "data": {
      "text/plain": [
       "(array([0, 1, 2, 3, 4, 5, 6, 7, 8, 9]),\n",
       " array([0, 1, 2, 3, 4, 5, 6, 7, 8, 9]),\n",
       " array([0, 1, 2, 3, 4, 5, 6, 7, 8, 9]))"
      ]
     },
     "execution_count": 27,
     "metadata": {},
     "output_type": "execute_result"
    }
   ],
   "source": [
    "# convert a sequence 0,1,..,9 to a numpy array `myarray1`\n",
    "mylist  = [0,1,2,3,4,5,6,7,8,9]\n",
    "myarray1 = np.array(mylist)\n",
    "\n",
    "# use range() to create a numpy array\n",
    "myarray2 = np.array(range(10))\n",
    "\n",
    "# use np.arange() function to create a numpy array\n",
    "myarray3 = np.arange(10)\n",
    "\n",
    "# print values of the arrays\n",
    "myarray1, myarray2, myarray3"
   ]
  },
  {
   "cell_type": "code",
   "execution_count": 28,
   "metadata": {
    "deletable": false,
    "editable": false,
    "nbgrader": {
     "cell_type": "code",
     "checksum": "8ed8ea5fd43b21c47ea506c5258e5722",
     "grade": false,
     "grade_id": "cell-52f35b0054f7e785",
     "locked": true,
     "schema_version": 3,
     "solution": false,
     "task": false
    }
   },
   "outputs": [
    {
     "name": "stdout",
     "output_type": "stream",
     "text": [
      "[[0. 0. 0.]\n",
      " [0. 0. 0.]\n",
      " [0. 0. 0.]\n",
      " [0. 0. 0.]] \n",
      "\n",
      "[[1. 1. 1.]\n",
      " [1. 1. 1.]\n",
      " [1. 1. 1.]\n",
      " [1. 1. 1.]]\n"
     ]
    }
   ],
   "source": [
    "# create an array (6 rows, 3 columns) with zeros\n",
    "zeroarray = np.zeros((4,3)) \n",
    "\n",
    "# create an array (6 rows, 3 columns) with ones\n",
    "onesarray = np.ones((4,3))\n",
    "\n",
    "print(zeroarray,'\\n')\n",
    "print(onesarray)"
   ]
  },
  {
   "cell_type": "code",
   "execution_count": 29,
   "metadata": {
    "deletable": false,
    "editable": false,
    "nbgrader": {
     "cell_type": "code",
     "checksum": "0e555646cf991b6443e503c2411c675f",
     "grade": false,
     "grade_id": "cell-56f604145d95e849",
     "locked": true,
     "schema_version": 3,
     "solution": false,
     "task": false
    }
   },
   "outputs": [
    {
     "name": "stdout",
     "output_type": "stream",
     "text": [
      "Number of rows: 2 \n",
      "Number of columns: 3\n",
      "[[1 2 3]\n",
      " [4 5 6]]\n"
     ]
    }
   ],
   "source": [
    "# Pass lists directly to create 2D array\n",
    "myarray = np.array([[1,2,3], [4,5,6]])\n",
    "\n",
    "# Check the array dimensions with .shape attribute (rows, columns)\n",
    "print(\"Number of rows: {} \\nNumber of columns: {}\".format(myarray.shape[0], myarray.shape[1]))\n",
    "print(myarray)"
   ]
  },
  {
   "cell_type": "markdown",
   "metadata": {
    "deletable": false,
    "editable": false,
    "nbgrader": {
     "cell_type": "markdown",
     "checksum": "21b2d4ef96bb1e6e25e45d7738e0665b",
     "grade": false,
     "grade_id": "cell-ed25842a89985769",
     "locked": true,
     "schema_version": 3,
     "solution": false,
     "task": false
    }
   },
   "source": [
    "<div class=\" alert alert-danger\"> \n",
    "    \n",
    "<center><font size=\"5\"><b>Caution!</b></font></center>\n",
    "    \n",
    "<p><center><font size=\"4\">A numpy array of shape (n,1) is different from a numpy array of shape (n,)!</font></center></p>\n",
    "       \n",
    "</div>"
   ]
  },
  {
   "cell_type": "code",
   "execution_count": 30,
   "metadata": {
    "deletable": false,
    "editable": false,
    "nbgrader": {
     "cell_type": "code",
     "checksum": "0fb0f45399232a88cacaae13e35c70d9",
     "grade": false,
     "grade_id": "cell-a8670efb8194690a",
     "locked": true,
     "schema_version": 3,
     "solution": false,
     "task": false
    }
   },
   "outputs": [
    {
     "name": "stdout",
     "output_type": "stream",
     "text": [
      "`myarray1` is 1 - dimensional np.array of shape (10,)\n",
      "`myarray2` is 2 - dimensional np.array of shape (10, 1)\n"
     ]
    }
   ],
   "source": [
    "# Note! Array of shape (n,1) is not equal to the array of shape (n,)\n",
    "# Use .shape attribute to check the array's dimensions\n",
    "# Use .reshape() function to get the array with desired dimensions\n",
    "\n",
    "myarray1 = np.array(range(10))\n",
    "myarray2 = np.array(range(10)).reshape(-1,1)\n",
    "\n",
    "print(\"`myarray1` is\",  myarray1.ndim,\"- dimensional np.array of shape\", myarray1.shape)\n",
    "print(\"`myarray2` is\",  myarray2.ndim,\"- dimensional np.array of shape\", myarray2.shape)"
   ]
  },
  {
   "cell_type": "markdown",
   "metadata": {
    "deletable": false,
    "editable": false,
    "nbgrader": {
     "cell_type": "markdown",
     "checksum": "2fb11418575e3118878c28dd068d5a3e",
     "grade": false,
     "grade_id": "cell-5d49376e0e6a4ffa",
     "locked": true,
     "schema_version": 3,
     "solution": false,
     "task": false
    }
   },
   "source": [
    "**<center><font size=\"4\">Slicing and Combining NumPy Arrays</font></center>**"
   ]
  },
  {
   "cell_type": "code",
   "execution_count": 31,
   "metadata": {
    "deletable": false,
    "editable": false,
    "nbgrader": {
     "cell_type": "code",
     "checksum": "f23362453f5af4494f2f3d3e8a0df519",
     "grade": false,
     "grade_id": "cell-21134f44512b69b0",
     "locked": true,
     "schema_version": 3,
     "solution": false,
     "task": false
    }
   },
   "outputs": [
    {
     "name": "stdout",
     "output_type": "stream",
     "text": [
      "[10  9  8  7  6  5  4  3  2  1]\n",
      "First element of the array: 10\n",
      "\n",
      "[[1 2 3]\n",
      " [4 5 6]]\n",
      "2nd row, 3rd column element of the array: 6\n",
      "\n",
      "[[1 2 3]\n",
      " [4 5 6]]\n",
      "Values >2: [3 4 5 6]\n",
      "\n"
     ]
    }
   ],
   "source": [
    "# Access element of the array by index\n",
    "# Note! Indexing starts with 0\n",
    "\n",
    "# 1D array\n",
    "myarray = np.arange(10,0,-1)\n",
    "print(myarray)\n",
    "print(\"First element of the array: {}\\n\".format(myarray[0]))\n",
    "\n",
    "# 2D array\n",
    "myarray = np.array([[1,2,3],[4,5,6]])\n",
    "print(myarray)\n",
    "print(\"2nd row, 3rd column element of the array: {}\\n\".format(myarray[1,2]))\n",
    "\n",
    "# Conditional indexing - print values of the array larger than 2\n",
    "myarray = np.array([[1,2,3],[4,5,6]])\n",
    "print(myarray)\n",
    "print(\"Values >2: {}\\n\".format(myarray[myarray>2]))"
   ]
  },
  {
   "cell_type": "code",
   "execution_count": 32,
   "metadata": {
    "deletable": false,
    "editable": false,
    "nbgrader": {
     "cell_type": "code",
     "checksum": "3166023f5c315b63aaa5166a7a7c46bf",
     "grade": false,
     "grade_id": "cell-102350092c79e829",
     "locked": true,
     "schema_version": 3,
     "solution": false,
     "task": false
    }
   },
   "outputs": [
    {
     "name": "stdout",
     "output_type": "stream",
     "text": [
      "\n",
      " [[ 0  1  2  3  4]\n",
      " [ 5  6  7  8  9]\n",
      " [10 11 12 13 14]\n",
      " [15 16 17 18 19]]    array shape is  (4, 5)\n",
      "\n",
      "Sliced array:\n",
      " [[1 2]\n",
      " [6 7]]\n"
     ]
    }
   ],
   "source": [
    "# Slicing numpy array\n",
    "# create numpy array with shape=(4,5)\n",
    "myarray = np.arange(20).reshape(4,5)\n",
    "\n",
    "# print the values of the array\n",
    "print('\\n',myarray, \"   array shape is \", myarray.shape)\n",
    "# print the values of the array located at the rows 1,2 and columns 2,3\n",
    "print(\"\\nSliced array:\\n\", myarray[:2,1:3])"
   ]
  },
  {
   "cell_type": "markdown",
   "metadata": {
    "deletable": false,
    "editable": false,
    "nbgrader": {
     "cell_type": "markdown",
     "checksum": "2250eb45145eb99603b965d36dd60a5b",
     "grade": false,
     "grade_id": "cell-f2cf46e396d0c2a6",
     "locked": true,
     "schema_version": 3,
     "solution": false,
     "task": false
    }
   },
   "source": [
    "Some more examples of numpy array slicing"
   ]
  },
  {
   "cell_type": "markdown",
   "metadata": {
    "deletable": false,
    "editable": false,
    "nbgrader": {
     "cell_type": "markdown",
     "checksum": "1d3818e6fc2a3d95edf721043f762632",
     "grade": false,
     "grade_id": "cell-0dadec12d1a5612d",
     "locked": true,
     "schema_version": 3,
     "solution": false,
     "task": false
    }
   },
   "source": [
    "<img src=\"R0_data/npslice.png\" style=\"height: 300px;\"/>\n"
   ]
  },
  {
   "cell_type": "markdown",
   "metadata": {
    "deletable": false,
    "editable": false,
    "nbgrader": {
     "cell_type": "markdown",
     "checksum": "8219b642464c99fe8c2aefa0d79e54e6",
     "grade": false,
     "grade_id": "cell-987b912c9df20a59",
     "locked": true,
     "schema_version": 3,
     "solution": false,
     "task": false
    }
   },
   "source": [
    "**<center><font size=\"4\">Stacking NumPy Arrays</font></center>**"
   ]
  },
  {
   "cell_type": "code",
   "execution_count": 33,
   "metadata": {
    "deletable": false,
    "editable": false,
    "nbgrader": {
     "cell_type": "code",
     "checksum": "6356e2d4c8695ad3266c3163d6780e9c",
     "grade": false,
     "grade_id": "cell-96d8f4df0829d606",
     "locked": true,
     "schema_version": 3,
     "solution": false,
     "task": false
    }
   },
   "outputs": [
    {
     "name": "stdout",
     "output_type": "stream",
     "text": [
      "[[0. 0. 0. 0. 0.]\n",
      " [0. 0. 0. 0. 0.]\n",
      " [2. 2. 2. 2. 2.]\n",
      " [2. 2. 2. 2. 2.]] \n",
      "\n",
      "[[0. 0. 0. 0. 0. 2. 2. 2. 2. 2.]\n",
      " [0. 0. 0. 0. 0. 2. 2. 2. 2. 2.]]\n"
     ]
    }
   ],
   "source": [
    "# Stack arrays vertically (row wise)\n",
    "myarray = np.zeros((2,5))\n",
    "print(np.vstack([myarray, myarray+2]),'\\n')\n",
    "\n",
    "# Stack arrays horizontally (column wise)\n",
    "myarray = np.zeros((2,5))\n",
    "print(np.hstack([myarray, myarray+2]))"
   ]
  },
  {
   "cell_type": "markdown",
   "metadata": {
    "deletable": false,
    "editable": false,
    "nbgrader": {
     "cell_type": "markdown",
     "checksum": "3956d74026fada32e3102b5dcaae5ded",
     "grade": false,
     "grade_id": "cell-aa9252ff82791a31",
     "locked": true,
     "schema_version": 3,
     "solution": false,
     "task": false
    }
   },
   "source": [
    "**<center><font size=\"4\">Viewing and Copying NumPy Arrays</font></center>**\n",
    "\n",
    "Consider a numpy array `a` of shape (5,1). Assume you create a slice `b` which consists of the first two elements of `a`: `b=a[:2]`. It is then important to be aware that the variable `b` is merely a pointer (or reference) to the first two entries of `a`. Thus, when you modify the slice by `b[0] = 10`, you will simultaneously modify the first entry of `a`. If you want the slice to become a new object you need to copy the slice using the function `copy()`. "
   ]
  },
  {
   "cell_type": "markdown",
   "metadata": {
    "deletable": false,
    "editable": false,
    "nbgrader": {
     "cell_type": "markdown",
     "checksum": "fe9cdbc4df511e085c61ced1d9b2e9c1",
     "grade": false,
     "grade_id": "cell-bba42fd235ce4729",
     "locked": true,
     "schema_version": 3,
     "solution": false,
     "task": false
    }
   },
   "source": [
    "<div class=\" alert alert-danger\"> \n",
    "    \n",
    "<center><font size=\"5\"><b>Caution!</b></font></center>\n",
    "    \n",
    "\n",
    "<p><center><font size=\"4\">Modification of an array slice will modify the original array</font></center></p>\n",
    "    \n",
    "</div>"
   ]
  },
  {
   "cell_type": "code",
   "execution_count": 34,
   "metadata": {
    "deletable": false,
    "editable": false,
    "nbgrader": {
     "cell_type": "code",
     "checksum": "551b8b678751d827a728965c00647ed1",
     "grade": false,
     "grade_id": "cell-b63444e430ff643a",
     "locked": true,
     "schema_version": 3,
     "solution": false,
     "task": false
    }
   },
   "outputs": [
    {
     "name": "stdout",
     "output_type": "stream",
     "text": [
      "Original array:  [0 1 2 3 4 5 6 7 8 9]\n",
      "\n",
      "Slice of the array:  [5 6 7 8 9]\n",
      "\n",
      "Modified slice of the array:  [0 0 0 0 0]\n",
      "\n",
      "Original array:  [0 1 2 3 4 0 0 0 0 0]\n"
     ]
    }
   ],
   "source": [
    "# Slice view, creates view of the array and any modification of it will update that array.\n",
    "\n",
    "# create the array \n",
    "myarray = np.arange(10)\n",
    "# print values of the original array\n",
    "print(\"Original array: \", myarray)\n",
    "\n",
    "# assign the slice (view of the array) to a new variable 'myslice'\n",
    "myslice = myarray[5:]\n",
    "# print values of variable 'myslice'\n",
    "print(\"\\nSlice of the array: \", myslice)\n",
    "\n",
    "# modify variable 'myslice' - assign value zero to all entries of the array\n",
    "myslice[:] = 0\n",
    "\n",
    "# print values of the original array and modified variable 'myslice'\n",
    "print(\"\\nModified slice of the array: \", myslice)\n",
    "print(\"\\nOriginal array: \", myarray)"
   ]
  },
  {
   "cell_type": "code",
   "execution_count": 35,
   "metadata": {
    "deletable": false,
    "editable": false,
    "nbgrader": {
     "cell_type": "code",
     "checksum": "1a063fbc8656b762c4b35464e13bccee",
     "grade": false,
     "grade_id": "cell-b56c4d63fb79630a",
     "locked": true,
     "schema_version": 3,
     "solution": false,
     "task": false
    }
   },
   "outputs": [
    {
     "name": "stdout",
     "output_type": "stream",
     "text": [
      "Original array:  [0 1 2 3 4 5 6 7 8 9]\n",
      "\n",
      "Copy of the array:  [5 6 7 8 9]\n",
      "\n",
      "Modified copy of the array:  [0 0 0 0 0]\n",
      "\n",
      "Original array:  [0 1 2 3 4 5 6 7 8 9]\n"
     ]
    }
   ],
   "source": [
    "# Copying array, creates a different object, original array is not modified.\n",
    "\n",
    "# create the array \n",
    "myarray = np.arange(10)\n",
    "# print values of the original array\n",
    "print(\"Original array: \", myarray)\n",
    "\n",
    "# assign the slice (copy of the array) to a new variable 'myslice'\n",
    "myslice = np.copy(myarray[5:])\n",
    "# print values of variable 'myslice'\n",
    "print(\"\\nCopy of the array: \", myslice)\n",
    "\n",
    "# modify variable 'myslice'\n",
    "myslice[:] = 0\n",
    "\n",
    "# print values of the original array and modified variable 'myslice'\n",
    "print(\"\\nModified copy of the array: \", myslice)\n",
    "print(\"\\nOriginal array: \", myarray)"
   ]
  },
  {
   "cell_type": "markdown",
   "metadata": {
    "deletable": false,
    "editable": false,
    "nbgrader": {
     "cell_type": "markdown",
     "checksum": "4f40b0d6079d3867d05015bb14ca7369",
     "grade": false,
     "grade_id": "cell-af888956d0461598",
     "locked": true,
     "schema_version": 3,
     "solution": false,
     "task": false
    }
   },
   "source": [
    "**You can find further reading about view and copy of NumPy Arrays here:**\n",
    "\n",
    "https://scipy-cookbook.readthedocs.io/items/ViewsVsCopies.html"
   ]
  },
  {
   "cell_type": "markdown",
   "metadata": {
    "deletable": false,
    "editable": false,
    "nbgrader": {
     "cell_type": "markdown",
     "checksum": "96b4273020cdf28091163048cda62ba5",
     "grade": false,
     "grade_id": "cell-53726ede6839ebd7",
     "locked": true,
     "schema_version": 3,
     "solution": false,
     "task": false
    }
   },
   "source": [
    "**<center><font size=\"4\">Operations on NumPy Arrays</font></center>**"
   ]
  },
  {
   "cell_type": "code",
   "execution_count": 36,
   "metadata": {
    "deletable": false,
    "editable": false,
    "nbgrader": {
     "cell_type": "code",
     "checksum": "34e8e1ce7db5ca17c60ce81e367cbf11",
     "grade": false,
     "grade_id": "cell-4bbab74b7967bf8d",
     "locked": true,
     "schema_version": 3,
     "solution": false,
     "task": false
    }
   },
   "outputs": [
    {
     "name": "stdout",
     "output_type": "stream",
     "text": [
      "[0 1 2 3 4 5 6 7 8 9] [20 21 22 23 24 25 26 27 28 29]\n",
      "[20 22 24 26 28 30 32 34 36 38]\n",
      "[-20 -20 -20 -20 -20 -20 -20 -20 -20 -20]\n",
      "[  0  21  44  69  96 125 156 189 224 261]\n",
      "[0.         0.04761905 0.09090909 0.13043478 0.16666667 0.2\n",
      " 0.23076923 0.25925926 0.28571429 0.31034483]\n",
      "[ 0  1  4  9 16 25 36 49 64 81]\n"
     ]
    }
   ],
   "source": [
    "# create two numpy arrays\n",
    "\n",
    "x = np.arange(10)\n",
    "y = np.arange(20,30)\n",
    "print(x, y)\n",
    "\n",
    "# elementwise addition and substraction\n",
    "\n",
    "print(x + y)\n",
    "print(x - y)\n",
    "\n",
    "# elementwise multiplication and division\n",
    "\n",
    "print(x * y)\n",
    "print(x / y)\n",
    "\n",
    "# elementwise power\n",
    "\n",
    "print(x**2)"
   ]
  },
  {
   "cell_type": "code",
   "execution_count": 37,
   "metadata": {
    "deletable": false,
    "editable": false,
    "nbgrader": {
     "cell_type": "code",
     "checksum": "7d0be40837a6f93e9b980859e7863f6a",
     "grade": false,
     "grade_id": "cell-0341f762b045de1c",
     "locked": true,
     "schema_version": 3,
     "solution": false,
     "task": false
    }
   },
   "outputs": [
    {
     "name": "stdout",
     "output_type": "stream",
     "text": [
      "[10  9  8  7  6  5  4  3  2  1]\n",
      "\n",
      "Sum of the array:  55\n",
      "\n",
      "Maximum and minimun values: 10, 1 \n",
      "Indices of maximum and minimum values: 0, 9\n"
     ]
    }
   ],
   "source": [
    "# create numpy array\n",
    "x = np.arange(10,0,-1)\n",
    "\n",
    "# useful numpy array functions:\n",
    "# sum of elements\n",
    "x_sum = x.sum()\n",
    "\n",
    "# maximum and minimum values\n",
    "x_max = x.max()\n",
    "x_min = x.min()\n",
    "\n",
    "# indices of maximum and minimum values\n",
    "x_indmax = x.argmax()\n",
    "x_indmin = x.argmin()\n",
    "\n",
    "print(x)\n",
    "print(\"\\nSum of the array: \", x_sum) \n",
    "print(\"\\nMaximum and minimun values: {}, {} \\nIndices of maximum and minimum values: {}, {}\".format(\n",
    "      x_max, x_min, x_indmax, x_indmin))"
   ]
  },
  {
   "cell_type": "markdown",
   "metadata": {
    "deletable": false,
    "editable": false,
    "nbgrader": {
     "cell_type": "markdown",
     "checksum": "2a1c3af6149401209a6df46b89cad598",
     "grade": false,
     "grade_id": "cell-852a76abef2dc7c1",
     "locked": true,
     "schema_version": 3,
     "solution": false,
     "task": false
    }
   },
   "source": [
    "**<center><font size=\"4\">Broadcasting</font></center>**"
   ]
  },
  {
   "cell_type": "markdown",
   "metadata": {
    "deletable": false,
    "editable": false,
    "nbgrader": {
     "cell_type": "markdown",
     "checksum": "a9d4ed6d76c04b30e011c1ee6510a7b4",
     "grade": false,
     "grade_id": "cell-def91f5920dae6ce",
     "locked": true,
     "schema_version": 3,
     "solution": false,
     "task": false
    }
   },
   "source": [
    "Sometimes we need to add the same constant value to all entries of a numpy array. Consider a numpy array `a` of arbitrary size and a numpy array `b` containing a single number. We would like to be able to write `a+b` to get a numpy array whose entries are given by adding the value in `b` to all entries in `a`. The concept of \"broadcasting\" for numpy arrays makes this possible! \n",
    "\n",
    "Find more information here:\n",
    "\n",
    "https://docs.scipy.org/doc/numpy/user/basics.broadcasting.html\n",
    "\n",
    "https://numpy.org/devdocs/user/theory.broadcasting.html"
   ]
  },
  {
   "cell_type": "code",
   "execution_count": 38,
   "metadata": {
    "deletable": false,
    "editable": false,
    "nbgrader": {
     "cell_type": "code",
     "checksum": "a7ef14d65eba704aad4c19a3d10ddc25",
     "grade": false,
     "grade_id": "cell-402164ced523f141",
     "locked": true,
     "schema_version": 3,
     "solution": false,
     "task": false
    }
   },
   "outputs": [
    {
     "name": "stdout",
     "output_type": "stream",
     "text": [
      "x = \n",
      " [[ 1  2  3]\n",
      " [ 4  5  6]\n",
      " [ 7  8  9]\n",
      " [10 11 12]]\n",
      "\n",
      " y =  [[1. 1. 1.]]\n",
      "\n",
      "\n",
      " x+y = \n",
      " [[ 2.  3.  4.]\n",
      " [ 5.  6.  7.]\n",
      " [ 8.  9. 10.]\n",
      " [11. 12. 13.]]\n"
     ]
    }
   ],
   "source": [
    "# It is possible to do operations with different size arrays - broadcasting\n",
    "# create two numpy arrays\n",
    "x = np.array([[1,2,3], [4,5,6], [7,8,9], [10,11,12]])\n",
    "y = np.ones((1,3))\n",
    "\n",
    "# display the values of two arrays\n",
    "print(\"x = \\n\", x)\n",
    "print(\"\\n\", \"y = \", y)\n",
    "\n",
    "# print the result of arrays addition\n",
    "print(\"\\n\\n x+y = \\n\", x+y)"
   ]
  },
  {
   "cell_type": "markdown",
   "metadata": {
    "deletable": false,
    "editable": false,
    "nbgrader": {
     "cell_type": "markdown",
     "checksum": "d10dc0d106591b6ea3e0a54c62e156f8",
     "grade": false,
     "grade_id": "cell-a6971c2e408302ae",
     "locked": true,
     "schema_version": 3,
     "solution": false,
     "task": false
    }
   },
   "source": [
    "<a id='STnumpy'></a>\n",
    "<div class=\" alert alert-warning\">\n",
    "   <font size=\"4\"> <b>Student task.</b> Numpy Arrays</font>\n",
    "    \n",
    "1. Create numpy array `x1` of shape (3,4) with `np.arange(12)`. \n",
    "2. Store values of first two columns and all rows in numpy array `x2`.\n",
    "3. Multiply scalar 5 to `x2`.\n",
    "4. Add two column of zeros as the last two column of `x2`.\n",
    "6. Add up `x1` and `x2` and store the result in `x3`.\n",
    "    \n",
    "</div>"
   ]
  },
  {
   "cell_type": "code",
   "execution_count": 39,
   "metadata": {
    "deletable": false,
    "nbgrader": {
     "cell_type": "code",
     "checksum": "5d3650f51f199988a9862b01bf828182",
     "grade": false,
     "grade_id": "cell-37dffbcf834f6ef3",
     "locked": false,
     "schema_version": 3,
     "solution": true,
     "task": false
    }
   },
   "outputs": [
    {
     "name": "stdout",
     "output_type": "stream",
     "text": [
      "[ 0  1  2  3  4  5  6  7  8  9 10 11] (12,)\n",
      "[[ 0  1  2  3]\n",
      " [ 4  5  6  7]\n",
      " [ 8  9 10 11]] (3, 4)\n",
      "[[0 1]\n",
      " [4 5]\n",
      " [8 9]] (3, 2)\n",
      "[[ 0  5]\n",
      " [20 25]\n",
      " [40 45]]\n",
      "[[ 0  5  0  0]\n",
      " [40 45  0  0]\n",
      " [20 25  0  0]] (3, 4)\n"
     ]
    }
   ],
   "source": [
    "### STUDENT TASK ###\n",
    "# x1 = ...\n",
    "# x2 = ...\n",
    "# x3 = ...\n",
    "# remove the line raise NotImplementedError() before testing your solution and submitting code\n",
    "# YOUR CODE HERE\n",
    "#raise NotImplementedError()\n",
    "x1 = np.arange(12)\n",
    "print(x1, x1.shape)\n",
    "x1 = x1.reshape(3,4)\n",
    "print(x1, x1.shape)\n",
    "x2 = np.copy(x1[:,:2])\n",
    "print(x2, x2.shape)\n",
    "x2 = x2*5\n",
    "print(x2)\n",
    "x2 = np.resize(x2, (3,4))\n",
    "x2[:,2:4] = 0\n",
    "print(x2, x2.shape)"
   ]
  },
  {
   "cell_type": "code",
   "execution_count": 40,
   "metadata": {},
   "outputs": [],
   "source": [
    "# %load R0_data/solutions/student-task-4.py\n",
    "x1 = np.arange(12).reshape(3,4)\n",
    "x2 = np.copy(x1[:,:2])\n",
    "x2 = x2*5\n",
    "x2 = np.hstack([x2, np.zeros((x2.shape[0],2))])\n",
    "x3 = x1+x2"
   ]
  },
  {
   "cell_type": "markdown",
   "metadata": {
    "deletable": false,
    "editable": false,
    "nbgrader": {
     "cell_type": "markdown",
     "checksum": "1ecfddf5d84674c6fcc30006bc835ef8",
     "grade": false,
     "grade_id": "cell-c1315c3111c2c0f3",
     "locked": true,
     "schema_version": 3,
     "solution": false,
     "task": false
    }
   },
   "source": [
    "<a id=vectors></a>\n",
    "    \n",
    "### <center>Vectors and Matrices</center>"
   ]
  },
  {
   "cell_type": "markdown",
   "metadata": {
    "deletable": false,
    "editable": false,
    "nbgrader": {
     "cell_type": "markdown",
     "checksum": "7801b1aa13259aa96b243dc39025c5a0",
     "grade": false,
     "grade_id": "cell-0943a46e73da3549",
     "locked": true,
     "schema_version": 3,
     "solution": false,
     "task": false
    }
   },
   "source": [
    "It is often useful to represent data in a numerical format as vectors or matrices. For example, suppose we have collected weather data (daily minimum, maximum, and average temperatures) for many days. In that case, we can represent observations for one day as a vector (or as NumPy array in Python code) and stack all observations in a matrix. Each row of this matrix would contain the weather observations for one day and each column - the minimum, maximum, or average temperatures across all days.\n",
    "\n",
    "We will soon present the mathematical notation, and the basic operations commonly used when working with vectors and matrices. If the concepts seem difficult to grasp, you can start by watching the animated video series [\"Essence of linear algebra\"](https://www.youtube.com/watch?v=kjBOesZCoqc&list=PL0-GT3co4r2y2YErbmuJw2L5tW4Ew2O5B) from 3Blue1Brown. For more detailed but still accessible explanations, you can check [\"Mathematics for Machine Learning\"](https://mml-book.github.io) book by M.P.Deisenroth, A.A.Faisal, and C.S.Ong (PDF is available on the website)."
   ]
  },
  {
   "cell_type": "markdown",
   "metadata": {
    "deletable": false,
    "editable": false,
    "nbgrader": {
     "cell_type": "markdown",
     "checksum": "5cc0af3db4284a13d4ec4aac003c4a0b",
     "grade": false,
     "grade_id": "cell-27d033df720f39d5",
     "locked": true,
     "schema_version": 3,
     "solution": false,
     "task": false
    }
   },
   "source": [
    "**<center><font size=\"4\">Vectors</font></center>**\n",
    "\n",
    "We denote vectors with lower-case bold letters, e.g. vector $\\mathbf{x}$ consisting of $n$ elements:\n",
    "\n",
    "$\\mathbf{x}= \\begin{pmatrix}\n",
    "x_{1} \\\\ x_{2} \\\\ \\vdots \\\\ x_{n}\n",
    "\\end{pmatrix} $\n",
    "\n",
    "Traditionally vectors are represented as column vectors (elements of the vector stacked vertically). Also, vectors sometimes represented as  $\\mathbf{x} = \\big(x_{1},\\ldots,x_{n}\\big)^{T}$ or a transpose (see below) of a row vector, just for convenience.\\\n",
    "Below, you can see how to create vector $\\mathbf{x}$ consisting of $n$ elements, where  $n=5$ with Python `numpy` library. "
   ]
  },
  {
   "cell_type": "code",
   "execution_count": 41,
   "metadata": {
    "deletable": false,
    "editable": false,
    "nbgrader": {
     "cell_type": "code",
     "checksum": "c9ea2fbfea2f4029549e21e99c4b9c84",
     "grade": false,
     "grade_id": "cell-37b641ba7c2be49e",
     "locked": true,
     "schema_version": 3,
     "solution": false,
     "task": false
    }
   },
   "outputs": [
    {
     "name": "stdout",
     "output_type": "stream",
     "text": [
      "[1 2 3 4 5]\n"
     ]
    }
   ],
   "source": [
    "# import Python library\n",
    "import numpy as np\n",
    "\n",
    "# create numpy array\n",
    "x = np.array([1,2,3,4,5])\n",
    "print(x)"
   ]
  },
  {
   "cell_type": "markdown",
   "metadata": {
    "deletable": false,
    "editable": false,
    "nbgrader": {
     "cell_type": "markdown",
     "checksum": "ce4fe3e3da0fb4e8aca63cdc9293381e",
     "grade": false,
     "grade_id": "cell-a38f59128e0feec6",
     "locked": true,
     "schema_version": 3,
     "solution": false,
     "task": false
    }
   },
   "source": [
    "The $i$:th entry of vector $\\mathbf{x}$ is denoted as $x_{i}$, e.g. first element of vector $\\mathbf{x}$ is $x_{1}$.\n",
    "\n",
    "**Note!** Indexing in Python starts from zero!\n",
    "\n"
   ]
  },
  {
   "cell_type": "code",
   "execution_count": 42,
   "metadata": {
    "deletable": false,
    "editable": false,
    "nbgrader": {
     "cell_type": "code",
     "checksum": "1f559e45fe3a84a3c35f4971d6f970ca",
     "grade": false,
     "grade_id": "cell-d55afbed7351f98a",
     "locked": true,
     "schema_version": 3,
     "solution": false,
     "task": false
    }
   },
   "outputs": [
    {
     "name": "stdout",
     "output_type": "stream",
     "text": [
      "First element of vector x = 1\n"
     ]
    }
   ],
   "source": [
    "# print first element of vector x\n",
    "print(\"First element of vector x =\", x[0])"
   ]
  },
  {
   "cell_type": "markdown",
   "metadata": {
    "deletable": false,
    "editable": false,
    "nbgrader": {
     "cell_type": "markdown",
     "checksum": "20f0e26d473347627d47cf6cf8d5814f",
     "grade": false,
     "grade_id": "cell-9088cc477fbea1fe",
     "locked": true,
     "schema_version": 3,
     "solution": false,
     "task": false
    }
   },
   "source": [
    "**<center><font size=\"4\">Dot Product of two vectors</font></center>**\n",
    "\n",
    "The [dot product](https://en.wikipedia.org/wiki/Dot_product) between two vectors, i.e., one-dimensional NumPy arrays, of the same length is defined as\n",
    "\n",
    "\n",
    "\\begin{equation}\n",
    "\\mathbf{x}^{T}\\mathbf{y} =\n",
    "\\big({x}_{1},{x}_{2},\\ldots,{x}_{m}\\big)  \\cdot \\begin{pmatrix}{y}_{1} \\\\ {y}_{2} \\\\ \\vdots \\\\ {y}_{m} \\end{pmatrix} = \n",
    "{x}_{1}{y}_{1}+{x}_{2}{y}_{2}+\\ldots+{x}_{m}{y}_{m}\n",
    "\\end{equation} \n",
    "\n",
    "Geometrically, it is the product of the Euclidean distances of the two vectors and the cosine of the angle between them. \n",
    "\n",
    "The dot product is also defined for NumPy arrays with more than one dimension (see [numpy documentation](https://numpy.org/doc/stable/reference/generated/numpy.dot.html?highlight=dot#numpy.dot) for more info)."
   ]
  },
  {
   "cell_type": "code",
   "execution_count": 43,
   "metadata": {
    "deletable": false,
    "editable": false,
    "nbgrader": {
     "cell_type": "code",
     "checksum": "445d8c269f47f0d6eac8d54793915619",
     "grade": false,
     "grade_id": "cell-be2d924fd24753fb",
     "locked": true,
     "schema_version": 3,
     "solution": false,
     "task": false
    }
   },
   "outputs": [
    {
     "name": "stdout",
     "output_type": "stream",
     "text": [
      "[0 1 2] [3 4 5]\n"
     ]
    },
    {
     "data": {
      "text/plain": [
       "14"
      ]
     },
     "execution_count": 43,
     "metadata": {},
     "output_type": "execute_result"
    }
   ],
   "source": [
    "# create two numpy arrays\n",
    "x = np.arange(3)\n",
    "y = np.arange(3,6)\n",
    "\n",
    "# display the values of two arrays\n",
    "print(x,y)\n",
    "\n",
    "# dot product 0*3+1*4+2*5\n",
    "x.dot(y) "
   ]
  },
  {
   "cell_type": "markdown",
   "metadata": {
    "deletable": false,
    "editable": false,
    "nbgrader": {
     "cell_type": "markdown",
     "checksum": "474e696a5e32dc40796399a1068e7e01",
     "grade": false,
     "grade_id": "cell-24dc34c72d0af3cb",
     "locked": true,
     "schema_version": 3,
     "solution": false,
     "task": false
    }
   },
   "source": [
    "**<center><font size=\"4\">Outer product of two vectors</font></center>**\n",
    "\n",
    "The [outer product](https://en.wikipedia.org/wiki/Outer_product) between two vectors, i.e., one-dimensional NumPy arrays, of the same length is defined as\n",
    "\n",
    "\n",
    "\\begin{equation}\n",
    "\\mathbf{x}\\mathbf{y}^{T} =\n",
    "\\begin{pmatrix}{x}_{1} \\\\ {x}_{2} \\\\ \\vdots \\\\ {x}_{m} \\end{pmatrix}  \\cdot \\big({y}_{1},{y}_{2},\\ldots,{y}_{m}\\big) =\n",
    "\\begin{pmatrix}\n",
    "  x_1y_1& x_1y_2& \\ldots & x_1y_m \\\\\n",
    "  x_2y_1& x_2y_2& \\ldots & x_2y_m \\\\\n",
    "  \\vdots & \\vdots & \\ddots & \\vdots \\\\\n",
    " x_my_1& x_my_2& \\ldots & x_my_m\n",
    "\\end{pmatrix} \n",
    "\\end{equation} \n",
    "\n",
    "\n",
    "As you can see, the result of the outer product is a matrix, whereas the output of the dot product is scalar. "
   ]
  },
  {
   "cell_type": "code",
   "execution_count": 44,
   "metadata": {
    "deletable": false,
    "editable": false,
    "nbgrader": {
     "cell_type": "code",
     "checksum": "f1a7351e541914c558a3210dafb5c751",
     "grade": false,
     "grade_id": "cell-a4b5aade9b1c4e32",
     "locked": true,
     "schema_version": 3,
     "solution": false,
     "task": false
    }
   },
   "outputs": [
    {
     "name": "stdout",
     "output_type": "stream",
     "text": [
      "[0 1 2] [3 4 5]\n"
     ]
    },
    {
     "data": {
      "text/plain": [
       "array([[ 0,  0,  0],\n",
       "       [ 3,  4,  5],\n",
       "       [ 6,  8, 10]])"
      ]
     },
     "execution_count": 44,
     "metadata": {},
     "output_type": "execute_result"
    }
   ],
   "source": [
    "# create two numpy arrays\n",
    "x = np.arange(3)\n",
    "y = np.arange(3,6)\n",
    "\n",
    "# display the values of two arrays\n",
    "print(x,y)\n",
    "# outer product\n",
    "np.outer(x,y)"
   ]
  },
  {
   "cell_type": "markdown",
   "metadata": {
    "deletable": false,
    "editable": false,
    "nbgrader": {
     "cell_type": "markdown",
     "checksum": "23b9244408fb5ba33de9b9c0cf40ed6d",
     "grade": false,
     "grade_id": "cell-1c5626814a11b61a",
     "locked": true,
     "schema_version": 3,
     "solution": false,
     "task": false
    }
   },
   "source": [
    "**<center><font size=\"4\">Matrices</font></center>**"
   ]
  },
  {
   "cell_type": "markdown",
   "metadata": {
    "deletable": false,
    "editable": false,
    "nbgrader": {
     "cell_type": "markdown",
     "checksum": "c0cf76e068bf297f032c5de483e939b1",
     "grade": false,
     "grade_id": "cell-a7182d158fe64b0a",
     "locked": true,
     "schema_version": 3,
     "solution": false,
     "task": false
    }
   },
   "source": [
    "In many applications, it is natural to represent data as a [matrix](https://en.wikipedia.org/wiki/Matrix_(mathematics)), which is the special case of a two-dimensional NumPy array. \n",
    "\n",
    "We will discuss how to represent our data as a matrix for further analyses in the next round. \n",
    "\n",
    "Matrices are denoted in bold capital letters, e.g. matrix $\\mathbf{X}$ with $m$ rows and $n$ columns or $m \\times n$ matrix.\n",
    "\n",
    "\n",
    "$\\mathbf{X} = \n",
    "           \\begin{pmatrix}\n",
    "              x_1^{(1)} & x_2^{(1)} & \\ldots & x_n^{(1)} \\\\\n",
    "              x_1^{(2)} & x_2^{(2)} & \\ldots & x_n^{(2)} \\\\\n",
    "              \\vdots & \\vdots & \\ddots & \\vdots \\\\\n",
    "              x_1^{(m)} & x_2^{(m)} & \\ldots & x_n^{(m)}\n",
    "           \\end{pmatrix} $\n",
    "\n",
    "\n",
    "Below, you can see how to create a matrix $\\mathbf{X}$ with $m=3$ and $n=4$, containing the range of numbers $0,1,\\ldots,11$. "
   ]
  },
  {
   "cell_type": "code",
   "execution_count": 45,
   "metadata": {
    "deletable": false,
    "editable": false,
    "nbgrader": {
     "cell_type": "code",
     "checksum": "66ff60728b174bb1966d8b388fb22714",
     "grade": false,
     "grade_id": "cell-7524fcc6c0e002c4",
     "locked": true,
     "schema_version": 3,
     "solution": false,
     "task": false
    }
   },
   "outputs": [
    {
     "name": "stdout",
     "output_type": "stream",
     "text": [
      "[[ 0  1  2  3]\n",
      " [ 4  5  6  7]\n",
      " [ 8  9 10 11]]\n"
     ]
    }
   ],
   "source": [
    "X = np.arange(12).reshape(3,4)\n",
    "print(X)"
   ]
  },
  {
   "cell_type": "markdown",
   "metadata": {
    "deletable": false,
    "editable": false,
    "nbgrader": {
     "cell_type": "markdown",
     "checksum": "f9b98a67c51e710bde3382b50aba510e",
     "grade": false,
     "grade_id": "cell-55338c7536e9ec76",
     "locked": true,
     "schema_version": 3,
     "solution": false,
     "task": false
    }
   },
   "source": [
    "**<center><font size=\"4\">Transpose of vectors and matrices</font></center>**\n",
    "\n",
    "The transpose of a matrix and a vector are denoted $\\mathbf{X}^{T}$ or $\\mathbf{x}^{T}$ respectively."
   ]
  },
  {
   "cell_type": "code",
   "execution_count": 46,
   "metadata": {
    "deletable": false,
    "editable": false,
    "nbgrader": {
     "cell_type": "code",
     "checksum": "6d11e2e6f6fc25abc11242ab5da52981",
     "grade": false,
     "grade_id": "cell-2e96f1f9b297658e",
     "locked": true,
     "schema_version": 3,
     "solution": false,
     "task": false
    }
   },
   "outputs": [
    {
     "name": "stdout",
     "output_type": "stream",
     "text": [
      "[[ 0  4  8]\n",
      " [ 1  5  9]\n",
      " [ 2  6 10]\n",
      " [ 3  7 11]] \n",
      "\n",
      "[0 1 2]\n"
     ]
    }
   ],
   "source": [
    "print(X.T, \"\\n\") # \"\\n\" prints empty line\n",
    "print(x.T)"
   ]
  },
  {
   "cell_type": "markdown",
   "metadata": {
    "deletable": false,
    "editable": false,
    "nbgrader": {
     "cell_type": "markdown",
     "checksum": "f9d1e10ebc00ae0e72b88e2146983b2c",
     "grade": false,
     "grade_id": "cell-b7f3a657b8c73deb",
     "locked": true,
     "schema_version": 3,
     "solution": false,
     "task": false
    }
   },
   "source": [
    "**<center><font size=\"4\">Dimension (vector space)</font></center>**\n",
    "\n",
    "Often you will see notations such as $\\mathbf{x} \\in \\mathbb{R}^n$ or $\\mathbf{X} \\in \\mathbb{R}^{m \\times n}$, where $\\mathbb{R}$  are [real numbers](https://en.wikipedia.org/wiki/Real_number) and $\\mathbb{R}^n$ is a [coordinate space](https://en.wikipedia.org/wiki/Real_coordinate_space) consisting of length-$n$ lists of real numbers. For example,  $\\mathbb{R}^2$ is a plane and $\\mathbf{x} \\in \\mathbb{R}^2$ means that vector $\\mathbf{x}$ is in vector space  $\\mathbb{R}^2$ or in the plane.\n",
    "\n",
    "A vector $\\mathbf{x} \\in \\mathbb{R}^2$ consist of two elements and a matrix $\\mathbf{X} \\in \\mathbb{R}^{3 \\times 4}$ consists of $3 \\times 4$ elements.\n",
    "\n",
    "Generally, we say that the matrix $\\mathbf{X}$ with $m$ rows and $n$ columns \n",
    "\n",
    "\\begin{equation}\n",
    "\\mathbf{X}  = \\begin{pmatrix} x_{1,1} & x_{1,2} & \\ldots & x_{1,n} \\\\ \n",
    "x_{2,1} & x_{2,2}& \\ldots & x_{2,n} \\\\ \n",
    "\\vdots & \\vdots & \\vdots & \\vdots \\\\ \n",
    "x_{m,1} & x_{m,2} & \\ldots & x_{m,n} \\end{pmatrix}\\in \\mathbb{R}^{m \\times n}\n",
    "\\end{equation} "
   ]
  },
  {
   "cell_type": "markdown",
   "metadata": {
    "deletable": false,
    "editable": false,
    "nbgrader": {
     "cell_type": "markdown",
     "checksum": "6d777c2b6db83c7ac03e7a22f47bdb72",
     "grade": false,
     "grade_id": "cell-c627d49e5d58362c",
     "locked": true,
     "schema_version": 3,
     "solution": false,
     "task": false
    }
   },
   "source": [
    "**<center><font size=\"4\"> Matrix multiplication</font></center>**\n",
    "\n",
    "Now we will use numpy arrays to create a matrix $\\mathbf{X}$ with $m$ rows and $n$ columns \n",
    "\n",
    "\\begin{equation}\n",
    "\\mathbf{X}  = \\begin{pmatrix} x_{1,1} & x_{1,2} & \\ldots & x_{1,n} \\\\ \n",
    "x_{2,1} & x_{2,2}& \\ldots & x_{2,n} \\\\ \n",
    "\\vdots & \\vdots & \\vdots & \\vdots \\\\ \n",
    "x_{m,1} & x_{m,2} & \\ldots & x_{m,n} \\end{pmatrix}\\in \\mathbb{R}^{m \\times n}\n",
    "\\end{equation} \n",
    "\n",
    " a matrix $\\mathbf{Y}$ with $n$ rows and $m$ columns  \n",
    "\n",
    "\\begin{equation}\n",
    "\\mathbf{Y}  = \\begin{pmatrix} y_{1,1} & y_{1,2} & \\ldots & y_{1,m} \\\\ \n",
    "y_{2,1} & y_{2,2}& \\ldots & y_{2,m} \\\\ \n",
    "\\vdots & \\vdots & \\vdots & \\vdots \\\\ \n",
    "y_{n,1} & y_{n,2} & \\ldots & y_{n,m} \\end{pmatrix}\\in \\mathbb{R}^{n \\times m},\n",
    "\\end{equation}  \n",
    "\n",
    "\n",
    "and perform matrix multiplication to compute the product $\\mathbf{X}\\mathbf{Y}$. "
   ]
  },
  {
   "cell_type": "markdown",
   "metadata": {
    "deletable": false,
    "editable": false,
    "nbgrader": {
     "cell_type": "markdown",
     "checksum": "5eb94058e5f12ecc8ab30c3601fc77c5",
     "grade": false,
     "grade_id": "cell-94d3df065d0f0c7c",
     "locked": true,
     "schema_version": 3,
     "solution": false,
     "task": false
    }
   },
   "source": [
    "[Matrix multiplication](https://en.wikipedia.org/wiki/Matrix_multiplication) is a binary operation that produces a matrix from two matrices. For matrix multiplication, the number of columns in the first matrix must be equal to the number of rows in the second matrix. The result matrix, known as the matrix product, has the number of rows of the first and the number of columns of the second matrix.\n",
    "\n",
    "In Python, matrix multiplication can be performed using NumPy with the `@` operator, which is equivalent to the function `numpy.matmul()`."
   ]
  },
  {
   "cell_type": "code",
   "execution_count": 47,
   "metadata": {
    "deletable": false,
    "editable": false,
    "nbgrader": {
     "cell_type": "code",
     "checksum": "3321d5d8df259cd2599c0b4aa63364f4",
     "grade": false,
     "grade_id": "cell-ac6d31761fb79adc",
     "locked": true,
     "schema_version": 3,
     "solution": false,
     "task": false
    }
   },
   "outputs": [
    {
     "name": "stdout",
     "output_type": "stream",
     "text": [
      "the matrix X has 4 rows and 3 columns \n",
      "\n",
      "the matrix Y has 3 rows and 4 columns \n",
      "\n",
      "the product XY=X@Y is XY = \n",
      " [[ 20  23  26  29]\n",
      " [ 56  68  80  92]\n",
      " [ 92 113 134 155]\n",
      " [128 158 188 218]]\n",
      "\n",
      " the matrix XY has 4 rows and 4 columns \n",
      "\n"
     ]
    }
   ],
   "source": [
    "# create an array of length m*n\n",
    "m = 4\n",
    "n = 3\n",
    "array = np.arange(m*n)\n",
    "\n",
    "# create matrix X represented as a numpy array of shape (m,n)\n",
    "X = array.reshape(m,n)\n",
    "dimension=np.shape(X)      # determine dimensions of matrix X\n",
    "rows = dimension[0]        # first element of \"dimension\" is the number of rows \n",
    "cols = dimension[1]        # second element of \"dimension\" is the number of cols\n",
    "print(\"the matrix X has\", rows, \"rows and\", cols, \"columns \\n\") \n",
    "\n",
    "# create matrix Y represented as a numpy array of shape (n,m)\n",
    "Y = array.reshape(n,m)\n",
    "dimension=np.shape(Y)      # determine dimensions of matrix Y\n",
    "rows = dimension[0]        # first element of \"dimension\" is the number of rows \n",
    "cols = dimension[1]        # second element of \"dimension\" is the number of cols\n",
    "print(\"the matrix Y has\", rows, \"rows and\", cols, \"columns \\n\") \n",
    "\n",
    "# matrix multiplication of X and Y\n",
    "XY = X @ Y\n",
    "# print the result of matrix multiplication \n",
    "print(\"the product XY=X@Y is XY = \\n\", XY) \n",
    "# print the shape of the XY matrix\n",
    "print(\"\\n the matrix XY has\", XY.shape[0], \"rows and\", XY.shape[1], \"columns \\n\") "
   ]
  },
  {
   "cell_type": "markdown",
   "metadata": {
    "deletable": false,
    "editable": false,
    "nbgrader": {
     "cell_type": "markdown",
     "checksum": "acfd18cac0d0edabf2d70eb83dc104ae",
     "grade": false,
     "grade_id": "cell-2b7354279db5060a",
     "locked": true,
     "schema_version": 3,
     "solution": false,
     "task": false
    }
   },
   "source": [
    "**Note!** (1) For matrix multiplication, the number of columns in the first matrix must be equal to the number of rows in the second matrix. The result matrix has the number of rows of the first and the number of columns of the second matrix (2) Order of matrix multiplication is important:  np.matmul(A,B) != np.matmul(B,A) (3) A*B is elemet-waise multiplication in Python, and not the matrix multiplication."
   ]
  },
  {
   "cell_type": "code",
   "execution_count": 48,
   "metadata": {
    "deletable": false,
    "editable": false,
    "nbgrader": {
     "cell_type": "code",
     "checksum": "d92a7820b82b87a243374c0ffc2aa5e7",
     "grade": false,
     "grade_id": "cell-37139565a070a810",
     "locked": true,
     "schema_version": 3,
     "solution": false,
     "task": false
    }
   },
   "outputs": [
    {
     "name": "stdout",
     "output_type": "stream",
     "text": [
      "\n",
      "Matrix multiplication X@Y:\n",
      "\n",
      " [[ 20  23  26  29]\n",
      " [ 56  68  80  92]\n",
      " [ 92 113 134 155]\n",
      " [128 158 188 218]]\n",
      "\n",
      "Matrix multiplication Y@X:\n",
      "\n",
      " [[ 42  48  54]\n",
      " [114 136 158]\n",
      " [186 224 262]]\n",
      "\n",
      "Matrix Z:\n",
      "\n",
      " [[0 1 2]\n",
      " [3 4 5]\n",
      " [6 7 8]]\n",
      "\n",
      "Square - element-wise Z*Z:\n",
      "\n",
      " [[ 0  1  4]\n",
      " [ 9 16 25]\n",
      " [36 49 64]]\n",
      "\n",
      "Square - matrix multiplication Z@Z:\n",
      "\n",
      " [[ 15  18  21]\n",
      " [ 42  54  66]\n",
      " [ 69  90 111]]\n"
     ]
    }
   ],
   "source": [
    "# For matrix multiplication A.dot(B) or A@B can be used\n",
    "print(\"\\nMatrix multiplication X@Y:\\n\\n\", X @ Y)\n",
    "\n",
    "# Order is important in matrix multiplication - A@B != B@A\n",
    "print(\"\\nMatrix multiplication Y@X:\\n\\n\", Y @ X)\n",
    "\n",
    "# Square of the matrix element-wise\n",
    "Z = np.arange(9).reshape(3,3)\n",
    "print(\"\\nMatrix Z:\\n\\n\", Z)\n",
    "print(\"\\nSquare - element-wise Z*Z:\\n\\n\", Z**2)\n",
    "\n",
    "# Square of the matrix by matrix multiplication\n",
    "print(\"\\nSquare - matrix multiplication Z@Z:\\n\\n\", Z @ Z)"
   ]
  },
  {
   "cell_type": "markdown",
   "metadata": {
    "deletable": false,
    "editable": false,
    "nbgrader": {
     "cell_type": "markdown",
     "checksum": "a5ed041f15c350da522dbb110057aacf",
     "grade": false,
     "grade_id": "cell-da2257f3cef00d21",
     "locked": true,
     "schema_version": 3,
     "solution": false,
     "task": false
    }
   },
   "source": [
    "**<center><font size=\"4\">L1-norm of a vector or matrix</font></center>**\n",
    "\n",
    "Norms of vectors are instrumental when we need to measure the similarity between data points represented as vectors.\n",
    "\n",
    "The L1-norm of a vector $\\mathbf{x}$ is defined as the sum of the absolute values of its elements, and is denoted by\n",
    "\n",
    "\\begin{equation}\n",
    "{||\\mathbf{x}||}_{1}= |{x_1}|+...+|{x_n}|\n",
    "\\end{equation}\n"
   ]
  },
  {
   "cell_type": "markdown",
   "metadata": {
    "deletable": false,
    "editable": false,
    "nbgrader": {
     "cell_type": "markdown",
     "checksum": "388351c75663b97dc6804c412bb96330",
     "grade": false,
     "grade_id": "cell-53a4a1f9f863274f",
     "locked": true,
     "schema_version": 3,
     "solution": false,
     "task": false
    }
   },
   "source": [
    "**<center><font size=\"4\">L2-norm of a vector or matrix</font></center>**\n",
    "\n",
    "The L2-norm of a vector or matrix is defined as the square root of sum of the squared components of a vector or matrix, which corresponds to the intuitive notion of distance. It is denoted by\n",
    "\n",
    "\\begin{equation}\n",
    "\\|\\mathbf{x}\\|_{2}= \\sqrt{{x_1}^{2}+...+{x_n}^{2}},\n",
    "\\end{equation}\n",
    " \n",
    "although the subscript is often omitted since the L2-norm is the standard norm in $\\mathbb{R}^n$. It is often useful to calculate the squared L2-norm \n",
    " \n",
    "\\begin{equation}\n",
    "\\|\\mathbf{x}\\|^{2}= {x_1}^{2}+...+{x_n}^{2},\n",
    "\\end{equation}\n",
    " \n",
    "which is equivalent to the inner (dot) product of the vector with itself.\n",
    "\n",
    "In the picture below, you can see the L1 and L2 norms between two points in the Euclidean plane:\n",
    "\n",
    "<img src=\"R0_data/norm.png\" width=400px/>"
   ]
  },
  {
   "cell_type": "markdown",
   "metadata": {
    "deletable": false,
    "editable": false,
    "nbgrader": {
     "cell_type": "markdown",
     "checksum": "b03d722a60fae988dd1bf39481ba00a6",
     "grade": false,
     "grade_id": "cell-0bb5fa308daef7d5",
     "locked": true,
     "schema_version": 3,
     "solution": false,
     "task": false
    }
   },
   "source": [
    "**<center><font size=\"4\">Summation</font></center>**\n",
    "\n",
    "The sum of all elements (from 1 to $n$) of an indexed collection $(x_1, x_2, \\ldots, x_n)$ (e.g., a vector $\\mathbf{x}$) is denoted by\n",
    "\n",
    "\\begin{equation}\n",
    "\\sum_{i=1}^{n}{x}_{i} = {x_1}+...+{x_n}\n",
    "\\end{equation}\n",
    "\n",
    "For example, we can re-write vector norm formula as \n",
    "\n",
    "\\begin{equation}\n",
    "\\| \\mathbf{x} \\|^{2}= \\sum_{i=1}^{n}{x_i}^{2} = {x_1}^{2}+...+{x_n}^{2}\n",
    "\\end{equation}"
   ]
  },
  {
   "cell_type": "markdown",
   "metadata": {
    "deletable": false,
    "editable": false,
    "nbgrader": {
     "cell_type": "markdown",
     "checksum": "cd5d7486c0702ac96ccd4fa7113b92de",
     "grade": false,
     "grade_id": "cell-9a7803ea636d7fcb",
     "locked": true,
     "schema_version": 3,
     "solution": false,
     "task": false
    }
   },
   "source": [
    "**<center><font size=\"4\">Product</font></center>**\n",
    "\n",
    "Product notation $ \\prod$ is used to indicate repeated multiplication.\n",
    "\n",
    "For example,\n",
    "\n",
    "\\begin{equation}\n",
    "\\prod_{k=3}^7 k = 3·4·5·6·7,\n",
    "\\end{equation} or\n",
    "\n",
    "\\begin{equation}\n",
    "\\prod_{i=1}^n {x}_{i} = {x_1}· ... ·{x_n}.\n",
    "\\end{equation}\n"
   ]
  },
  {
   "cell_type": "markdown",
   "metadata": {
    "deletable": false,
    "editable": false,
    "nbgrader": {
     "cell_type": "markdown",
     "checksum": "03321606a0b01b50033b80ba8c235df2",
     "grade": false,
     "grade_id": "cell-9e9c4c942a0e1bfd",
     "locked": true,
     "schema_version": 3,
     "solution": false,
     "task": false
    }
   },
   "source": [
    "<a id='STvectors'></a>\n",
    "<div class=\" alert alert-warning\">\n",
    "   <font size=\"4\"> <b>Student task.</b> Vector and Matrix operations.</font>\n",
    "    \n",
    "Consider following vectors:\n",
    "\n",
    "\\begin{equation}   \n",
    "\\mathbf{x} = \\begin{pmatrix} x_{1} \\\\ x_{2} \\\\ \\vdots \\\\ x_{n} \\end{pmatrix} \\ \n",
    "\\mathbf{w} = \\begin{pmatrix} w_{1} \\\\ w_{2} \\\\ \\vdots \\\\ w_{n} \\end{pmatrix} \n",
    "\\end{equation}    \n",
    "\n",
    "    \n",
    "Your task is to perform following calculations:\n",
    "\n",
    "1.  sum all elements of vector $\\mathbf{x}$:  $\\sum_{i=1}^{n}{x}_{i}$ and store result in variable `vector_sum` \n",
    "2.  square of L2-norm of vector $\\mathbf{x}$: ${||\\mathbf{x}||_2}^{2}$ and store result in `vector_norm ` \n",
    "3.  compute dot-product of two vectors $\\mathbf{w}$ and $\\mathbf{x}$: $\\mathbf{w}^{T}\\mathbf{x}$ and store in variable  `vector_dotprod`\n",
    "4.  compute outer product of two vectors $\\mathbf{w}$ and $\\mathbf{x}$: $\\mathbf{w}\\mathbf{x}^{T}$ and store in variable `vector_outerprod`\n",
    "5. compute multiplication  of `vector_outerprod` and `A` (given below) and store in `mat_mult`\n",
    "    \n",
    "</div>"
   ]
  },
  {
   "cell_type": "code",
   "execution_count": 49,
   "metadata": {
    "deletable": false,
    "nbgrader": {
     "cell_type": "code",
     "checksum": "c0073c4519a8d3a721449ff7eac27dd9",
     "grade": false,
     "grade_id": "cell-16a38ed8a4e6b082",
     "locked": false,
     "schema_version": 3,
     "solution": true,
     "task": false
    }
   },
   "outputs": [
    {
     "name": "stdout",
     "output_type": "stream",
     "text": [
      "x.shape (5,)\n",
      "vector_sum 10\n",
      "The L2 norm is calculated as the square root of the sum of the squared vector values.\n",
      "x2 [ 0  1  4  9 16]\n",
      "xs 30\n",
      "vector_norm 5.477225575051661\n",
      "vector_norm 5.477225575051661\n",
      "vector_norm 5.477225575051661\n",
      "wt [0.37454012 0.95071431 0.73199394 0.59865848 0.15601864] (5,)\n",
      "vector_dotprod 4.834752204393583\n",
      "vector_dotprod 4.834752204393583\n",
      "vector_dotprod 4.834752204393583\n",
      "vector_outerprod [[0.         0.37454012 0.74908024 1.12362036 1.49816048]\n",
      " [0.         0.95071431 1.90142861 2.85214292 3.80285723]\n",
      " [0.         0.73199394 1.46398788 2.19598183 2.92797577]\n",
      " [0.         0.59865848 1.19731697 1.79597545 2.39463394]\n",
      " [0.         0.15601864 0.31203728 0.46805592 0.62407456]]\n",
      "mat_mult [[ 33.7086107   37.45401188  41.19941307]\n",
      " [ 85.56428758  95.07143064 104.57857371]\n",
      " [ 65.87945476  73.19939418  80.5193336 ]\n",
      " [ 53.87926358  59.86584842  65.85243326]\n",
      " [ 14.04167764  15.60186404  17.16205045]]\n"
     ]
    }
   ],
   "source": [
    "np.random.seed(42)\n",
    "\n",
    "x = np.arange(5).reshape(-1,)\n",
    "w = np.random.rand(5).reshape(-1,)\n",
    "A = np.arange(15).reshape(5,3)\n",
    "\n",
    "### STUDENT TASK ###\n",
    "# vector_sum = ...\n",
    "# vector_norm = ...\n",
    "# vector_dotprod = ...\n",
    "# vector_outerprod = ...\n",
    "# mat_mult = ...\n",
    "# remove the line raise NotImplementedError() before testing your solution and submitting code\n",
    "# YOUR CODE HERE\n",
    "#raise NotImplementedError()\n",
    "print('x.shape', x.shape)\n",
    "vector_sum = x.sum()\n",
    "print('vector_sum', vector_sum)\n",
    "print('The L2 norm is calculated as the square root of the sum of the squared vector values.')\n",
    "x2 = x**2\n",
    "print('x2', x2)\n",
    "xs = x2.sum()\n",
    "print('xs', xs)\n",
    "vector_norm = np.sqrt(xs)\n",
    "print('vector_norm', vector_norm)\n",
    "vector_norm = np.linalg.norm(x)\n",
    "print('vector_norm', vector_norm)\n",
    "vector_norm = np.sqrt(sum(x**2))\n",
    "print('vector_norm', vector_norm)\n",
    "wt = w.T\n",
    "print('wt', wt, wt.shape)\n",
    "vector_dotprod = np.dot(wt, x)\n",
    "print('vector_dotprod', vector_dotprod)\n",
    "vector_dotprod = np.sum(np.multiply(w,x))\n",
    "print('vector_dotprod', vector_dotprod)\n",
    "vector_dotprod = np.dot(w, x)\n",
    "print('vector_dotprod', vector_dotprod)\n",
    "vector_outerprod = np.outer(w,x.T)\n",
    "print('vector_outerprod', vector_outerprod)\n",
    "mat_mult = np.matmul(vector_outerprod,A)\n",
    "print('mat_mult', mat_mult)"
   ]
  },
  {
   "cell_type": "code",
   "execution_count": 50,
   "metadata": {},
   "outputs": [
    {
     "name": "stdout",
     "output_type": "stream",
     "text": [
      "vector_sum 10\n",
      "vector_norm 5.477225575051661\n",
      "vector_dotprod 4.834752204393583\n",
      "vector_outerprod [[0.         0.37454012 0.74908024 1.12362036 1.49816048]\n",
      " [0.         0.95071431 1.90142861 2.85214292 3.80285723]\n",
      " [0.         0.73199394 1.46398788 2.19598183 2.92797577]\n",
      " [0.         0.59865848 1.19731697 1.79597545 2.39463394]\n",
      " [0.         0.15601864 0.31203728 0.46805592 0.62407456]]\n",
      "mat_mult [[ 33.7086107   37.45401188  41.19941307]\n",
      " [ 85.56428758  95.07143064 104.57857371]\n",
      " [ 65.87945476  73.19939418  80.5193336 ]\n",
      " [ 53.87926358  59.86584842  65.85243326]\n",
      " [ 14.04167764  15.60186404  17.16205045]]\n"
     ]
    }
   ],
   "source": [
    "# %load R0_data/solutions/student-task-5.py\n",
    "vector_sum = x.sum()\n",
    "print('vector_sum', vector_sum)\n",
    "vector_norm = np.sqrt(sum(x**2))\n",
    "print('vector_norm', vector_norm)\n",
    "vector_dotprod = w.dot(x)\n",
    "print('vector_dotprod', vector_dotprod)\n",
    "vector_outerprod = np.outer(w,x)\n",
    "print('vector_outerprod', vector_outerprod)\n",
    "mat_mult = vector_outerprod@A\n",
    "print('mat_mult', mat_mult)"
   ]
  }
 ],
 "metadata": {
  "kernelspec": {
   "display_name": "Python 3",
   "language": "python",
   "name": "python3"
  },
  "language_info": {
   "codemirror_mode": {
    "name": "ipython",
    "version": 3
   },
   "file_extension": ".py",
   "mimetype": "text/x-python",
   "name": "python",
   "nbconvert_exporter": "python",
   "pygments_lexer": "ipython3",
   "version": "3.6.9"
  },
  "nbdime-conflicts": {
   "local_diff": [
    {
     "diff": [
      {
       "diff": [
        {
         "diff": [
          {
           "key": 4,
           "op": "addrange",
           "valuelist": "3"
          },
          {
           "key": 4,
           "length": 1,
           "op": "removerange"
          }
         ],
         "key": 0,
         "op": "patch"
        }
       ],
       "key": "version",
       "op": "patch"
      }
     ],
     "key": "language_info",
     "op": "patch"
    }
   ],
   "remote_diff": [
    {
     "diff": [
      {
       "diff": [
        {
         "diff": [
          {
           "key": 4,
           "op": "addrange",
           "valuelist": "4"
          },
          {
           "key": 4,
           "length": 1,
           "op": "removerange"
          }
         ],
         "key": 0,
         "op": "patch"
        }
       ],
       "key": "version",
       "op": "patch"
      }
     ],
     "key": "language_info",
     "op": "patch"
    }
   ]
  },
  "toc": {
   "base_numbering": 1,
   "nav_menu": {},
   "number_sections": false,
   "sideBar": true,
   "skip_h1_title": false,
   "title_cell": "Table of Contents",
   "title_sidebar": "Contents",
   "toc_cell": false,
   "toc_position": {
    "height": "507.275px",
    "left": "23.975px",
    "top": "145.5px",
    "width": "233.9791717529297px"
   },
   "toc_section_display": true,
   "toc_window_display": true
  },
  "varInspector": {
   "cols": {
    "lenName": 16,
    "lenType": 16,
    "lenVar": 40
   },
   "kernels_config": {
    "python": {
     "delete_cmd_postfix": "",
     "delete_cmd_prefix": "del ",
     "library": "var_list.py",
     "varRefreshCmd": "print(var_dic_list())"
    },
    "r": {
     "delete_cmd_postfix": ") ",
     "delete_cmd_prefix": "rm(",
     "library": "var_list.r",
     "varRefreshCmd": "cat(var_dic_list()) "
    }
   },
   "oldHeight": 194.85,
   "position": {
    "height": "216.85px",
    "left": "1417px",
    "right": "18px",
    "top": "126px",
    "width": "485px"
   },
   "types_to_exclude": [
    "module",
    "function",
    "builtin_function_or_method",
    "instance",
    "_Feature"
   ],
   "varInspector_section_display": "block",
   "window_display": false
  }
 },
 "nbformat": 4,
 "nbformat_minor": 2
}
