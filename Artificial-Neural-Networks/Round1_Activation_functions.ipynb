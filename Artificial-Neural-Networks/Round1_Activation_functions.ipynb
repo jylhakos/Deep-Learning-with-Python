{
 "cells": [
  {
   "cell_type": "markdown",
   "metadata": {
    "deletable": false,
    "editable": false,
    "nbgrader": {
     "cell_type": "markdown",
     "checksum": "f72d5e0649f7074934728c3b4af6d58e",
     "grade": false,
     "grade_id": "cell-3c4b6bcdcc0838c0",
     "locked": true,
     "schema_version": 3,
     "solution": false,
     "task": false
    }
   },
   "source": [
    "## Activation functions. Demo.\n",
    "\n",
    "The inputs of the artificial neuron are weighted and summed up in $z = b+w_{1}x_{1}+...+w_{n}x_{n}$.\n",
    "The artificial neuron then applies a non-linear **activation function** to the weighted sum $z$. The output $g(z)$ of a neuron is often referred to as the **activation**. \n",
    "In this demo you can see how activation functions introduce non-linearity into the ANN model. As an example, we will use simple ANN only with a few neurons:\n",
    "\n",
    "<img src=\"R1/actfunc.png\" width=\"600\">\n",
    "\n",
    "The code is stored in 'actfunctions.py' file and function `actfunctions` is loaded from there. The inputs and outputs of this ANN's hidden units are visualized and parameters of the model (weights and biases) can be interactively modified in some range.\\\n",
    "After executing the cell with the function, the window will pop-up and will ask to enter the mode - `actfunc` or `gradient`.\\\n",
    "Type in one of the options, then enter the name of the activation function and start changing model parameters with sliders.\\\n",
    "The `actfunc` is a function, which will plot selected activation function and print some info about it. Interactive plots corresponding to ANN discussed above will be also displayed. Try to change the parameters of the model and see how this will affect the output. Note the differences between activation functions.\\\n",
    "The `gradient` is a function for demonstrating the local gradient of the activation function. Note the differences between gradients of different activation functions and think what consequences this can have for the full gradient of the network and weights updates.\\\n",
    "You can read more about activation functions [here](https://cs231n.github.io/neural-networks-1/#actfun) and watch corresponding [lecture](https://www.youtube.com/watch?v=d14TUNcbn1k&list=PL3FW7Lu3i5JvHM8ljYj-zLfQRF3EO8sYv&index=4) from Stanford Computer Vision course."
   ]
  },
  {
   "cell_type": "code",
   "execution_count": null,
   "metadata": {
    "deletable": false,
    "editable": false,
    "nbgrader": {
     "cell_type": "code",
     "checksum": "6e2cf47e9dd7d857a0f53da9dc7ae71e",
     "grade": false,
     "grade_id": "cell-2d8afd9168a053cd",
     "locked": true,
     "schema_version": 3,
     "solution": false,
     "task": false
    }
   },
   "outputs": [],
   "source": [
    "from actfunctions import actfunctions"
   ]
  },
  {
   "cell_type": "code",
   "execution_count": null,
   "metadata": {
    "deletable": false,
    "editable": false,
    "nbgrader": {
     "cell_type": "code",
     "checksum": "d11c3059db5af6a4324d68960cdd6df5",
     "grade": false,
     "grade_id": "cell-4605ac462c0ad96e",
     "locked": true,
     "schema_version": 3,
     "solution": false,
     "task": false
    }
   },
   "outputs": [],
   "source": [
    "actfunctions()"
   ]
  }
 ],
 "metadata": {
  "kernelspec": {
   "display_name": "Python 3",
   "language": "python",
   "name": "python3"
  },
  "language_info": {
   "codemirror_mode": {
    "name": "ipython",
    "version": 3
   },
   "file_extension": ".py",
   "mimetype": "text/x-python",
   "name": "python",
   "nbconvert_exporter": "python",
   "pygments_lexer": "ipython3",
   "version": "3.8.6"
  },
  "toc": {
   "base_numbering": 1,
   "nav_menu": {},
   "number_sections": true,
   "sideBar": true,
   "skip_h1_title": false,
   "title_cell": "Table of Contents",
   "title_sidebar": "Contents",
   "toc_cell": false,
   "toc_position": {},
   "toc_section_display": true,
   "toc_window_display": false
  },
  "varInspector": {
   "cols": {
    "lenName": 16,
    "lenType": 16,
    "lenVar": 40
   },
   "kernels_config": {
    "python": {
     "delete_cmd_postfix": "",
     "delete_cmd_prefix": "del ",
     "library": "var_list.py",
     "varRefreshCmd": "print(var_dic_list())"
    },
    "r": {
     "delete_cmd_postfix": ") ",
     "delete_cmd_prefix": "rm(",
     "library": "var_list.r",
     "varRefreshCmd": "cat(var_dic_list()) "
    }
   },
   "types_to_exclude": [
    "module",
    "function",
    "builtin_function_or_method",
    "instance",
    "_Feature"
   ],
   "window_display": false
  }
 },
 "nbformat": 4,
 "nbformat_minor": 4
}
